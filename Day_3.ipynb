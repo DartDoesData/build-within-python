{
  "cells": [
    {
      "cell_type": "markdown",
      "metadata": {
        "id": "view-in-github",
        "colab_type": "text"
      },
      "source": [
        "<a href=\"https://colab.research.google.com/github/DartDoesData/python-practice/blob/main/Day_3_(part_1).ipynb\" target=\"_parent\"><img src=\"https://colab.research.google.com/assets/colab-badge.svg\" alt=\"Open In Colab\"/></a>"
      ]
    },
    {
      "cell_type": "markdown",
      "metadata": {
        "id": "zd6IIgQw1IXb"
      },
      "source": [
        "# Day 3\n",
        "## Strings and Loops\n",
        "* Strings and string functions\n",
        "* For loops\n",
        "\n",
        "\n",
        "## Helpful Reading\n",
        "* [`f` strings](https://www.freecodecamp.org/news/python-f-strings-tutorial-how-to-use-f-strings-for-string-formatting/)\n",
        "* [`range` function](https://www.w3schools.com/python/ref_func_range.asp)\n",
        "* [`for` loops in Python](https://www.w3schools.com/python/python_for_loops.asp)\n"
      ]
    },
    {
      "cell_type": "markdown",
      "metadata": {
        "id": "ek__k78-1IXc"
      },
      "source": [
        "## 📝 Conditional logic"
      ]
    },
    {
      "cell_type": "markdown",
      "metadata": {
        "id": "VcNI6WTV1IXc"
      },
      "source": [
        "## `If/else` statements\n",
        "🕮 [Helpful reading](https://www.w3schools.com/python/python_conditions.asp)\n",
        "\n",
        "### Practice problem 1 `if/else` statements (we'll do this together)\n",
        "Use an `if/else` code block to check if the user-supplied password from the variable `password_in` is correct.\n",
        "\n",
        "* If the password is correct, print `Access granted`\n",
        "* If the password is not correct, print `Access denied`"
      ]
    },
    {
      "cell_type": "code",
      "execution_count": null,
      "metadata": {
        "id": "6uAbPFb11IXd"
      },
      "outputs": [],
      "source": [
        "# assign the correct password to the `password` variable\n",
        "password = 'Bu!ldWithiN!'\n",
        "\n",
        "# prompt the user for the correct password and store it in the `password_in` variable\n",
        "password_in = input('Enter password: ')\n",
        "\n",
        "# write an if/else statement to indicate to the user if the password is correct\n",
        "# YOUR CODE HERE"
      ]
    },
    {
      "cell_type": "markdown",
      "metadata": {
        "id": "w0Ejl-vH1IXd"
      },
      "source": [
        "### Practice problem 2: Debuggling\n",
        "Evaluate the error messages in the console to fix the code in the block below.\n",
        "\n",
        "The code should do the following:\n",
        "1. Accept the name and assign it to the `name` variable\n",
        "\n",
        "2. Greet the user with their name using an `f` string\n",
        "\n",
        "3. Prompt the user for their lucky number\n",
        "\n",
        "    a. If the user's lucky number is `7`, print `Lucky seven. Lucky you.`\n",
        "    \n",
        "    b. If the user's lucky number is `11`, print `Nice. Feeling the energy!`\n",
        "    \n",
        "    c. If the user's lucky number is `21`, print `Blackjack!`\n",
        "    \n",
        "    d. Otherwise, print `Today is not your lucky day.`\n",
        "    \n",
        "If you get no output, think about why. HINT: you may need to `cast` your input to a string."
      ]
    },
    {
      "cell_type": "code",
      "execution_count": null,
      "metadata": {
        "id": "6d8dX_iA1IXd"
      },
      "outputs": [],
      "source": [
        "# Enter your name and assign it to a variable\n",
        "name = input('Please enter your name: ')\n",
        "\n",
        "# Output the name to the console\n",
        "print(name)\n",
        "\n",
        "# Prompt the user for their lucky number\n",
        "# HINT! When data is read in through the input function, it always comes through as a STRING\n",
        "lucky_number = 1nput ('Enter your lucky number: ')\n",
        "\n",
        "# Set up an if/elif/else statement to evaluate if the number is 7, 11, or 21\n",
        "if lucky_number = 7\n",
        "    print('Lucky seven. Lucky you.')\n",
        "else if lucky_number = 11:\n",
        "    print{'Nice. Feeling the energy!\")\n",
        "elif lucky_numbr == 21:\n",
        "    print 'Blackjack!'\n",
        "elif\n",
        "    print('Today is not your lucky day.')"
      ]
    },
    {
      "cell_type": "markdown",
      "metadata": {
        "id": "o0GOlAhI1IXe"
      },
      "source": [
        "## 📝 Loops"
      ]
    },
    {
      "cell_type": "markdown",
      "metadata": {
        "id": "TSo27vgW1IXe"
      },
      "source": [
        "### For Loops\n",
        "🕮 [Helpful reading](https://www.w3schools.com/python/python_for_loops.asp)\n",
        "\n",
        "A for loop is used for iterating over a sequence (that is either a list, a tuple, a dictionary, a set, or a string).\n",
        "\n",
        "With the for loop we can execute a set of statements, once for each item in a list, tuple, set etc."
      ]
    },
    {
      "cell_type": "code",
      "execution_count": null,
      "metadata": {
        "id": "V3D4yoOr1IXe"
      },
      "outputs": [],
      "source": [
        "ssn = '887990123'\n",
        "\n",
        "lastfour = ssn[5:]\n",
        "\n",
        "print(lastfour)"
      ]
    },
    {
      "cell_type": "code",
      "execution_count": null,
      "metadata": {
        "id": "2mzhEpb01IXe"
      },
      "outputs": [],
      "source": [
        "# run the loop three times\n",
        "for x in range(3):\n",
        "    lastfour_in = input('Enter the last four of your SSN: ')\n",
        "\n",
        "    if lastfour == lastfour_in:\n",
        "        print('Correct')\n",
        "    else:\n",
        "        print('Not correct')"
      ]
    },
    {
      "cell_type": "markdown",
      "metadata": {
        "id": "BxU1ilHD1IXe"
      },
      "source": [
        "A `for` loop moves through a given range of numbers.\n",
        "\n",
        "If only one number is provided it will loop from 0 to that number.\n",
        "\n",
        "```\n",
        "for x in range(1,11):\n",
        "    print(x)\n",
        "```"
      ]
    },
    {
      "cell_type": "code",
      "execution_count": null,
      "metadata": {
        "id": "0mbKhArH1IXe"
      },
      "outputs": [],
      "source": [
        "for x in range(1,11):\n",
        "    print(x)"
      ]
    },
    {
      "cell_type": "markdown",
      "metadata": {
        "id": "YDINoZ_G1IXe"
      },
      "source": [
        "If two numbers are provided then a For loop will loop from the first number up until it reaches the second number."
      ]
    },
    {
      "cell_type": "code",
      "execution_count": null,
      "metadata": {
        "id": "YbkG-NOi1IXe"
      },
      "outputs": [],
      "source": [
        "for x in range(20, 31, 2):\n",
        "    print(x)"
      ]
    },
    {
      "cell_type": "markdown",
      "metadata": {
        "id": "kNTln-ru1IXe"
      },
      "source": [
        "Loop through a range of numbers (2 through 6 - yes 6! Up to, but not including, 7)."
      ]
    },
    {
      "cell_type": "code",
      "execution_count": null,
      "metadata": {
        "id": "xmPUe7lX1IXe"
      },
      "outputs": [],
      "source": [
        "for x in range(2, 7):\n",
        "    print(x)"
      ]
    },
    {
      "cell_type": "markdown",
      "metadata": {
        "id": "-cA7TG4O1IXf"
      },
      "source": [
        "Examples of iterating through letters in a string."
      ]
    },
    {
      "cell_type": "code",
      "execution_count": null,
      "metadata": {
        "id": "1h3-hn7F1IXf"
      },
      "outputs": [],
      "source": [
        "# Iterate through letters in a string\n",
        "word = \"Artificial Intelligence\"\n",
        "\n",
        "for l in word:\n",
        "    print(l)"
      ]
    },
    {
      "cell_type": "code",
      "execution_count": null,
      "metadata": {
        "id": "QhmfR09U1IXf"
      },
      "outputs": [],
      "source": [
        "# Iterate through letters in a string\n",
        "word = \"Analysis\"\n",
        "\n",
        "for l in range(len(word)):\n",
        "    print(f\"{word[l]} is character {l + 1} in the word {word}\")"
      ]
    },
    {
      "cell_type": "code",
      "execution_count": null,
      "metadata": {
        "id": "Mjejon9_1IXf"
      },
      "outputs": [],
      "source": [
        "length_of_word = len(word)\n",
        "\n",
        "for l in range(length_of_word):\n",
        "    char = word[l]\n",
        "    char_num = l + 1\n",
        "    print(f\"{char} is character {char_num} in the word {word}\")"
      ]
    },
    {
      "cell_type": "code",
      "execution_count": null,
      "metadata": {
        "id": "JEi1E8ze1IXf"
      },
      "outputs": [],
      "source": [
        "# Iterate through a list\n",
        "locations = [\"Washington, DC\", \"New York\", 'Chicago']\n",
        "for loc in locations:\n",
        "    print(f'The city is {loc}')"
      ]
    },
    {
      "cell_type": "code",
      "execution_count": null,
      "metadata": {
        "id": "ULSixd2C1IXf"
      },
      "outputs": [],
      "source": [
        "locations.sort()\n",
        "locations"
      ]
    },
    {
      "cell_type": "code",
      "execution_count": null,
      "metadata": {
        "colab": {
          "base_uri": "https://localhost:8080/"
        },
        "id": "GxvGgF7k1IXf",
        "outputId": "6a816fc2-48cc-493e-bb30-035c3b66ac01"
      },
      "outputs": [
        {
          "output_type": "stream",
          "name": "stdout",
          "text": [
            "The role is Artificial Intelligence\n",
            "The role is Data Analytics\n",
            "The role is Web Development\n",
            "The role is FinTech\n",
            "The role is Product\n"
          ]
        }
      ],
      "source": [
        "# Iterate through a list\n",
        "tech_professions = ['Artificial Intelligence', 'Data Analytics', 'Web Development', 'FinTech', 'Product']\n",
        "for t in tech_professions:\n",
        "    print(f'The role is {t}')\n",
        "\n",
        "#But wait! Why don't I see the individual professions???"
      ]
    },
    {
      "cell_type": "markdown",
      "metadata": {
        "id": "l8pRyY_81IXf"
      },
      "source": [
        "## 📝 Practice Exercise\n",
        "\n",
        "### Practice Exercise 1\n",
        "\n",
        "Loop through the `client_names` and `client_balances` lists to produce the output below:\n",
        "\n",
        "```\n",
        "Dartanion has a balance of 250000.\n",
        "Deangelo has a balance of 275000.\n",
        "Dartie has a balance of 285000.\n",
        "```\n",
        "\n",
        "NOTE: There are many many ways to skin this cat!"
      ]
    },
    {
      "cell_type": "code",
      "execution_count": null,
      "metadata": {
        "id": "T4iyhKnH1IXf"
      },
      "outputs": [],
      "source": [
        "client_names = ['Dartanion', 'Deangelo', 'Dartie']\n",
        "client_balances = [250000, 275000, 285000]\n",
        "\n",
        "# YOUR CODE HERE"
      ]
    },
    {
      "cell_type": "markdown",
      "metadata": {
        "id": "bXvN4YLI1IXg"
      },
      "source": [
        "### Practice Exercise 2\n",
        "\n",
        "1. Prompt the user to enter their ATM pin. The user has **three attempts** to enter the correct pin. (hint: use a `for` loop).\n",
        "2. After they've entered their pin successfully, ask the user how much do they want to withdraw.\n",
        "    1. If they've got sufficient funds:\n",
        "        1. Let the user know that their funds are on the way and display their new balance.\n",
        "    2. If do not have sufficient funds and have overdraft protection enabled:\n",
        "        1. Consider their current balance and the overdraft protection limit to determine if the transction should be approved.\n",
        "        2. If approved, let the user know that (1) overdraft protection has them covered and (2) their funds are on the way and display their new balance.\n",
        "    3. If the withdrawal is denied, let the user know that they've got insufficient funds.\n",
        "\n",
        "**Your variables:**<br/>\n",
        "`atm_pin = '1398'` <br/>\n",
        "`account_balance = 500` <br/>\n",
        "`overdraft_protection = True` <br/>\n",
        "`overdraft_protection_limit = 200` <br/>"
      ]
    },
    {
      "cell_type": "markdown",
      "metadata": {
        "id": "hK1RsIg91IXg"
      },
      "source": [
        "### Sample output from the warm up\n",
        "\n",
        "#### Test case 1: Sufficient funds\n",
        "```\n",
        "Please enter your ATM pin: 1398\n",
        "How much do you want to withdraw: 360\n",
        "Your funds are on the way! Your new balance is 140.0\n",
        "Thank you for banking with us. Have a great day.\n",
        "```\n",
        "\n",
        "#### Test case 2: Sufficient funds (with overdraft protection)\n",
        "```\n",
        "Please enter your ATM pin: 1398\n",
        "How much do you want to withdraw: 562.50\n",
        "Overdraft protection has got you covered!\n",
        "Your funds are on the way! Your new balance is -62.5\n",
        "Thank you for banking with us. Have a great day.\n",
        "```\n",
        "\n",
        "#### Test case 3: Insufficent funds\n",
        "```\n",
        "Please enter your ATM pin: 1398\n",
        "How much do you want to withdraw: 729\n",
        "Insufficient funds.\n",
        "Thank you for banking with us. Have a great day.\n",
        "```\n",
        "\n",
        "#### Test case 4: Invalid pin\n",
        "```\n",
        "Please enter your ATM pin: 1239\n",
        "Invalid ATM pin\n",
        "Please enter your ATM pin: 1192\n",
        "Invalid ATM pin\n",
        "Please enter your ATM pin: 1999\n",
        "Invalid ATM pin\n",
        "Thank you for banking with us. Have a great day.\n",
        "```"
      ]
    },
    {
      "cell_type": "code",
      "execution_count": null,
      "metadata": {
        "id": "GikrTBY-1IXg"
      },
      "outputs": [],
      "source": [
        "# We will walk through pseudocode in class\n",
        "\n",
        "atm_pin = '1398' # discussion: why should this be a string and NOT an integer?\n",
        "account_balance = 500.00\n",
        "overdraft_protection = True\n",
        "overdraft_protection_limit = 200.00\n",
        "\n",
        "#create your loop (should run up to three times)\n",
        "for x in range(#your code here):\n",
        "\n",
        "    #prompt the user for their ATM pin\n",
        "    atm_pin_in = #your code here\n",
        "\n",
        "    # set up an if statement to compare the atm_pin to what the user entered\n",
        "    # the program will continue if the pin is correct\n",
        "\n",
        "    #your code here:\n",
        "\n",
        "        # prompt the user for the withdrawal amount\n",
        "        # remember to cast that input to a numeric data type\n",
        "\n",
        "        # set up an if/elif/else statement to\n",
        "        #    (1) dispense funds if the balance is sufficient (if)\n",
        "        #    (2) dispense funds if the balance is sufficient with OD protection (elif)\n",
        "        #    (3) notify the user of insufficient funds (else)\n",
        "\n",
        "        # your code here\n",
        "\n",
        "# outside of the loop, thank the user for banking with them\n",
        "# your code here"
      ]
    }
  ],
  "metadata": {
    "kernelspec": {
      "display_name": "Python 3 (ipykernel)",
      "language": "python",
      "name": "python3"
    },
    "language_info": {
      "codemirror_mode": {
        "name": "ipython",
        "version": 3
      },
      "file_extension": ".py",
      "mimetype": "text/x-python",
      "name": "python",
      "nbconvert_exporter": "python",
      "pygments_lexer": "ipython3",
      "version": "3.12.4"
    },
    "colab": {
      "provenance": [],
      "include_colab_link": true
    }
  },
  "nbformat": 4,
  "nbformat_minor": 0
}
