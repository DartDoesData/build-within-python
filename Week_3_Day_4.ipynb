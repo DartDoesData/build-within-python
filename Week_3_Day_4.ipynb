{
  "nbformat": 4,
  "nbformat_minor": 0,
  "metadata": {
    "colab": {
      "provenance": [],
      "authorship_tag": "ABX9TyPj/IXgAwjXpSXIyR87fduh",
      "include_colab_link": true
    },
    "kernelspec": {
      "name": "python3",
      "display_name": "Python 3"
    },
    "language_info": {
      "name": "python"
    }
  },
  "cells": [
    {
      "cell_type": "markdown",
      "metadata": {
        "id": "view-in-github",
        "colab_type": "text"
      },
      "source": [
        "<a href=\"https://colab.research.google.com/github/DartDoesData/python-practice/blob/main/Week_3_Day_4.ipynb\" target=\"_parent\"><img src=\"https://colab.research.google.com/assets/colab-badge.svg\" alt=\"Open In Colab\"/></a>"
      ]
    },
    {
      "cell_type": "markdown",
      "source": [
        "# Week 3 Day 4 - Google Maps API, Functions, and Data Processing\n",
        "\n",
        "## Helpful links\n",
        "\n",
        "- [Python Requests library](https://realpython.com/python-requests/)\n",
        "- [Google Cloud Platform](https://console.cloud.google.com/)\n",
        "- [Google Maps Platform](https://mapsplatform.google.com/)\n",
        "\n",
        "<br>\n",
        "\n",
        "---"
      ],
      "metadata": {
        "id": "sX6qqLu_ZEtQ"
      }
    },
    {
      "cell_type": "markdown",
      "source": [
        "## 💻 Exercise 1: Geocode a Location 💻\n",
        "\n",
        "📖 [Google Maps Geocoding API Documentation](https://developers.google.com/maps/documentation/geocoding)\n",
        "\n",
        "<br/>\n",
        "\n",
        "In this exercise, we’ll use the **Google Maps Geocoding API** to find the coordinates (latitude and longitude) of a specific address.\n",
        "\n",
        "**What is Geocoding?**\n",
        "- **Geocoding** is the process of converting an address or place name (like “900 19th St NW, Washington, DC”) into geographic coordinates. These coordinates can be useful for mapping, distance calculations, and other location-based tasks.\n",
        "  \n",
        "We’ll use the Google Maps Geocoding API to:\n",
        "1. Send an address to Google Maps.\n",
        "2. Receive a response with latitude and longitude coordinates for that address.\n",
        "\n",
        "The goal is for you to be able to make a request to the Geocoding API, check for a successful response, and extract the location coordinates from the data returned.\n",
        "\n",
        "### Instructions\n",
        "\n",
        "Follow the code below and see how each part works to get the coordinates for the address specified."
      ],
      "metadata": {
        "id": "QqqKW_W2RPpO"
      }
    },
    {
      "cell_type": "code",
      "source": [
        "import requests\n",
        "\n",
        "# API endpoint\n",
        "geocode_url = \"https://maps.googleapis.com/maps/api/geocode/json\"\n",
        "\n",
        "# Request parameters\n",
        "geocode_params = {\n",
        "    \"address\": \"900 19th ST NW Washington, DC\",\n",
        "    \"key\": GOOGLE_API_KEY\n",
        "}\n",
        "\n",
        "# Make the request\n",
        "geocode_response = requests.get(geocode_url, params=geocode_params)\n",
        "\n",
        "# Process the response\n",
        "if geocode_response.status_code == 200:\n",
        "    geocode_data = geocode_response.json().get(\"results\", [])\n",
        "    if geocode_data:\n",
        "        location = geocode_data[0][\"geometry\"][\"location\"]\n",
        "        lat, lng = location[\"lat\"], location[\"lng\"]\n",
        "        print(f\"Coordinates: Latitude {lat}, Longitude {lng}\")\n",
        "else:\n",
        "    print(\"Error:\", geocode_response.status_code)"
      ],
      "metadata": {
        "id": "BpFiFTPTRTUg"
      },
      "execution_count": null,
      "outputs": []
    },
    {
      "cell_type": "markdown",
      "source": [
        "## 💻 Practice Activity 1: Geocode Washington, DC 💻\n",
        "\n",
        "📖 [Google Maps Geocoding API Documentation](https://developers.google.com/maps/documentation/geocoding)\n",
        "\n",
        "In this activity, you’ll use the **Google Maps Geocoding API** to find the coordinates for Washington, DC, and store them in a tuple. This will give you practice extracting and organizing location data from the API response.\n",
        "\n",
        "### Instructions\n",
        "\n",
        "1. **Make a Request to Geocode Washington, DC**\n",
        "   - Use the **Geocoding API** to look up the location of **Washington, DC**. Remember to specify the address as `\"Washington, DC\"` in your parameters.\n",
        "   \n",
        "2. **Extract the Coordinates**\n",
        "   - Once you receive a successful response, access the `latitude` and `longitude` values from the JSON data. These values will be in the `\"geometry\" -> \"location\"` section of the response.\n",
        "   \n",
        "3. **Store the Coordinates in a Tuple**\n",
        "   - Create a tuple called `coordinates` that holds the latitude and longitude values. A tuple is a way to store multiple values together in one variable. For example: `(latitude, longitude)`.\n",
        "\n",
        "4. **Output the Result**\n",
        "   - Print the `coordinates` tuple to confirm you’ve stored the values correctly.\n",
        "\n",
        "### Expected Output\n",
        "\n",
        "When done, the value of your `coordinates` variable should be:\n",
        "```python\n",
        "(38.9071923, -77.0368707)\n",
        "```\n",
        "\n",
        "> **Hint**: Refer back to the example code to see how to extract the `latitude` and `longitude` fields."
      ],
      "metadata": {
        "id": "16Hafl22R0GI"
      }
    },
    {
      "cell_type": "code",
      "source": [
        "# YOUR CODE HERE"
      ],
      "metadata": {
        "id": "RajMzxrsR6SW"
      },
      "execution_count": null,
      "outputs": []
    },
    {
      "cell_type": "markdown",
      "source": [
        "## 💻 Exercise 2: Get a Place ID Using the Google Maps API 💻\n",
        "\n",
        "In this exercise, we’ll use the Google Maps API to find a specific place, **Mastro’s Restaurant in Washington, DC**, and retrieve its unique **Place ID**.\n",
        "\n",
        "**What is a Place ID?**\n",
        "- The **Place ID** is a unique identifier for a location within Google Maps. It can be used in other API requests to get more information about the place, like reviews or photos.\n",
        "\n",
        "Follow the code below to see how to search for a place and extract its Place ID."
      ],
      "metadata": {
        "id": "hXXM8a4NWW3N"
      }
    },
    {
      "cell_type": "code",
      "source": [
        "# Import the requests library to make HTTP requests\n",
        "import requests\n",
        "\n",
        "# Step 1: Define the API endpoint\n",
        "# This is the specific URL for the 'findplacefromtext' endpoint, which lets us search for a place by its name\n",
        "find_place_url = \"https://maps.googleapis.com/maps/api/place/findplacefromtext/json\"\n",
        "\n",
        "# Step 2: Set up parameters for the request\n",
        "# Each parameter customizes what we're asking Google to do\n",
        "find_place_params = {\n",
        "    \"input\": \"Mastro's Restaurant, Washington DC\",  # The place we're searching for\n",
        "    \"inputtype\": \"textquery\",                       # Specifies we're using a text search\n",
        "    \"fields\": \"place_id,name,geometry\",             # Specifies which details we want in the response\n",
        "    \"key\": GOOGLE_API_KEY                           # Our API key, needed to access the API\n",
        "}\n",
        "\n",
        "# Step 3: Send the request\n",
        "# Here, we use requests.get() to send a GET request to the API with the URL and parameters\n",
        "find_place_response = requests.get(find_place_url, params=find_place_params)\n",
        "\n",
        "# Step 4: Check if the request was successful\n",
        "# Status code 200 means the request worked, so we can move on to process the data\n",
        "if find_place_response.status_code == 200:\n",
        "    # Step 5: Access the data in the response\n",
        "    # The 'candidates' key contains our search results\n",
        "    place_data = find_place_response.json().get(\"candidates\", [])\n",
        "\n",
        "    # Step 6: Extract the Place ID and Place Name\n",
        "    # If there's data in the 'candidates' list, we can pull out the Place ID and Name\n",
        "    if place_data:\n",
        "        place_id = place_data[0][\"place_id\"]  # Get the Place ID\n",
        "        place_name = place_data[0][\"name\"]    # Get the Place Name\n",
        "\n",
        "        # Step 7: Display the Place Name and Place ID\n",
        "        print(f\"Place Name: {place_name}\")\n",
        "        print(f\"Place ID: {place_id}\")\n",
        "else:\n",
        "    # If the request wasn't successful, print an error message with the status code\n",
        "    print(\"Error:\", find_place_response.status_code)"
      ],
      "metadata": {
        "id": "6oZcjEq2WYgP"
      },
      "execution_count": null,
      "outputs": []
    },
    {
      "cell_type": "markdown",
      "source": [
        "## 💻 Practice Exercise 2: Write a Function to Retrieve a Place ID 💻\n",
        "\n",
        "In this exercise, you’ll create a function that takes a place name as input, queries the Google Maps API for that place, and returns its unique Place ID. This exercise builds on what you learned in the previous exercise.\n",
        "\n",
        "### Instructions\n",
        "\n",
        "1. **Define the Function**  \n",
        "   - Write a function named `get_place_id` that accepts one parameter, `place_name`. This parameter represents the name of the place you want to look up.\n",
        "\n",
        "2. **Query the API**  \n",
        "   - Inside the function, use the **Google Maps API** to search for the place by name.  \n",
        "   - Remember to set up the request parameters, including:\n",
        "     - The `input` parameter, which should be set to the `place_name` variable.\n",
        "     - The other required parameters (`inputtype`, `fields`, and `key`) as shown in the previous exercise.\n",
        "\n",
        "3. **Return the Place ID**  \n",
        "   - After making the request and receiving a successful response, extract the `place_id` from the API’s JSON response.\n",
        "   - Have the function return this `place_id`.\n",
        "\n",
        "4. **Test the Function**  \n",
        "   - Call your `get_place_id` function with a sample place name (e.g., \"Mastro's Restaurant, Washington DC\") and print the result to ensure the function returns the correct Place ID.\n",
        "   \n",
        "### Example\n",
        "\n",
        "```python\n",
        "# Example function call\n",
        "place_id = get_place_id(\"Mastro's Restaurant, Washington DC\")\n",
        "print(\"Place ID:\", place_id)\n",
        "```\n",
        "\n",
        "### Expected Output\n",
        "\n",
        "If implemented correctly, calling `get_place_id` with a valid place name should print the Place ID to the console.\n",
        "\n",
        "### Tips\n",
        "\n",
        "- **Use Previous Code as Reference**: Refer back to the previous example to see how the API request and response processing were handled.\n",
        "- **Error Handling**: Consider adding a check in your function to handle cases where the API doesn’t return any results.\n"
      ],
      "metadata": {
        "id": "5Qet-VDTWvcd"
      }
    },
    {
      "cell_type": "markdown",
      "source": [
        "## 💻 Exercise 3: Find Nearby Restaurants 💻\n",
        "Use the Nearby Search request to find restaurants near a given location.\n",
        "\n",
        "This API will help you locate nearby restaurants within a specified radius, providing the name, rating, and address of each restaurant.\n",
        "\n",
        "* Endpoint: `https://maps.googleapis.com/maps/api/place/nearbysearch/json`\n",
        "* Parameters:\n",
        "  - `location`: The latitude and longitude of the search center.\n",
        "  - `radius`: The search radius in meters.\n",
        "  - `type`: Set to restaurant."
      ],
      "metadata": {
        "id": "52OseYJHK5wu"
      }
    },
    {
      "cell_type": "code",
      "source": [
        "# Endpoint and parameters for nearby search\n",
        "url = \"https://maps.googleapis.com/maps/api/place/nearbysearch/json\"\n",
        "params = {\n",
        "    \"location\": \"38.9071923,-77.0368707\",  # DC Coordinates\n",
        "    \"radius\": 1000,  # in meters\n",
        "    \"type\": \"restaurant\",\n",
        "    \"key\": GOOGLE_API_KEY\n",
        "}\n",
        "\n",
        "# Make the request\n",
        "response = requests.get(url, params=params)\n",
        "if response.status_code == 200:\n",
        "    places = response.json().get(\"results\", [])\n",
        "    print(\"Nearby Restaurants:\")\n",
        "    for place in places:\n",
        "        print(f\"Name: {place['name']}\")\n",
        "        print(f\"Rating: {place.get('rating', 'N/A')}\")\n",
        "        print(f\"Address: {place.get('vicinity', 'N/A')}\")\n",
        "        print(\"-----\")\n",
        "else:\n",
        "    print(\"Error:\", response.status_code)\n"
      ],
      "metadata": {
        "id": "M_fOCGoCBjg6"
      },
      "execution_count": null,
      "outputs": []
    },
    {
      "cell_type": "markdown",
      "source": [
        "## 💻 Practice activity 3 💻\n",
        "\n",
        "Query the API endpoint and convert the output from the sample exercise into a DataFrame. The DataFrame should contain at least the `Name`, `Rating` and `Address` columns."
      ],
      "metadata": {
        "id": "h0kWvsfrRuHZ"
      }
    },
    {
      "cell_type": "code",
      "source": [
        "# YOUR CODE HERE"
      ],
      "metadata": {
        "id": "nbCQc9-LRtib"
      },
      "execution_count": null,
      "outputs": []
    },
    {
      "cell_type": "code",
      "source": [
        "# API endpoint\n",
        "url = \"https://maps.googleapis.com/maps/api/place/nearbysearch/json\"\n",
        "\n",
        "# Search parameteres\n",
        "params = {\n",
        "  'location':'38.9016559, -77.0438082',\n",
        "  # 'radius':400,\n",
        "  'rankby': 'distance',\n",
        "  'opennow': True,\n",
        "  'type':'restaurant',\n",
        "  'key':GOOGLE_API_KEY\n",
        "}\n",
        "\n",
        "response = requests.get(url, params=params)\n",
        "\n",
        "response.json()"
      ],
      "metadata": {
        "id": "J1ejHitV_-R6"
      },
      "execution_count": null,
      "outputs": []
    },
    {
      "cell_type": "code",
      "source": [
        "response_json = response.json()\n",
        "pprint(response_json)\n",
        "\n",
        "\n",
        "results = response_json['results']\n",
        "results"
      ],
      "metadata": {
        "id": "QweW3OIAAfSR"
      },
      "execution_count": null,
      "outputs": []
    },
    {
      "cell_type": "code",
      "source": [
        "results_df = pd.DataFrame(results)\n",
        "results_df = results_df[['name','vicinity','rating','user_ratings_total','price_level']]\n",
        "\n",
        "\n",
        "results_df\n"
      ],
      "metadata": {
        "id": "fLrK8PxfGc4O"
      },
      "execution_count": null,
      "outputs": []
    }
  ]
}