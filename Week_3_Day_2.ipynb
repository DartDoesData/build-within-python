{
  "nbformat": 4,
  "nbformat_minor": 0,
  "metadata": {
    "colab": {
      "provenance": [],
      "authorship_tag": "ABX9TyMxRlRddZNYIpJ+bcgPc30t",
      "include_colab_link": true
    },
    "kernelspec": {
      "name": "python3",
      "display_name": "Python 3"
    },
    "language_info": {
      "name": "python"
    }
  },
  "cells": [
    {
      "cell_type": "markdown",
      "metadata": {
        "id": "view-in-github",
        "colab_type": "text"
      },
      "source": [
        "<a href=\"https://colab.research.google.com/github/DartDoesData/python-practice/blob/main/Week_3_Day_2.ipynb\" target=\"_parent\"><img src=\"https://colab.research.google.com/assets/colab-badge.svg\" alt=\"Open In Colab\"/></a>"
      ]
    },
    {
      "cell_type": "markdown",
      "source": [
        "# Week 3 Day 2 - Google Maps API\n",
        "\n",
        "## Helpful links\n",
        "\n",
        "- [Google Cloud Platform](https://console.cloud.google.com/)\n",
        "- [Google Maps Platform](https://mapsplatform.google.com/)\n",
        "\n",
        "## APIs to Enable\n",
        "\n",
        "- Places API\n",
        "- Geocoding API\n"
      ],
      "metadata": {
        "id": "sX6qqLu_ZEtQ"
      }
    },
    {
      "cell_type": "code",
      "source": [
        "# Run this to install decouple, which helps you pull variables from .env files\n",
        "!pip install python-decouple"
      ],
      "metadata": {
        "id": "XSlya-xoEyL7"
      },
      "execution_count": null,
      "outputs": []
    },
    {
      "cell_type": "code",
      "source": [
        "from decouple import Config, RepositoryEnv\n",
        "\n",
        "# Mount your Google Drive\n",
        "from google.colab import drive\n",
        "drive.mount('/content/drive')\n",
        "\n",
        "# Path to your .env file\n",
        "env_path = '/content/drive/MyDrive/buildwithin.env'\n",
        "\n",
        "# Set up your config object\n",
        "config = Config(RepositoryEnv(env_path))"
      ],
      "metadata": {
        "id": "B7_dPAndFdPb"
      },
      "execution_count": null,
      "outputs": []
    },
    {
      "cell_type": "code",
      "source": [
        "# Pull your Google API key from your config file\n",
        "GOOGLE_API_KEY = config('GOOGLE_API_KEY')"
      ],
      "metadata": {
        "id": "hQLZa_LfEvVG"
      },
      "execution_count": null,
      "outputs": []
    },
    {
      "cell_type": "markdown",
      "source": [
        "## Exercise 1: Basic Search for a Place by Text\n",
        "Use the Find Place request to search for a specific place by name.\n",
        "\n",
        "This API will help you locate a place by name and get basic information about it, such as its `name`, `location`, and `place_id`.\n",
        "\n",
        "* Endpoint: `https://maps.googleapis.com/maps/api/place/findplacefromtext/json`\n",
        "* Parameters:\n",
        "  - `input`: The name or description of the place (e.g., \"The White House\").\n",
        "  - `inputtype`: Set to textquery.\n",
        "  - `fields`: Specifies which fields to retrieve, such as `name`, `geometry`, and `place_id`."
      ],
      "metadata": {
        "id": "syVXj__gKmbT"
      }
    },
    {
      "cell_type": "code",
      "source": [
        "import requests\n",
        "\n",
        "# API endpoint\n",
        "url = \"https://maps.googleapis.com/maps/api/place/findplacefromtext/json\"\n",
        "\n",
        "# Search parameteres\n",
        "params = {\n",
        "    \"input\": \"The White House\",\n",
        "    \"inputtype\": \"textquery\",\n",
        "    \"fields\": \"name,geometry,formatted_address,place_id\",\n",
        "    \"language\": \"en\",\n",
        "    \"key\": GOOGLE_API_KEY\n",
        "}\n",
        "\n",
        "# Make API request\n",
        "response = requests.get(url, params=params)\n",
        "\n",
        "# Check response status code\n",
        "if response.status_code == 200:\n",
        "    data = response.json().get(\"candidates\", [])\n",
        "    if data:\n",
        "        place = data[0]\n",
        "        name = place[\"name\"]\n",
        "        lat = place[\"geometry\"][\"location\"][\"lat\"]\n",
        "        lng = place[\"geometry\"][\"location\"][\"lng\"]\n",
        "        place_id = place[\"place_id\"]\n",
        "        print(f\"Name: {name}\")\n",
        "        print(f\"Latitude: {lat}, Longitude: {lng}\")\n",
        "        print(f\"Google Maps Link: https://www.google.com/maps/place/?q=place_id:{place_id}\")\n",
        "else:\n",
        "    print(\"Error:\", response.status_code)\n",
        "\n",
        "\n",
        "response.json()"
      ],
      "metadata": {
        "id": "0dxv7V4hF0MH"
      },
      "execution_count": null,
      "outputs": []
    },
    {
      "cell_type": "markdown",
      "source": [
        "## Practice activity 1\n",
        "\n",
        "Build a dictionary with location data from Google Maps.\n",
        "\n",
        "1. Use the `findplacefromtext` endpoint to search for the Washington Monument.\n",
        "2. Store the name, address, latitude, and longitude into a variable.\n",
        "3. Then create a dictionary that contains this information with the respective keys.\n",
        "4. Output the dictionary to the console."
      ],
      "metadata": {
        "id": "HoDmfh1QLQOT"
      }
    },
    {
      "cell_type": "code",
      "source": [
        "# YOUR CODE HERE"
      ],
      "metadata": {
        "id": "fZKTK1xvQrSM"
      },
      "execution_count": null,
      "outputs": []
    },
    {
      "cell_type": "markdown",
      "source": [
        "## Exercise 2: Geocode a location"
      ],
      "metadata": {
        "id": "QqqKW_W2RPpO"
      }
    },
    {
      "cell_type": "code",
      "source": [
        "import requests\n",
        "\n",
        "# API endpoint\n",
        "geocode_url = \"https://maps.googleapis.com/maps/api/geocode/json\"\n",
        "\n",
        "# Request parameters\n",
        "geocode_params = {\n",
        "    \"address\": \"Washington, DC\",\n",
        "    \"key\": GOOGLE_API_KEY\n",
        "}\n",
        "\n",
        "# Make the request\n",
        "geocode_response = requests.get(geocode_url, params=geocode_params)\n",
        "\n",
        "# Process the response\n",
        "if geocode_response.status_code == 200:\n",
        "    geocode_data = geocode_response.json().get(\"results\", [])\n",
        "    if geocode_data:\n",
        "        location = geocode_data[0][\"geometry\"][\"location\"]\n",
        "        lat, lng = location[\"lat\"], location[\"lng\"]\n",
        "        print(f\"Coordinates: Latitude {lat}, Longitude {lng}\")\n",
        "else:\n",
        "    print(\"Error:\", geocode_response.status_code)"
      ],
      "metadata": {
        "id": "BpFiFTPTRTUg"
      },
      "execution_count": null,
      "outputs": []
    },
    {
      "cell_type": "markdown",
      "source": [
        "## Practice activity 2\n",
        "\n",
        "Geocode Washington, DC and store the coordinates in a tuple.\n",
        "\n",
        "1. Use the API to geocode Washington DC.\n",
        "2. Then pull out the latitude and longitude from the API response and store them in a tuple called `coordinates`\n",
        "\n",
        "\n",
        "When done, the value of your `coordinates` variable should be:\n",
        "```\n",
        "(38.9071923, -77.0368707)\n",
        "```"
      ],
      "metadata": {
        "id": "16Hafl22R0GI"
      }
    },
    {
      "cell_type": "code",
      "source": [
        "# YOUR CODE HERE"
      ],
      "metadata": {
        "id": "RajMzxrsR6SW"
      },
      "execution_count": null,
      "outputs": []
    },
    {
      "cell_type": "markdown",
      "source": [
        "## Exercise 3: Use the API to get a Place ID\n",
        "\n",
        "The `placeid` is useful for identifying a location within the Google Maps ecosystem. That place ID can later be used in other endpoints to get additional information about a location."
      ],
      "metadata": {
        "id": "hXXM8a4NWW3N"
      }
    },
    {
      "cell_type": "code",
      "source": [
        "import requests\n",
        "\n",
        "# Endpoint\n",
        "find_place_url = \"https://maps.googleapis.com/maps/api/place/findplacefromtext/json\"\n",
        "\n",
        "# Request parameters\n",
        "find_place_params = {\n",
        "    \"input\": \"Mastro's Restaurant, Washington DC\",\n",
        "    \"inputtype\": \"textquery\",\n",
        "    \"language\": \"en\",\n",
        "    \"fields\": \"place_id,name,geometry\",\n",
        "    \"key\": GOOGLE_API_KEY\n",
        "}\n",
        "\n",
        "# Make the request\n",
        "find_place_response = requests.get(find_place_url, params=find_place_params)\n",
        "if find_place_response.status_code == 200:\n",
        "    place_data = find_place_response.json().get(\"candidates\", [])\n",
        "    if place_data:\n",
        "        place_id = place_data[0][\"place_id\"]\n",
        "        place_name = place_data[0][\"name\"]\n",
        "        print(f\"Place Name: {place_name}\")\n",
        "        print(f\"Place ID: {place_id}\")\n",
        "else:\n",
        "    print(\"Error:\", find_place_response.status_code)\n"
      ],
      "metadata": {
        "id": "6oZcjEq2WYgP"
      },
      "execution_count": null,
      "outputs": []
    },
    {
      "cell_type": "markdown",
      "source": [
        "## Practice exercise 3\n",
        "\n",
        "1. Write a function that accepts a place name as a parameter.\n",
        "2. The function should accept the place name and then query the API.\n",
        "3. The function should return the `placeid`\n",
        "4. Test the function to ensure that it performs as expected."
      ],
      "metadata": {
        "id": "5Qet-VDTWvcd"
      }
    },
    {
      "cell_type": "markdown",
      "source": [
        "## Exercise 4: Find Nearby Restaurants\n",
        "Use the Nearby Search request to find restaurants near a given location.\n",
        "\n",
        "This API will help you locate nearby restaurants within a specified radius, providing the name, rating, and address of each restaurant.\n",
        "\n",
        "* Endpoint: `https://maps.googleapis.com/maps/api/place/nearbysearch/json`\n",
        "* Parameters:\n",
        "  - `location`: The latitude and longitude of the search center.\n",
        "  - `radius`: The search radius in meters.\n",
        "  - `type`: Set to restaurant."
      ],
      "metadata": {
        "id": "52OseYJHK5wu"
      }
    },
    {
      "cell_type": "code",
      "source": [
        "# Endpoint and parameters for nearby search\n",
        "url = \"https://maps.googleapis.com/maps/api/place/nearbysearch/json\"\n",
        "params = {\n",
        "    \"location\": \"38.9071923,-77.0368707\",  # DC Coordinates\n",
        "    \"radius\": 1000,  # in meters\n",
        "    \"type\": \"restaurant\",\n",
        "    \"key\": GOOGLE_API_KEY\n",
        "}\n",
        "\n",
        "# Make the request\n",
        "response = requests.get(url, params=params)\n",
        "if response.status_code == 200:\n",
        "    places = response.json().get(\"results\", [])\n",
        "    print(\"Nearby Restaurants:\")\n",
        "    for place in places:\n",
        "        print(f\"Name: {place['name']}\")\n",
        "        print(f\"Rating: {place.get('rating', 'N/A')}\")\n",
        "        print(f\"Address: {place.get('vicinity', 'N/A')}\")\n",
        "        print(\"-----\")\n",
        "else:\n",
        "    print(\"Error:\", response.status_code)\n"
      ],
      "metadata": {
        "id": "M_fOCGoCBjg6"
      },
      "execution_count": null,
      "outputs": []
    },
    {
      "cell_type": "markdown",
      "source": [
        "## Practice activity 4\n",
        "\n",
        "Query the API endpoint and convert the output from the sample exercise into a DataFrame. The DataFrame should contain at least the `Name`, `Rating` and `Address` columns."
      ],
      "metadata": {
        "id": "h0kWvsfrRuHZ"
      }
    },
    {
      "cell_type": "code",
      "source": [
        "# YOUR CODE HERE"
      ],
      "metadata": {
        "id": "nbCQc9-LRtib"
      },
      "execution_count": null,
      "outputs": []
    }
  ]
}