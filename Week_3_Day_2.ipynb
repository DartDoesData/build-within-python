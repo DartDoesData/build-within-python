{
  "nbformat": 4,
  "nbformat_minor": 0,
  "metadata": {
    "colab": {
      "provenance": [],
      "authorship_tag": "ABX9TyPXZNetFxBtG0h0PopPXTUj",
      "include_colab_link": true
    },
    "kernelspec": {
      "name": "python3",
      "display_name": "Python 3"
    },
    "language_info": {
      "name": "python"
    }
  },
  "cells": [
    {
      "cell_type": "markdown",
      "metadata": {
        "id": "view-in-github",
        "colab_type": "text"
      },
      "source": [
        "<a href=\"https://colab.research.google.com/github/DartDoesData/python-practice/blob/main/Week_3_Day_2.ipynb\" target=\"_parent\"><img src=\"https://colab.research.google.com/assets/colab-badge.svg\" alt=\"Open In Colab\"/></a>"
      ]
    },
    {
      "cell_type": "markdown",
      "source": [
        "# Week 3 Day 2 - Google Maps API\n",
        "\n",
        "## Helpful links\n",
        "\n",
        "- [Google Cloud Platform](https://console.cloud.google.com/)\n",
        "- [Google Maps Platform](https://mapsplatform.google.com/)\n",
        "\n",
        "## APIs to Enable\n",
        "\n",
        "- Places API\n",
        "- Geocoding API\n"
      ],
      "metadata": {
        "id": "sX6qqLu_ZEtQ"
      }
    },
    {
      "cell_type": "code",
      "source": [
        "# Run this to install decouple, which helps you pull variables from .env files\n",
        "!pip install python-decouple"
      ],
      "metadata": {
        "id": "XSlya-xoEyL7"
      },
      "execution_count": null,
      "outputs": []
    },
    {
      "cell_type": "code",
      "source": [
        "from decouple import Config, RepositoryEnv\n",
        "\n",
        "# Mount your Google Drive\n",
        "from google.colab import drive\n",
        "drive.mount('/content/drive')\n",
        "\n",
        "# Path to your .env file\n",
        "env_path = '/content/drive/MyDrive/buildwithin.env'\n",
        "\n",
        "# Set up your config object\n",
        "config = Config(RepositoryEnv(env_path))"
      ],
      "metadata": {
        "id": "B7_dPAndFdPb"
      },
      "execution_count": null,
      "outputs": []
    },
    {
      "cell_type": "code",
      "source": [
        "# Pull your Google API key from your config file\n",
        "GOOGLE_API_KEY = config('GOOGLE_API_KEY')"
      ],
      "metadata": {
        "id": "hQLZa_LfEvVG"
      },
      "execution_count": null,
      "outputs": []
    },
    {
      "cell_type": "markdown",
      "source": [
        "## Exercise 1: Basic Search for a Place by Text\n",
        "Use the Find Place request to search for a specific place by name.\n",
        "\n",
        "This API will help you locate a place by name and get basic information about it, such as its `name`, `location`, and `place_id`.\n",
        "\n",
        "* Endpoint: `https://maps.googleapis.com/maps/api/place/findplacefromtext/json`\n",
        "* Parameters:\n",
        "  - `input`: The name or description of the place (e.g., \"The White House\").\n",
        "  - `inputtype`: Set to textquery.\n",
        "  - `fields`: Specifies which fields to retrieve, such as `name`, `geometry`, and `place_id`."
      ],
      "metadata": {
        "id": "syVXj__gKmbT"
      }
    },
    {
      "cell_type": "code",
      "source": [
        "import requests\n",
        "\n",
        "# API endpoint\n",
        "url = \"https://maps.googleapis.com/maps/api/place/findplacefromtext/json\"\n",
        "\n",
        "# Search parameteres\n",
        "params = {\n",
        "    \"input\": \"The White House\",\n",
        "    \"inputtype\": \"textquery\",\n",
        "    \"fields\": \"name,geometry,formatted_address,place_id\",\n",
        "    \"language\": \"en\",\n",
        "    \"key\": GOOGLE_API_KEY\n",
        "}\n",
        "\n",
        "# Make API request\n",
        "response = requests.get(url, params=params)\n",
        "\n",
        "# Check response status code\n",
        "if response.status_code == 200:\n",
        "    data = response.json().get(\"candidates\", [])\n",
        "    if data:\n",
        "        place = data[0]\n",
        "        name = place[\"name\"]\n",
        "        lat = place[\"geometry\"][\"location\"][\"lat\"]\n",
        "        lng = place[\"geometry\"][\"location\"][\"lng\"]\n",
        "        place_id = place[\"place_id\"]\n",
        "        print(f\"Name: {name}\")\n",
        "        print(f\"Latitude: {lat}, Longitude: {lng}\")\n",
        "        print(f\"Google Maps Link: https://www.google.com/maps/place/?q=place_id:{place_id}\")\n",
        "else:\n",
        "    print(\"Error:\", response.status_code)\n",
        "\n",
        "\n",
        "response.json()"
      ],
      "metadata": {
        "id": "0dxv7V4hF0MH"
      },
      "execution_count": null,
      "outputs": []
    },
    {
      "cell_type": "markdown",
      "source": [
        "## Practice activity 1\n",
        "\n",
        "Build a dictionary with location data from Google Maps.\n",
        "\n",
        "1. Use the `findplacefromtext` endpoint to search for the Washington Monument.\n",
        "2. Store the name, address, latitude, and longitude into a variable.\n",
        "3. Then create a dictionary that contains this information with the respective keys.\n",
        "4. Output the dictionary to the console."
      ],
      "metadata": {
        "id": "HoDmfh1QLQOT"
      }
    },
    {
      "cell_type": "code",
      "source": [
        "# YOUR CODE HERE"
      ],
      "metadata": {
        "id": "fZKTK1xvQrSM"
      },
      "execution_count": null,
      "outputs": []
    }
  ]
}