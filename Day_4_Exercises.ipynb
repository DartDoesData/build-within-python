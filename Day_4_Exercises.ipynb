{
 "cells": [
  {
   "cell_type": "markdown",
   "metadata": {
    "colab_type": "text",
    "id": "view-in-github"
   },
   "source": [
    "<a href=\"https://colab.research.google.com/github/DartDoesData/python-practice/blob/main/Day_4.ipynb\" target=\"_parent\"><img src=\"https://colab.research.google.com/assets/colab-badge.svg\" alt=\"Open In Colab\"/></a>"
   ]
  },
  {
   "cell_type": "markdown",
   "metadata": {
    "id": "Wug4vuqws3_W"
   },
   "source": [
    "# Day 4"
   ]
  },
  {
   "cell_type": "markdown",
   "metadata": {
    "id": "gzmlP-c-s3_Y"
   },
   "source": [
    "## What is pandas?\n",
    "\n",
    "If you're getting into machine learning and data science and you're using Python, you're going to use pandas.\n",
    "\n",
    "[pandas](https://pandas.pydata.org/) is an open source library which helps you analyze and manipulate data.\n",
    "\n",
    "<img src=\"https://github.com/mrdbourke/zero-to-mastery-ml/blob/master/images/pandas-6-step-ml-framework-tools-highlight.png?raw=1\" alt=\"a 6 step machine learning framework along will tools you can use for each step\" width=\"700\"/>"
   ]
  },
  {
   "cell_type": "markdown",
   "id": "46b0cb76",
   "metadata": {},
   "source": [
    "### Practice Exercises for Understanding pandas:\n",
    "1. Explain the key advantages of using pandas for data manipulation. What are two things that pandas makes easier?\n",
    "2. Create a small dataset using pandas and display it as a DataFrame. Then, use the `info()` method to explore the structure of the DataFrame."
   ]
  },
  {
   "cell_type": "markdown",
   "id": "9d807df1",
   "metadata": {},
   "source": [
    "### Practice Exercises:\n",
    "1. Explain why pandas is used in data science. List two advantages of using pandas for data manipulation.\n",
    "2. Load a DataFrame with random data and demonstrate how to summarize it using the `describe()` method."
   ]
  },
  {
   "cell_type": "markdown",
   "id": "3364970d",
   "metadata": {},
   "source": [
    "### Practice Activities for Understanding pandas:\n",
    "1. Load a DataFrame from a CSV file and display the first 5 rows.\n",
    "2. Select specific columns from a DataFrame and print their values.\n",
    "3. Identify and handle missing values in a DataFrame.\n",
    "4. Perform basic arithmetic operations (e.g., addition, multiplication) on numeric columns in a DataFrame.\n",
    "5. Create a new column in a DataFrame based on a calculation from existing columns."
   ]
  },
  {
   "cell_type": "markdown",
   "metadata": {
    "id": "TC79Q-d7s3_Y"
   },
   "source": [
    "## Why pandas?\n",
    "\n",
    "pandas provides a simple to use but very capable set of functions you can use to on your data.\n",
    "\n",
    "It's integrated with many other data science and machine learning tools which use Python so having an understanding of it will be helpful throughout your journey.\n",
    "\n",
    "One of the main use cases you'll come across is using pandas to transform your data in a way which makes it usable with machine learning algorithms."
   ]
  },
  {
   "cell_type": "markdown",
   "id": "349879fe",
   "metadata": {},
   "source": [
    "### Practice Exercises for Why pandas:\n",
    "1. Load any dataset into pandas and use it to practice cleaning the data by identifying and handling missing values.\n",
    "2. Demonstrate how pandas can be used to slice and filter data from a DataFrame by selecting a subset of rows based on a condition."
   ]
  },
  {
   "cell_type": "markdown",
   "id": "1e1b4ed3",
   "metadata": {},
   "source": [
    "### Practice Exercises:\n",
    "1. Find an open dataset online (CSV format) and load it into pandas. Explore the dataset by printing out the first 10 rows.\n",
    "2. Identify and drop any missing values from a DataFrame created using pandas."
   ]
  },
  {
   "cell_type": "markdown",
   "metadata": {
    "id": "lkKSuQc6s3_Z"
   },
   "source": [
    "## What does this notebook cover?\n",
    "\n",
    "Because the pandas library is vast, there's often many ways to do the same thing. This notebook covers some of the most fundamental functions of the library, which are more than enough to get started."
   ]
  },
  {
   "cell_type": "markdown",
   "id": "326e498f",
   "metadata": {},
   "source": [
    "### Practice Exercises for Getting Started with pandas:\n",
    "1. Create a DataFrame using lists as column data. Add a new column to the DataFrame and print out the updated DataFrame.\n",
    "2. Load a DataFrame from a CSV file and use the `describe()` method to generate summary statistics for the numeric columns."
   ]
  },
  {
   "cell_type": "markdown",
   "id": "df28032b",
   "metadata": {},
   "source": [
    "### Practice Exercises:\n",
    "1. Create a DataFrame from scratch, using lists for column data. Add a new column to the DataFrame and print out the DataFrame structure.\n",
    "2. Create a DataFrame with numeric data and compute the sum of a specific column."
   ]
  },
  {
   "cell_type": "markdown",
   "metadata": {
    "id": "_hY72wm_s3_Z"
   },
   "source": [
    "## Where can I get help?\n",
    "\n",
    "If you get stuck or think of something you'd like to do which this notebook doesn't cover, don't fear!\n",
    "\n",
    "The recommended steps you take are:\n",
    "1. **Try it** - Since pandas is very friendly, your first step should be to use what you know and try figure out the answer to your own question (getting it wrong is part of the process). If in doubt, run your code.\n",
    "2. **Search for it** - If trying it on your own doesn't work, since someone else has probably tried to do something similar, try searching for your problem in the following places (either via a search engine or direct):\n",
    "    * [pandas documentation](https://pandas.pydata.org/pandas-docs/stable/) - the best place for learning pandas, this resource covers all of the pandas functionality.\n",
    "    * [Stack Overflow](https://stackoverflow.com/) - this is the developers Q&A hub, it's full of questions and answers of different problems across a wide range of software development topics and chances are, there's one related to your problem.\n",
    "    * [Ask Kisha](https://chat.openai.com/) - Google Gemini, ChatGPT, and others are very good at explaining code, however, these tools can make mistakes, so it's important to understand the basics. Best to verify the code it writes first before using it. Try asking \"Can you explain the following code for me? {your code here}\" and then continue with follow up questions from there.\n",
    "    \n",
    "An example of searching for a pandas function might be:\n",
    "\n",
    "> \"how to fill all the missing values of two columns using pandas\"\n",
    "\n",
    "Searching this on Google leads to this post on Stack Overflow: https://stackoverflow.com/questions/36556256/how-do-i-fill-na-values-in-multiple-columns-in-pandas\n",
    "\n",
    "The next steps here are to read through the post and see if it relates to your problem. If it does, great, take the code/information you need and **rewrite it** to suit your own problem.\n",
    "\n",
    "3. **Ask for help** - If you've been through the above 2 steps and you're still stuck, you might want to ask your question on Stack Overflow. Remember to be specific as possible and provide details on what you've tried.\n",
    "\n",
    "Remember, you don't have to learn all of these functions off by heart to begin with.\n",
    "\n",
    "What's most important is remembering to continually ask yourself, \"what am I trying to do with the data?\".\n",
    "\n",
    "Start by answering that question and then practicing finding the code which does it.\n",
    "\n",
    "Let's get started."
   ]
  },
  {
   "cell_type": "markdown",
   "metadata": {
    "id": "1otvFSqGs3_Z"
   },
   "source": [
    "## 0. Importing pandas\n",
    "\n",
    "To get started using pandas, the first step is to import it.\n",
    "\n",
    "The most common way (and method you should use) is to import pandas as the abbreviation `pd` (e.g. `pandas` -> `pd`).\n",
    "\n",
    "If you see the letters `pd` used anywhere in machine learning or data science, it's probably referring to the pandas library."
   ]
  },
  {
   "cell_type": "markdown",
   "id": "ccbb7201",
   "metadata": {},
   "source": [
    "### Practice Exercises for Importing pandas:\n",
    "1. Import pandas and load a CSV file of your choice into a DataFrame. Display the first 5 rows of the DataFrame.\n",
    "2. Use the pandas library to create a DataFrame from a dictionary that contains the names and prices of 5 different items. Display the DataFrame."
   ]
  },
  {
   "cell_type": "markdown",
   "id": "9dfb00db",
   "metadata": {},
   "source": [
    "### Practice Exercises:\n",
    "1. Import pandas and create a DataFrame from a dictionary containing data about products and their prices. Display the DataFrame.\n",
    "2. Use pandas to read a CSV file into a DataFrame and display the first 5 rows."
   ]
  },
  {
   "cell_type": "markdown",
   "id": "9244cbd1",
   "metadata": {},
   "source": [
    "### Practice Activities for Importing pandas:\n",
    "1. Import pandas as `pd` and load a CSV file into a DataFrame.\n",
    "2. Display the first 10 rows of a DataFrame and check for missing values.\n",
    "3. Rename the columns of a DataFrame and confirm the changes.\n",
    "4. Use the `describe()` method to generate summary statistics for a DataFrame.\n",
    "5. Load a CSV file from a URL into a pandas DataFrame and explore its structure using the `head()` method."
   ]
  },
  {
   "cell_type": "code",
   "execution_count": null,
   "metadata": {
    "id": "FA_8vAWps3_Z"
   },
   "outputs": [],
   "source": [
    "import pandas as pd\n",
    "\n",
    "# Print the version\n",
    "print(f\"pandas version: {pd.__version__}\")"
   ]
  },
  {
   "cell_type": "markdown",
   "metadata": {
    "id": "VCkhQJMys3_Z"
   },
   "source": [
    "## 1. Datatypes\n",
    "\n",
    "pandas has two main datatypes, `Series` and `DataFrame`.\n",
    "* [`pandas.Series`](https://pandas.pydata.org/docs/reference/api/pandas.Series.html) - a 1-dimensional column of data.\n",
    "* [`pandas.DataFrame`](https://pandas.pydata.org/docs/reference/api/pandas.DataFrame.html) (most common) - a 2-dimesional table of data with rows and columns.\n",
    "\n",
    "You can create a `Series` using `pd.Series()` and passing it a Python list."
   ]
  },
  {
   "cell_type": "markdown",
   "id": "a184859e",
   "metadata": {},
   "source": [
    "### Practice Exercises for Datatypes:\n",
    "1. Create a pandas Series with 15 elements. Convert this Series into a DataFrame with one column labeled 'Values'.\n",
    "2. Create a DataFrame with two columns: 'Age' (integers) and 'Name' (strings). Use pandas to find out the datatype of each column, and then change the datatype of 'Age' to float."
   ]
  },
  {
   "cell_type": "markdown",
   "id": "4224c190",
   "metadata": {},
   "source": [
    "### Practice Exercises:\n",
    "1. Create a pandas Series with 10 elements, representing a simple sequence of numbers (e.g., 0 to 9). Convert this Series into a DataFrame.\n",
    "2. Create a DataFrame with at least two columns, one containing integers and another containing strings. Use pandas to change the datatype of one of the columns."
   ]
  },
  {
   "cell_type": "markdown",
   "id": "649abf3e",
   "metadata": {},
   "source": [
    "### Practice Activities for Datatypes:\n",
    "1. Create a pandas DataFrame from a dictionary where keys represent column names and values represent lists of data.\n",
    "2. Create a pandas Series from a list of random numbers and plot its histogram.\n",
    "3. Convert a DataFrame column from one datatype to another (e.g., from integer to string) and verify the change.\n",
    "4. Filter rows in a DataFrame based on a condition (e.g., values greater than a threshold).\n",
    "5. Use the `info()` function to explore the datatypes and memory usage of a DataFrame."
   ]
  },
  {
   "cell_type": "code",
   "execution_count": null,
   "metadata": {
    "id": "BwyLBXois3_Z"
   },
   "outputs": [],
   "source": [
    "# Creating a series of car types\n",
    "cars = pd.Series([\"BMW\", \"Toyota\", \"Honda\"])\n",
    "cars"
   ]
  },
  {
   "cell_type": "code",
   "execution_count": null,
   "metadata": {
    "id": "Ib5pudgos3_Z"
   },
   "outputs": [],
   "source": [
    "# Creating a series of colors\n",
    "colors = pd.Series([\"Blue\", \"Red\", \"White\"])\n",
    "colors"
   ]
  },
  {
   "cell_type": "markdown",
   "metadata": {
    "id": "_s-YYFles3_a"
   },
   "source": [
    "You can create a `DataFrame` by using `pd.DataFrame()` and passing it a Python dictionary.\n",
    "\n",
    "Let's use our two `Series` as the values."
   ]
  },
  {
   "cell_type": "code",
   "execution_count": null,
   "metadata": {
    "id": "q3rTJx3Os3_a"
   },
   "outputs": [],
   "source": [
    "# Creating a DataFrame of cars and colours\n",
    "car_data = pd.DataFrame({\"Car type\": cars,\n",
    "                         \"Color\": colors})\n",
    "car_data"
   ]
  },
  {
   "cell_type": "markdown",
   "metadata": {
    "id": "L49odBgYs3_a"
   },
   "source": [
    "You can see the keys of the dictionary became the column headings (text in bold) and the values of the two `Series`'s became the values in the DataFrame.\n",
    "\n",
    "It's important to note, many different types of data could go into the DataFrame.\n",
    "\n",
    "Here we've used only text but you could use floats, integers, dates and more."
   ]
  },
  {
   "cell_type": "markdown",
   "metadata": {
    "id": "oNbjq_i9s3_a"
   },
   "source": [
    "### Exercises\n",
    "\n",
    "1. Make a `Series` of different foods.\n",
    "2. Make a `Series` of different dollar values (these can be integers).\n",
    "3. Combine your `Series`'s of foods and dollar values into a `DataFrame`.\n",
    "\n",
    "Try it out for yourself first, then see how your code goes against the solution.\n",
    "\n",
    "**Note:** Make sure your two `Series` are the same size before combining them in a DataFrame."
   ]
  },
  {
   "cell_type": "code",
   "execution_count": null,
   "metadata": {
    "id": "D9RfKT72s3_a"
   },
   "outputs": [],
   "source": [
    "# Your code here"
   ]
  },
  {
   "cell_type": "code",
   "execution_count": null,
   "metadata": {
    "id": "RVjfHWijs3_a"
   },
   "outputs": [],
   "source": [
    "# Example solution\n",
    "\n",
    "# Make a Series of different foods\n",
    "\n",
    "# Make a Series of different dollar values\n",
    "\n",
    "# Combine your Series of foods and dollar values into a DataFrame\n",
    "\n",
    "food_data"
   ]
  },
  {
   "cell_type": "markdown",
   "metadata": {
    "id": "5ghbSIRSs3_a"
   },
   "source": [
    "## 2. Importing data\n",
    "\n",
    "Creating `Series` and `DataFrame`'s from scratch is nice but what you'll usually be doing is importing your data in the form of a `.csv` (comma separated value), spreadsheet file or something similar such as an [SQL database](https://pandas.pydata.org/docs/reference/api/pandas.read_sql.html).\n",
    "\n",
    "pandas allows for easy importing of data like this through functions such as [`pd.read_csv()`](https://pandas.pydata.org/docs/reference/api/pandas.read_csv.html) and [`pd.read_excel()`](https://pandas.pydata.org/docs/reference/api/pandas.read_excel.html) (for Microsoft Excel files).\n",
    "\n",
    "Say you wanted to get this information from this Google Sheet document into a pandas `DataFrame`.\n",
    "\n",
    "<img src=\"https://github.com/mrdbourke/zero-to-mastery-ml/blob/master/images/pandas-car-sales-csv.png?raw=1\" alt=\"spreadsheet with car sales information\" width=\"600\">\n",
    "\n",
    "You could export it as a `.csv` file and then import it using `pd.read_csv()`.\n",
    "\n",
    "> **Tip:** If the Google Sheet is public, `pd.read_csv()` can read it via URL, try searching for \"pandas read Google Sheet with URL\".\n",
    "\n",
    "In this case, the exported `.csv` file is called `car-sales.csv`."
   ]
  },
  {
   "cell_type": "code",
   "execution_count": null,
   "metadata": {
    "id": "n_wpv4Y8s3_a"
   },
   "outputs": [],
   "source": [
    "# Import car sales data\n",
    "car_sales = pd.read_csv(\"https://docs.google.com/spreadsheets/d/1NfJtNqQl1zR75RtyJ9FHHpzbcvxhEYY4BVqFRtwGfTA/gviz/tq?tqx=out:csv\") # takes a filename as string as input\n",
    "\n",
    "car_sales"
   ]
  },
  {
   "cell_type": "markdown",
   "metadata": {
    "id": "O7DCMlh7s3_b"
   },
   "source": [
    "Like any other variable, you can name your `DataFrame`'s whatever you want. But best to choose something simple.\n",
    "\n",
    "### Anatomy of a DataFrame\n",
    "\n",
    "Different functions use different labels for different things. This graphic sums up some of the main components of `DataFrame`'s and their different names.\n",
    "\n",
    "<img src=\"https://github.com/mrdbourke/zero-to-mastery-ml/blob/master/images/pandas-dataframe-anatomy.png?raw=1\" alt=\"pandas dataframe with different sections labelled\" width=\"800\"/>\n"
   ]
  },
  {
   "cell_type": "markdown",
   "metadata": {
    "id": "CszoYNe5s3_b"
   },
   "source": [
    "## 3. Exporting data\n",
    "\n",
    "After you've made a few changes to your data, you might want to export it and save it so someone else can access the changes.\n",
    "\n",
    "pandas allows you to export `DataFrame`'s to `.csv` format using [`.to_csv()`](https://pandas.pydata.org/docs/reference/api/pandas.DataFrame.to_csv.html) or spreadsheet format using [`.to_excel()`](https://pandas.pydata.org/docs/reference/api/pandas.DataFrame.to_excel.html).\n",
    "\n",
    "We haven't made any changes yet to the `car_sales` `DataFrame` but let's try export it."
   ]
  },
  {
   "cell_type": "code",
   "execution_count": null,
   "metadata": {
    "id": "_e0X_Y1ts3_b"
   },
   "outputs": [],
   "source": [
    "# Export the car sales DataFrame to csv\n",
    "car_sales.to_csv(\"exported-car-sales.csv\")"
   ]
  },
  {
   "cell_type": "markdown",
   "metadata": {
    "id": "zs5R_jKas3_b"
   },
   "source": [
    "Running this will save a file called `export-car-sales.csv` your colab virtual folder.\n",
    "\n",
    "You can also download the file to your computer as well."
   ]
  },
  {
   "cell_type": "code",
   "execution_count": null,
   "metadata": {
    "id": "eU3apCNpwVV8"
   },
   "outputs": [],
   "source": [
    "from google.colab import files\n",
    "\n",
    "# Download the file to your local machine\n",
    "files.download(\"exported-car-sales.csv\")"
   ]
  },
  {
   "cell_type": "markdown",
   "metadata": {
    "id": "MyXfETGis3_b"
   },
   "source": [
    "## Exercises\n",
    "\n",
    "1. Practice importing a `.csv` file using `pd.read_csv()`, you can download `311_sample.csv`. This file contains open 311 service request data for the City of Baltimore.\n",
    "2. Practice exporting a `DataFrame` using `.to_csv()`. You could export the 311 service requests `DataFrame` after you've imported it.\n",
    "3. Practice downloading that file to your computer. Hint, pull inspiration from the code above.\n",
    "\n",
    "**Note:**\n",
    "* You'll be pulling from our Google Drive folder. Use this path for the csv file `https://docs.google.com/spreadsheets/d/1ptZy6JonuS5xHPRfDeAoEiz6PcpWu4_ZI1OcPvfg1GA/gviz/tq?tqx=out:csv`\n",
    "* You can name the variables and exported files whatever you like but make sure they're readable. Consider something like `service_request_311_df`"
   ]
  },
  {
   "cell_type": "code",
   "execution_count": null,
   "metadata": {
    "id": "cbyV1fBqs3_b"
   },
   "outputs": [],
   "source": [
    "# Your code here\n"
   ]
  },
  {
   "cell_type": "markdown",
   "metadata": {
    "id": "aIUgRbMfs3_c"
   },
   "source": [
    "## 4. Describing data\n",
    "\n",
    "One of the first things you'll want to do after you import some data into a pandas `DataFrame` is to start exploring it.\n",
    "\n",
    "pandas has many built in functions which allow you to quickly get information about a `DataFrame`.\n",
    "\n",
    "Let's explore some using the `car_sales` `DataFrame`."
   ]
  },
  {
   "cell_type": "code",
   "execution_count": null,
   "metadata": {
    "id": "GCo9FZ0Ns3_c"
   },
   "outputs": [],
   "source": [
    "car_sales"
   ]
  },
  {
   "cell_type": "markdown",
   "metadata": {
    "id": "2qWS0oWzs3_c"
   },
   "source": [
    "[`.dtypes`](https://pandas.pydata.org/docs/reference/api/pandas.DataFrame.dtypes.html) shows us what datatype each column contains."
   ]
  },
  {
   "cell_type": "code",
   "execution_count": null,
   "metadata": {
    "id": "m01ahjHns3_c"
   },
   "outputs": [],
   "source": [
    "car_sales.dtypes"
   ]
  },
  {
   "cell_type": "markdown",
   "metadata": {
    "id": "bYZj8gNys3_c"
   },
   "source": [
    "Notice how the `Price` column isn't an integer like `Odometer` or `Doors`. Don't worry, pandas makes this easy to fix."
   ]
  },
  {
   "cell_type": "markdown",
   "metadata": {
    "id": "EgfdYHy3s3_c"
   },
   "source": [
    "[`.describe()`](https://pandas.pydata.org/docs/reference/api/pandas.DataFrame.describe.html) gives you a quick statistical overview of the numerical columns."
   ]
  },
  {
   "cell_type": "code",
   "execution_count": null,
   "metadata": {
    "id": "7jqhk3ols3_c"
   },
   "outputs": [],
   "source": [
    "car_sales.describe()"
   ]
  },
  {
   "cell_type": "markdown",
   "metadata": {
    "id": "IDYS16izs3_d"
   },
   "source": [
    "[`.info()`](https://pandas.pydata.org/docs/reference/api/pandas.DataFrame.info.html) shows a handful of useful information about a `DataFrame` such as:\n",
    "* How many entries (rows) there are\n",
    "* Whether there are missing values (if a columns non-null value is less than the number of entries, it has missing values)\n",
    "* The datatypes of each column"
   ]
  },
  {
   "cell_type": "code",
   "execution_count": null,
   "metadata": {
    "id": "r7IfZIp9s3_h"
   },
   "outputs": [],
   "source": [
    "car_sales.info()"
   ]
  },
  {
   "cell_type": "markdown",
   "metadata": {
    "id": "hse2WTCxs3_h"
   },
   "source": [
    "You can also call various statistical and mathematical methods such as [`.mean()`](https://pandas.pydata.org/docs/reference/api/pandas.DataFrame.mean.html) or [`.sum()`](https://pandas.pydata.org/docs/reference/api/pandas.DataFrame.sum.html) directly on a `DataFrame` or `Series`."
   ]
  },
  {
   "cell_type": "code",
   "execution_count": null,
   "metadata": {
    "id": "HCP-CnaEs3_h"
   },
   "outputs": [],
   "source": [
    "# Calling .mean() on a DataFrame\n",
    "car_sales.mean(numeric_only=True) # numeric_only = get mean values of numeric columnns only"
   ]
  },
  {
   "cell_type": "code",
   "execution_count": null,
   "metadata": {
    "id": "tboGZVtls3_h"
   },
   "outputs": [],
   "source": [
    "# Calling .mean() on a Series\n",
    "car_prices = pd.Series([3000, 3500, 11250])\n",
    "car_prices.mean()"
   ]
  },
  {
   "cell_type": "code",
   "execution_count": null,
   "metadata": {
    "id": "1hOYAcnJs3_i"
   },
   "outputs": [],
   "source": [
    "# Calling .sum() on a DataFrame with numeric_only=False (default)\n",
    "car_sales.sum(numeric_only=False)"
   ]
  },
  {
   "cell_type": "code",
   "execution_count": null,
   "metadata": {
    "id": "WddHFEx9s3_i"
   },
   "outputs": [],
   "source": [
    "# Calling .sum() on a DataFrame with numeric_only=True\n",
    "car_sales.sum(numeric_only=True)"
   ]
  },
  {
   "cell_type": "code",
   "execution_count": null,
   "metadata": {
    "id": "tiS4I8mbs3_i"
   },
   "outputs": [],
   "source": [
    "# Calling .sum() on a Series\n",
    "car_prices.sum()"
   ]
  },
  {
   "cell_type": "markdown",
   "metadata": {
    "id": "y7KeIn81s3_i"
   },
   "source": [
    "Calling these on a whole `DataFrame` may not be as helpful as targeting an individual column. But it's helpful to know they're there.\n",
    "\n",
    "`.columns` will show you all the columns of a `DataFrame`."
   ]
  },
  {
   "cell_type": "code",
   "execution_count": null,
   "metadata": {
    "id": "Jnntlxf_s3_i"
   },
   "outputs": [],
   "source": [
    "car_sales.columns"
   ]
  },
  {
   "cell_type": "markdown",
   "metadata": {
    "id": "3-5L1Dj7s3_i"
   },
   "source": [
    "You can save them to a list which you could use later."
   ]
  },
  {
   "cell_type": "code",
   "execution_count": null,
   "metadata": {
    "id": "teQuhhyGs3_i"
   },
   "outputs": [],
   "source": [
    "# Save car_sales columns to a list\n",
    "car_columns = car_sales.columns\n",
    "car_columns[0]"
   ]
  },
  {
   "cell_type": "markdown",
   "metadata": {
    "id": "LowIsMLys3_i"
   },
   "source": [
    "`.index` will show you the values in a `DataFrame`'s index (the column on the far left)."
   ]
  },
  {
   "cell_type": "code",
   "execution_count": null,
   "metadata": {
    "id": "b_D4IgD5s3_j"
   },
   "outputs": [],
   "source": [
    "car_sales.index"
   ]
  },
  {
   "cell_type": "markdown",
   "metadata": {
    "id": "rqH-DaM4s3_j"
   },
   "source": [
    "pandas `DataFrame`'s, like Python lists, are 0-indexed (unless otherwise changed). This means they start at 0.\n",
    "\n",
    "<img src=\"https://github.com/mrdbourke/zero-to-mastery-ml/blob/master/images/pandas-dataframe-zero-indexed.png?raw=1\" alt=\"dataframe with index number 0 highlighted\" width=\"700\"/>"
   ]
  },
  {
   "cell_type": "code",
   "execution_count": null,
   "metadata": {
    "id": "y9viizU3s3_j"
   },
   "outputs": [],
   "source": [
    "# Show the length of a DataFrame\n",
    "len(car_sales)"
   ]
  },
  {
   "cell_type": "markdown",
   "metadata": {
    "id": "0TMIvxYbs3_j"
   },
   "source": [
    "So even though the length of our `car_sales` dataframe is 10, this means the indexes go from 0-9."
   ]
  },
  {
   "cell_type": "markdown",
   "metadata": {
    "id": "bs_hVnYos3_j"
   },
   "source": [
    "## 5. Viewing and selecting data\n",
    "\n",
    "Some common methods for viewing and selecting data in a pandas DataFrame include:\n",
    "\n",
    "* [`DataFrame.head(n=5)`](https://pandas.pydata.org/docs/reference/api/pandas.DataFrame.head.html) - Displays the first `n` rows of a DataFrame (e.g. `car_sales.head()` will show the first 5 rows of the `car_sales` DataFrame).\n",
    "* [`DataFrame.tail(n=5)`](https://pandas.pydata.org/docs/reference/api/pandas.DataFrame.tail.html) - Displays the last `n` rows of a DataFrame.\n",
    "* [`DataFrame.loc[]`](https://pandas.pydata.org/docs/reference/api/pandas.DataFrame.loc.html) - Accesses a group of rows and columns by labels or a boolean array.\n",
    "* [`DataFrame.iloc[]`](https://pandas.pydata.org/docs/reference/api/pandas.DataFrame.iloc.html) - Accesses a group of rows and columns by integer indices (e.g. `car_sales.iloc[0]` shows all the columns from index `0`.\n",
    "* [`DataFrame.columns`](https://pandas.pydata.org/docs/reference/api/pandas.DataFrame.columns.html) -  Lists the column labels of the DataFrame.\n",
    "* `DataFrame['A']` - Selects the column named `'A'` from the DataFrame.\n",
    "* `DataFrame[DataFrame['A'] > 5]` - Boolean indexing filters rows based on column values meeting a condition (e.g. all rows from column `'A'` greater than `5`.\n",
    "* [`DataFrame.plot()`](https://pandas.pydata.org/docs/reference/api/pandas.DataFrame.plot.html) - Creates a line plot of a DataFrame's columns (e.g. plot `Make` vs. `Odometer (KM)` columns with `car_sales[[\"Make\", \"Odometer (KM)\"]].plot();`).\n",
    "* [`DataFrame.hist()`](https://pandas.pydata.org/docs/reference/api/pandas.DataFrame.hist.html) - Generates histograms for columns in a DataFrame.\n",
    "* [`pandas.crosstab()`](https://pandas.pydata.org/docs/reference/api/pandas.crosstab.html) - Computes a cross-tabulation of two or more factors.\n",
    "\n",
    "In practice, you'll constantly be making changes to your data, and viewing it. Changing it, viewing it, changing it, viewing it.\n",
    "\n",
    "You won't always want to change all of the data in your `DataFrame`'s either. So there are just as many different ways to select data as there is to view it.\n",
    "\n",
    "`.head()` allows you to view the first 5 rows of your `DataFrame`. You'll likely be using this one a lot."
   ]
  },
  {
   "cell_type": "code",
   "execution_count": null,
   "metadata": {
    "id": "3Mwfi1jFs3_j"
   },
   "outputs": [],
   "source": [
    "# Show the first 5 rows of car_sales\n",
    "car_sales.head()"
   ]
  },
  {
   "cell_type": "markdown",
   "metadata": {
    "id": "4xr0-YkZs3_j"
   },
   "source": [
    "Why 5 rows? Good question. I don't know the answer. But 5 seems like a good amount.\n",
    "\n",
    "Want more than 5?\n",
    "\n",
    "No worries, you can pass `.head()` an integer to display more than or less than 5 rows."
   ]
  },
  {
   "cell_type": "code",
   "execution_count": null,
   "metadata": {
    "id": "zB5tpvgRs3_j"
   },
   "outputs": [],
   "source": [
    "# Show the first 7 rows of car_sales\n",
    "car_sales.head(7)"
   ]
  },
  {
   "cell_type": "markdown",
   "metadata": {
    "id": "AaUu4urVs3_k"
   },
   "source": [
    "`.tail()` allows you to see the bottom 5 rows of your `DataFrame`. This is helpful if your changes are influencing the bottom rows of your data."
   ]
  },
  {
   "cell_type": "code",
   "execution_count": null,
   "metadata": {
    "id": "rAnzzeHss3_k"
   },
   "outputs": [],
   "source": [
    "# Show bottom 5 rows of car_sales\n",
    "car_sales.tail()"
   ]
  },
  {
   "cell_type": "markdown",
   "metadata": {
    "id": "zhqDMVRAs3_k"
   },
   "source": [
    "You can use `.loc[]` and `.iloc[]` to select data from your `Series` and `DataFrame`'s.\n",
    "\n",
    "Let's see."
   ]
  },
  {
   "cell_type": "code",
   "execution_count": null,
   "metadata": {
    "id": "viauJ9lCs3_k"
   },
   "outputs": [],
   "source": [
    "# Create a sample series\n",
    "animals = pd.Series([\"cat\", \"dog\", \"bird\", \"snake\", \"ox\", \"lion\"],\n",
    "                    index=[0, 3, 9, 8, 67, 3])\n",
    "animals"
   ]
  },
  {
   "cell_type": "markdown",
   "metadata": {
    "id": "ru-McOkps3_k"
   },
   "source": [
    "[`.loc[]`](https://pandas.pydata.org/docs/reference/api/pandas.DataFrame.loc.html) takes an integer or label as input. And it chooses from your `Series` or `DataFrame` whichever index matches the number."
   ]
  },
  {
   "cell_type": "code",
   "execution_count": null,
   "metadata": {
    "id": "V4x-1pVWs3_k"
   },
   "outputs": [],
   "source": [
    "# Select all indexes with 3\n",
    "animals.loc[3]"
   ]
  },
  {
   "cell_type": "code",
   "execution_count": null,
   "metadata": {
    "id": "nO-XaXtCs3_k"
   },
   "outputs": [],
   "source": [
    "# Select index 9\n",
    "animals.loc[9]"
   ]
  },
  {
   "cell_type": "markdown",
   "metadata": {
    "id": "HZcS1No9s3_k"
   },
   "source": [
    "Let's try with our `car_sales` DataFrame."
   ]
  },
  {
   "cell_type": "code",
   "execution_count": null,
   "metadata": {
    "id": "ZWOao9k-s3_k"
   },
   "outputs": [],
   "source": [
    "car_sales"
   ]
  },
  {
   "cell_type": "code",
   "execution_count": null,
   "metadata": {
    "id": "hl06JrHvs3_l"
   },
   "outputs": [],
   "source": [
    "# Select row at index 3\n",
    "car_sales.loc[3]"
   ]
  },
  {
   "cell_type": "markdown",
   "metadata": {
    "id": "rRviIsR3s3_l"
   },
   "source": [
    "[`iloc[]`](https://pandas.pydata.org/docs/reference/api/pandas.DataFrame.iloc.html) does a similar thing but works with exact positions.\n"
   ]
  },
  {
   "cell_type": "code",
   "execution_count": null,
   "metadata": {
    "id": "fvewXAY5s3_l"
   },
   "outputs": [],
   "source": [
    "animals"
   ]
  },
  {
   "cell_type": "code",
   "execution_count": null,
   "metadata": {
    "id": "uEtiWfcts3_l"
   },
   "outputs": [],
   "source": [
    "# Select row at position 3\n",
    "animals.iloc[3]"
   ]
  },
  {
   "cell_type": "markdown",
   "metadata": {
    "id": "mhlx8O3ls3_l"
   },
   "source": [
    "Even though `'snake'` appears at index 8 in the series, it's shown using `.iloc[3]` because it's at the 3rd (starting from 0) position.\n",
    "\n",
    "Let's try with the `car_sales` `DataFrame`."
   ]
  },
  {
   "cell_type": "code",
   "execution_count": null,
   "metadata": {
    "id": "mKvqU1Ins3_l"
   },
   "outputs": [],
   "source": [
    "# Select row at position 3\n",
    "car_sales.iloc[3]"
   ]
  },
  {
   "cell_type": "markdown",
   "metadata": {
    "id": "BLKkrhj2s3_l"
   },
   "source": [
    "You can see it's the same as `.loc[]` because the index is in order, position 3 is the same as index 3.\n",
    "\n",
    "You can also use slicing with `.loc[]` and `.iloc[]`."
   ]
  },
  {
   "cell_type": "code",
   "execution_count": null,
   "metadata": {
    "id": "f2YUf_7zs3_l"
   },
   "outputs": [],
   "source": [
    "# Get all rows up to position 3\n",
    "animals.iloc[:3]"
   ]
  },
  {
   "cell_type": "code",
   "execution_count": null,
   "metadata": {
    "id": "-ccso0fFs3_l"
   },
   "outputs": [],
   "source": [
    "# Get all rows up to (and including) index 3\n",
    "car_sales.loc[:3]"
   ]
  },
  {
   "cell_type": "code",
   "execution_count": null,
   "metadata": {
    "id": "4ZpblqUns3_m"
   },
   "outputs": [],
   "source": [
    "# Get all rows of the \"Color\" column\n",
    "car_sales.loc[:, \"Color\"] # note: \":\" stands for \"all\", e.g. \"all indices in the first axis\""
   ]
  },
  {
   "cell_type": "markdown",
   "metadata": {
    "id": "27vMwwFys3_m"
   },
   "source": [
    "When should you use `.loc[]` or `.iloc[]`?\n",
    "* Use `.loc[]` when you're selecting rows and columns **based on their lables or a condition** (e.g. retrieving data for specific columns).\n",
    "* Use `.iloc[]` when you're selecting rows and columns **based on their integer index positions** (e.g. extracting the first ten rows regardless of the labels).\n",
    "\n",
    "However, in saying this, it will often take a bit of practice with each of the methods before you figure out which you'd like to use."
   ]
  },
  {
   "cell_type": "markdown",
   "metadata": {
    "id": "SANRcODWs3_m"
   },
   "source": [
    "If you want to select a particular column, you can use `DataFrame.['COLUMN_NAME']`."
   ]
  },
  {
   "cell_type": "code",
   "execution_count": null,
   "metadata": {
    "id": "SDFC8ckis3_m"
   },
   "outputs": [],
   "source": [
    "# Select Make column\n",
    "car_sales['Make']"
   ]
  },
  {
   "cell_type": "code",
   "execution_count": null,
   "metadata": {
    "id": "XNKPi91ds3_m"
   },
   "outputs": [],
   "source": [
    "# Select Color column\n",
    "car_sales['Color']"
   ]
  },
  {
   "cell_type": "markdown",
   "metadata": {
    "id": "TqIi1I5Ds3_m"
   },
   "source": [
    "Boolean indexing works with column selection too. Using it will select the rows which fulfill the condition in the brackets."
   ]
  },
  {
   "cell_type": "code",
   "execution_count": null,
   "metadata": {
    "id": "WMfxYioUs3_m"
   },
   "outputs": [],
   "source": [
    "# Select cars with over 100,000 on the Odometer\n",
    "car_sales[car_sales[\"Odometer (KM)\"] > 100000]"
   ]
  },
  {
   "cell_type": "code",
   "execution_count": null,
   "metadata": {
    "id": "I8MBnTAhs3_m"
   },
   "outputs": [],
   "source": [
    "# Select cars which are made by Toyota\n",
    "car_sales[car_sales[\"Make\"] == \"Toyota\"]"
   ]
  },
  {
   "cell_type": "markdown",
   "metadata": {
    "id": "3Ewy2stcs3_m"
   },
   "source": [
    "`pd.crosstab()` is a great way to view two different columns together and compare them."
   ]
  },
  {
   "cell_type": "code",
   "execution_count": null,
   "metadata": {
    "id": "3Bso5oM2s3_m"
   },
   "outputs": [],
   "source": [
    "# Compare car Make with number of Doors\n",
    "pd.crosstab(car_sales[\"Make\"], car_sales[\"Doors\"])"
   ]
  },
  {
   "cell_type": "markdown",
   "metadata": {
    "id": "fNI-NZ_xs3_n"
   },
   "source": [
    "If you want to compare more columns in the context of another column, you can use `.groupby()`."
   ]
  },
  {
   "cell_type": "code",
   "execution_count": null,
   "metadata": {
    "id": "Amb_g2_ws3_n"
   },
   "outputs": [],
   "source": [
    "car_sales"
   ]
  },
  {
   "cell_type": "code",
   "execution_count": null,
   "metadata": {
    "id": "Hx4BPT3is3_n"
   },
   "outputs": [],
   "source": [
    "# Group by the Make column and find the mean of the other columns\n",
    "car_sales.groupby([\"Make\"]).mean(numeric_only=True)"
   ]
  },
  {
   "cell_type": "markdown",
   "metadata": {
    "id": "svwQcvSxs3_n"
   },
   "source": [
    "pandas even allows for quick plotting of columns so you can see your data visualling. To plot, you'll have to import `matplotlib`. If your plots aren't showing, try running the two lines of code below.\n",
    "\n",
    "`%matplotlib inline` is a special command which tells Jupyter to show your plots. Commands with `%` at the front are called magic commands."
   ]
  },
  {
   "cell_type": "code",
   "execution_count": null,
   "metadata": {
    "id": "viAHbFsEs3_n"
   },
   "outputs": [],
   "source": [
    "# Import matplotlib and tell Jupyter to show plots\n",
    "import matplotlib.pyplot as plt\n",
    "%matplotlib inline"
   ]
  },
  {
   "cell_type": "markdown",
   "metadata": {
    "id": "y9avf-c0s3_n"
   },
   "source": [
    "You can visualize a column by calling `.plot()` on it."
   ]
  },
  {
   "cell_type": "code",
   "execution_count": null,
   "metadata": {
    "id": "AUTjgwqns3_n"
   },
   "outputs": [],
   "source": [
    "car_sales[\"Odometer (KM)\"].plot(); # tip: the \";\" on the end prevents matplotlib from outputing the plot class"
   ]
  },
  {
   "cell_type": "markdown",
   "metadata": {
    "id": "9qdKorvcs3_n"
   },
   "source": [
    "Or compare two columns by passing them as `x` and `y` to `plot()`."
   ]
  },
  {
   "cell_type": "code",
   "execution_count": null,
   "metadata": {
    "id": "umRsori-s3_n"
   },
   "outputs": [],
   "source": [
    "car_sales.plot(x=\"Make\", y=\"Odometer (KM)\");"
   ]
  },
  {
   "cell_type": "markdown",
   "metadata": {
    "id": "YAHRnyNas3_n"
   },
   "source": [
    "You can see the distribution of a column by calling `.hist()` on you.\n",
    "\n",
    "The distribution of something is a way of describing the spread of different values."
   ]
  },
  {
   "cell_type": "code",
   "execution_count": null,
   "metadata": {
    "id": "rV5W93KYs3_n"
   },
   "outputs": [],
   "source": [
    "car_sales[\"Odometer (KM)\"].hist()"
   ]
  },
  {
   "cell_type": "markdown",
   "metadata": {
    "id": "X_yl6Zhzs3_o"
   },
   "source": [
    "In this case, the majority of the **distribution** (spread) of the `\"Odometer (KM)\"` column is more towards the left of the graph. And there are two values which are more to the right. These two values to the right could be considered **outliers** (not part of the majority).\n",
    "\n",
    "Now what if we wanted to plot our `\"Price\"` column?\n",
    "\n",
    "Let's try."
   ]
  },
  {
   "cell_type": "code",
   "execution_count": null,
   "metadata": {
    "id": "el2E3MDBs3_o"
   },
   "outputs": [],
   "source": [
    "car_sales[\"Price\"].plot()"
   ]
  },
  {
   "cell_type": "markdown",
   "metadata": {
    "id": "r1OptUu_s3_o"
   },
   "source": [
    "Trying to run it leaves us with an error. This is because the `\"Price\"` column of `car_sales` isn't in numeric form. We can tell this because of the `TypeError: no numeric data to plot` at the bottom of the cell.\n",
    "\n",
    "We can check this with `.info()`."
   ]
  },
  {
   "cell_type": "code",
   "execution_count": null,
   "metadata": {
    "id": "IoSbLi3Us3_o"
   },
   "outputs": [],
   "source": [
    "car_sales.info()"
   ]
  },
  {
   "cell_type": "markdown",
   "metadata": {
    "id": "VRs8d0JZs3_o"
   },
   "source": [
    "So what can we do?\n",
    "\n",
    "We need to convert the `\"Price\"` column to a numeric type.\n",
    "\n",
    "How?\n",
    "\n",
    "We could try a few different things on our own. But let's practice researching with Kisha.\n",
    "\n",
    "What's important in the beginning is not to remember every single detail off by heart but to know where to look. Remember, if in doubt, write code, run it, see what happens.\n",
    "\n",
    "Answer code: ```dataframe['amount'] = dataframe['amount'].str.replace('[\\$\\,\\.]', '').astype(int)```\n",
    "\n",
    "There's a lot going on here but what we can do is change the parts which aren't in our problem and keep the rest the same.\n",
    "\n",
    "Our `DataFrame` is called `car_sales` not `dataframe`.\n",
    "\n",
    "```car_sales['amount'] = car_sales['amount'].str.replace('[\\$\\,\\.]', '').astype(int)```\n",
    "\n",
    "And our `'amount'` column is called `\"Price\"`.\n",
    "\n",
    "```car_sales[\"Price\"] = car_sales[\"Price\"].str.replace('[\\$\\,\\.]', '').astype(int)```\n",
    "\n",
    "That looks better. What the code on the right of `car_sales[\"Price\"]` is saying is \"remove the $ sign and comma and change the type of the cell to int\".\n",
    "\n",
    "Let's see what happens."
   ]
  },
  {
   "cell_type": "code",
   "execution_count": null,
   "metadata": {
    "id": "sCHG0Xwis3_o"
   },
   "outputs": [],
   "source": [
    "# Change Price column to integers\n",
    "car_sales[\"Price\"] = car_sales[\"Price\"].str.replace('[\\$\\,\\.]', '', regex=True)\n",
    "car_sales"
   ]
  },
  {
   "cell_type": "markdown",
   "metadata": {
    "id": "w9yxhljMs3_o"
   },
   "source": [
    "Cool! but there are extra zeros in the `Price` column.\n",
    "\n",
    "Let's remove it."
   ]
  },
  {
   "cell_type": "code",
   "execution_count": null,
   "metadata": {
    "id": "85SfLE2qs3_o"
   },
   "outputs": [],
   "source": [
    "# Remove 2 extra zeros from the price column (2200000 -> 22000) by indexing all but the last two digits\n",
    "car_sales[\"Price\"] = car_sales[\"Price\"].str[:-2].astype(int)\n",
    "car_sales"
   ]
  },
  {
   "cell_type": "code",
   "execution_count": null,
   "metadata": {
    "id": "4uBAY5Gcs3_o"
   },
   "outputs": [],
   "source": [
    "car_sales.dtypes"
   ]
  },
  {
   "cell_type": "markdown",
   "metadata": {
    "id": "l8A460DAs3_o"
   },
   "source": [
    "Beautiful! Now let's try to plot it agian."
   ]
  },
  {
   "cell_type": "code",
   "execution_count": null,
   "metadata": {
    "id": "yfNdItV_s3_p"
   },
   "outputs": [],
   "source": [
    "car_sales[\"Price\"].plot();"
   ]
  },
  {
   "cell_type": "markdown",
   "metadata": {
    "id": "7hgM2Zcss3_p"
   },
   "source": [
    "This is one of the many ways you can manipulate data using pandas.\n",
    "\n",
    "When you see a number of different functions in a row, it's referred to as **chaining**. This means you add together a series of functions all to do one overall task.\n",
    "\n",
    "Let's see a few more ways of manipulating data."
   ]
  },
  {
   "cell_type": "markdown",
   "metadata": {
    "id": "U2cMUGbQs3_p"
   },
   "source": [
    "## 6. Manipulating data\n",
    "\n",
    "You've seen an example of one way to manipulate data but pandas has many more.\n",
    "\n",
    "How many more?\n",
    "\n",
    "Put it this way, if you can imagine it, chances are, pandas can do it.\n",
    "\n",
    "Let's start with string methods. Because pandas is based on Python, however you can manipulate strings in Python, you can do the same in pandas.\n",
    "\n",
    "You can access the string value of a column using `.str`. Knowing this, how do you think you'd set a column to lowercase?"
   ]
  },
  {
   "cell_type": "code",
   "execution_count": null,
   "metadata": {
    "id": "XwUo5nihs3_p"
   },
   "outputs": [],
   "source": [
    "# Lower the Make column\n",
    "car_sales[\"Make\"].str.lower()"
   ]
  },
  {
   "cell_type": "markdown",
   "metadata": {
    "id": "oGw1UWWBs3_p"
   },
   "source": [
    "Notice how it doesn't change the values of the original `car_sales` `DataFrame` unless we set it equal to."
   ]
  },
  {
   "cell_type": "code",
   "execution_count": null,
   "metadata": {
    "id": "MtjxbGjVs3_p"
   },
   "outputs": [],
   "source": [
    "# View top 5 rows, Make column not lowered\n",
    "car_sales.head()"
   ]
  },
  {
   "cell_type": "code",
   "execution_count": null,
   "metadata": {
    "id": "owcxa6Yss3_p"
   },
   "outputs": [],
   "source": [
    "# Set Make column to be lowered\n",
    "car_sales[\"Make\"] = car_sales[\"Make\"].str.lower()\n",
    "car_sales.head()"
   ]
  },
  {
   "cell_type": "markdown",
   "metadata": {
    "id": "KAzHicWHs3_p"
   },
   "source": [
    "Reassigning the column changes it in the original `DataFrame`. This trend occurs throughout all kinds of data manipulation with pandas.\n",
    "\n",
    "Some functions have a parameter called `inplace` which means a `DataFrame` is updated in place without having to reassign it.\n",
    "\n",
    "Let's see what it looks like in combination with `.fillna()`, a function which fills missing data. But the thing is, our table isn't missing any data.\n",
    "\n",
    "In practice, it's likely you'll work with datasets which aren't complete. What this means is you'll have to decide whether how to fill the missing data or remove the rows which have data missing.\n",
    "\n",
    "Let's check out what a version of our `car_sales` `DataFrame` might look like with missing values."
   ]
  },
  {
   "cell_type": "code",
   "execution_count": null,
   "metadata": {
    "id": "Q3yTpx1_s3_p"
   },
   "outputs": [],
   "source": [
    "# Import car sales data with missing values from Google Drive\n",
    "car_sales_missing = pd.read_csv(\"https://docs.google.com/spreadsheets/d/1F4HJvPKf9s3FarfN4fyWP2C5RPlmHaUi84BCMjE9l6Y/gviz/tq?tqx=out:csv\")"
   ]
  },
  {
   "cell_type": "markdown",
   "metadata": {
    "id": "W0HQ8HEBs3_p"
   },
   "source": [
    "Missing values are shown by `NaN` in pandas. This can be considered the equivalent of `None` in Python.\n",
    "\n",
    "Let's use the [`.fillna()`](https://pandas.pydata.org/docs/reference/api/pandas.DataFrame.fillna.html) function to fill the `Odometer` column with the average of the other values in the same column."
   ]
  },
  {
   "cell_type": "code",
   "execution_count": null,
   "metadata": {
    "id": "w67IRRsCs3_q"
   },
   "outputs": [],
   "source": [
    "# Fill Odometer column missing values with mean\n",
    "car_sales_missing[\"Odometer\"].fillna(car_sales_missing[\"Odometer\"].mean(),\n",
    "                                     inplace=False) # inplace is set to False by default"
   ]
  },
  {
   "cell_type": "markdown",
   "metadata": {
    "id": "cMhQnKE6s3_q"
   },
   "source": [
    "Now let's check the original `car_sales_missing` `DataFrame`."
   ]
  },
  {
   "cell_type": "code",
   "execution_count": null,
   "metadata": {
    "id": "A1-TfkXys3_q"
   },
   "outputs": [],
   "source": [
    "car_sales_missing"
   ]
  },
  {
   "cell_type": "markdown",
   "metadata": {
    "id": "6QDjFbrls3_q"
   },
   "source": [
    "Because `inplace` is set to `False` (default), there's still missing values in the `\"Odometer\"` column.\n",
    "\n",
    "Instead of using `inplace`, let's resassign the column to the filled version.\n",
    "\n",
    "We'll use the syntax `df[col] = df[col].fillna(value)` to fill the missing values in the `\"Odometer\"` column with the average of the other values in the same column."
   ]
  },
  {
   "cell_type": "code",
   "execution_count": null,
   "metadata": {
    "id": "-6uMDpBVs3_q"
   },
   "outputs": [],
   "source": [
    "# Fill the Odometer missing values to the mean with inplace=True\n",
    "car_sales_missing[\"Odometer\"] = car_sales_missing[\"Odometer\"].fillna(car_sales_missing[\"Odometer\"].mean())"
   ]
  },
  {
   "cell_type": "markdown",
   "metadata": {
    "id": "Khr4ni7rs3_q"
   },
   "source": [
    "Now let's check the `car_sales_missing` `DataFrame` again."
   ]
  },
  {
   "cell_type": "code",
   "execution_count": null,
   "metadata": {
    "id": "w-pfbXPOs3_q"
   },
   "outputs": [],
   "source": [
    "car_sales_missing"
   ]
  },
  {
   "cell_type": "markdown",
   "metadata": {
    "id": "Rznf83OBs3_q"
   },
   "source": [
    "The missing values in the `Odometer` column have been filled with the mean value of the same column.\n",
    "\n",
    "In practice, you might not want to fill a column's missing values with the mean, but this example was to show the difference between `inplace=False` (default) and `inplace=True`.\n",
    "\n",
    "Whichever you choose to use will depend on how you structure your code.\n",
    "\n",
    "All you have to remember is `inplace=False` returns a copy of the `DataFrame` you're working with.\n",
    "\n",
    "This is helpful if you want to make a duplicate of your current `DataFrame` and save it to another variable.\n",
    "\n",
    "Where as, `inplace=True` makes all the changes directly to the target `DataFrame`.\n",
    "\n",
    "We've filled some values but there's still missing values in `car_sales_missing`. Let's say you wanted to remove any rows which had missing data and only work with rows which had complete coverage.\n",
    "\n",
    "You can do this using [`.dropna()`](https://pandas.pydata.org/docs/reference/api/pandas.DataFrame.dropna.html)."
   ]
  },
  {
   "cell_type": "code",
   "execution_count": null,
   "metadata": {
    "id": "FevsqPKfs3_q"
   },
   "outputs": [],
   "source": [
    "# Remove missing data\n",
    "car_sales_missing.dropna()"
   ]
  },
  {
   "cell_type": "markdown",
   "metadata": {
    "id": "uvKhkS2ws3_r"
   },
   "source": [
    "It appears the rows with missing values have been removed, now let's check to make sure."
   ]
  },
  {
   "cell_type": "code",
   "execution_count": null,
   "metadata": {
    "id": "r51CB6nos3_r"
   },
   "outputs": [],
   "source": [
    "car_sales_missing"
   ]
  },
  {
   "cell_type": "markdown",
   "metadata": {
    "id": "8YK2EGeTs3_r"
   },
   "source": [
    "Hmm, they're still there, can you guess why?\n",
    "\n",
    "It's because `.dropna()` has `inplace=False` as default. We can either set `inplace=True` or reassign the `car_sales_missing` `DataFrame`."
   ]
  },
  {
   "cell_type": "code",
   "execution_count": null,
   "metadata": {
    "id": "UUZf3xm_s3_r"
   },
   "outputs": [],
   "source": [
    "# The following two lines do the same thing\n",
    "car_sales_missing.dropna(inplace=True) # Operation happens inplace without reassignment\n",
    "car_sales_missing = car_sales_missing.dropna() # car_sales_missing gets reassigned to same DataFrame but with dropped values"
   ]
  },
  {
   "cell_type": "markdown",
   "metadata": {
    "id": "iUSJDXpbs3_r"
   },
   "source": [
    "Now if check again, the rows with missing values are gone and the index numbers have been updated."
   ]
  },
  {
   "cell_type": "code",
   "execution_count": null,
   "metadata": {
    "id": "wQU98Y-Us3_r"
   },
   "outputs": [],
   "source": [
    "car_sales_missing"
   ]
  },
  {
   "cell_type": "markdown",
   "metadata": {
    "id": "H5kSe4Ris3_r"
   },
   "source": [
    "Instead of removing or filling data, what if you wanted to create it?\n",
    "\n",
    "For example, creating a column called `Seats` for number of seats.\n",
    "\n",
    "pandas allows for simple extra column creation on `DataFrame`'s.\n",
    "\n",
    "Three common ways are:\n",
    "1. Adding a `pandas.Series` as a column.\n",
    "2. Adding a Python list as a column.\n",
    "3. By using existing columns to create a new column."
   ]
  },
  {
   "cell_type": "code",
   "execution_count": null,
   "metadata": {
    "id": "DNyt_2bgs3_r"
   },
   "outputs": [],
   "source": [
    "# Create a column from a pandas Series\n",
    "seats_column = pd.Series([5, 5, 5, 5, 5, 5, 5, 5, 5, 5])\n",
    "car_sales[\"Seats\"] = seats_column\n",
    "car_sales"
   ]
  },
  {
   "cell_type": "markdown",
   "metadata": {
    "id": "e2M7xeB3s3_r"
   },
   "source": [
    "Creating a column is similar to selecting a column, you pass the target `DataFrame` along with a new column name in brackets."
   ]
  },
  {
   "cell_type": "code",
   "execution_count": null,
   "metadata": {
    "id": "YHj9XMJEs3_r"
   },
   "outputs": [],
   "source": [
    "# Create a column from a Python list\n",
    "engine_sizes = [1.3, 2.0, 3.0, 4.2, 1.6, 1, 2.0, 2.3, 2.0, 3.0]\n",
    "car_sales[\"Engine Size\"] = engine_sizes\n",
    "car_sales"
   ]
  },
  {
   "cell_type": "markdown",
   "metadata": {
    "id": "e0T6Hwvls3_r"
   },
   "source": [
    "You can also make a column by directly combining the values of other columns. Such as, price per kilometre on the Odometer."
   ]
  },
  {
   "cell_type": "code",
   "execution_count": null,
   "metadata": {
    "id": "KAt5ZjrOs3_s"
   },
   "outputs": [],
   "source": [
    "# Column from other columns\n",
    "car_sales[\"Price per KM\"] = car_sales[\"Price\"] / car_sales[\"Odometer (KM)\"]\n",
    "car_sales"
   ]
  },
  {
   "cell_type": "markdown",
   "metadata": {
    "id": "IL7_xCA7s3_s"
   },
   "source": [
    "Now can you think why this might not be a great column to add?\n",
    "\n",
    "It could be confusing when a car with less kilometers on the odometer looks to cost more per kilometre than one with more.\n",
    "\n",
    "When buying a car, usually less kilometres on the odometer is better.\n",
    "\n",
    "This kind of column creation is called [**feature engineering**](https://en.wikipedia.org/wiki/Feature_engineering), the practice of enriching your dataset with more information (either from it directly or elsewhere).\n",
    "\n",
    "If `Make`, `Colour`, `Doors` are features of the data, creating `Price per KM` could be another. But in this case, not a very good one.\n",
    "\n",
    "As for column creation, you can also create a new column setting all values to a one standard value."
   ]
  },
  {
   "cell_type": "code",
   "execution_count": null,
   "metadata": {
    "id": "qssZpprds3_s"
   },
   "outputs": [],
   "source": [
    "# Column to all 1 value (number of wheels)\n",
    "car_sales[\"Number of wheels\"] = 4\n",
    "car_sales"
   ]
  },
  {
   "cell_type": "code",
   "execution_count": null,
   "metadata": {
    "id": "dSuCgNxIs3_s"
   },
   "outputs": [],
   "source": [
    "car_sales[\"Passed road safety\"] = True\n",
    "car_sales"
   ]
  },
  {
   "cell_type": "markdown",
   "metadata": {
    "id": "O_W3T-LTs3_s"
   },
   "source": [
    "Now you've created some columns, you decide to show your colleague what you've done. When they ask about the `Price per KM` column, you tell them you're not really sure why it's there.\n",
    "\n",
    "You decide you better remove it to prevent confusion.\n",
    "\n",
    "You can remove a column using [`.drop('COLUMN_NAME', axis=1)`](https://pandas.pydata.org/docs/reference/api/pandas.DataFrame.drop.html)."
   ]
  },
  {
   "cell_type": "code",
   "execution_count": null,
   "metadata": {
    "id": "9sxhJPEvs3_s"
   },
   "outputs": [],
   "source": [
    "# Drop the Price per KM column\n",
    "car_sales = car_sales.drop(\"Price per KM\", axis=1) # columns live on axis 1\n",
    "car_sales"
   ]
  },
  {
   "cell_type": "markdown",
   "metadata": {
    "id": "ulxmvWZms3_s"
   },
   "source": [
    "Why `axis=1`? Because that's the axis columns live on. Rows live on `axis=0`.\n",
    "\n",
    "Let's say you wanted to shuffle the order of your `DataFrame` so you could split it into train, validation and test sets. And even though the order of your samples was random, you wanted to make sure.\n",
    "\n",
    "To do so you could use [`.sample(frac=1)`](https://pandas.pydata.org/docs/reference/api/pandas.DataFrame.sample.html).\n",
    "\n",
    "`.sample()` randomly samples different rows from a `DataFrame`.\n",
    "\n",
    "The `frac` parameter dictates the fraction, where 1 = 100% of rows, 0.5 = 50% of rows, 0.01 = 1% of rows.\n",
    "\n",
    "You can also use `.sample(n=1)` where `n` is the number of rows to sample."
   ]
  },
  {
   "cell_type": "code",
   "execution_count": null,
   "metadata": {
    "id": "dTuY_ZSrs3_s"
   },
   "outputs": [],
   "source": [
    "# Sample car_sales\n",
    "car_sales_sampled = car_sales.sample(frac=1)\n",
    "car_sales_sampled"
   ]
  },
  {
   "cell_type": "markdown",
   "metadata": {
    "id": "K4JnwRdos3_s"
   },
   "source": [
    "Notice how the rows remain intact but their order is mixed (check the indexes).\n",
    "\n",
    "`.sample(frac=X)` is also helpful when you're working with a large `DataFrame`.\n",
    "\n",
    "Say you had 2,000,000 rows.\n",
    "\n",
    "Running tests, analysis and machine learning algorithms on 2,000,000 rows could take a long time. And since being a data scientist or machine learning engineer is about reducing the time between experiments, you might begin with a sample of rows first.\n",
    "\n",
    "For example, you could use `40k_rows = 2_mil_rows.sample(frac=0.05)` to work on 40,000 rows from a `DataFrame` called `2_mil_rows` containing 2,000,000 rows.\n",
    "\n",
    "What if you wanted to get the indexes back in order?\n",
    "\n",
    "You could do so using [`.reset_index()`](https://pandas.pydata.org/docs/reference/api/pandas.DataFrame.reset_index.html)."
   ]
  },
  {
   "cell_type": "code",
   "execution_count": null,
   "metadata": {
    "id": "iWpnxtKKs3_s"
   },
   "outputs": [],
   "source": [
    "# Reset the indexes of car_sales_sampled\n",
    "car_sales_sampled.reset_index()"
   ]
  },
  {
   "cell_type": "markdown",
   "metadata": {
    "id": "b8Y_lR4Ns3_t"
   },
   "source": [
    "Calling `.reset_index()` on a `DataFrame` resets the index numbers to their defaults. It also creates a new `Index` column by default which contains the previous index values.\n",
    "\n",
    "Finally, what if you wanted to apply a function to a column. Such as, converting the `Odometer` column from kilometers to miles.\n",
    "\n",
    "You can do so using the [`.apply()`](https://pandas.pydata.org/docs/reference/api/pandas.DataFrame.apply.html) function and passing it a Python [lambda function](https://www.w3schools.com/python/python_lambda.asp). We know there's about 1.6 kilometers in a mile, so if you divide the value in the `Odometer` column by 1.6, it should convert it to miles."
   ]
  },
  {
   "cell_type": "code",
   "execution_count": null,
   "metadata": {
    "id": "DvjJIFRDs3_t"
   },
   "outputs": [],
   "source": [
    "# Change the Odometer values from kilometres to miles\n",
    "car_sales[\"Odometer (KM)\"].apply(lambda x: x / 1.6)"
   ]
  },
  {
   "cell_type": "markdown",
   "metadata": {
    "id": "YHQq_3Zcs3_t"
   },
   "source": [
    "Now let's check our `car_sales` `DataFrame`."
   ]
  },
  {
   "cell_type": "code",
   "execution_count": null,
   "metadata": {
    "id": "loXX-yais3_t"
   },
   "outputs": [],
   "source": [
    "car_sales"
   ]
  },
  {
   "cell_type": "markdown",
   "metadata": {
    "id": "aOGEXOxis3_t"
   },
   "source": [
    "The `Odometer` column didn't change. Can you guess why?\n",
    "\n",
    "We didn't reassign it."
   ]
  },
  {
   "cell_type": "code",
   "execution_count": null,
   "metadata": {
    "id": "rpEyBGhJs3_t"
   },
   "outputs": [],
   "source": [
    "# Reassign the Odometer column to be miles instead of kilometers\n",
    "car_sales[\"Odometer (KM)\"] = car_sales[\"Odometer (KM)\"].apply(lambda x: x / 1.6)\n",
    "car_sales"
   ]
  },
  {
   "cell_type": "markdown",
   "metadata": {
    "id": "mHXn7lbEs3_t"
   },
   "source": [
    "If you've never seen a lambda function they can be tricky. What the line above is saying is \"take the value in the `Odometer (KM)` column (`x`) and set it to be itself divided by 1.6\"."
   ]
  },
  {
   "cell_type": "markdown",
   "metadata": {
    "id": "3jH2Cz44s3_t"
   },
   "source": [
    "## Summary\n",
    "\n",
    "### Main topics we covered\n",
    "* [Series](https://pandas.pydata.org/pandas-docs/stable/reference/api/pandas.Series.html) - a single column (can be multiple rows) of values.\n",
    "* [DataFrame](https://pandas.pydata.org/pandas-docs/stable/reference/frame.html) - multiple columns/rows of values (a DataFrame is comprised of multiple Series).\n",
    "* [Importing data](https://pandas.pydata.org/pandas-docs/stable/reference/io.html) - we used [`pd.read_csv()`](https://pandas.pydata.org/pandas-docs/stable/reference/api/pandas.read_csv.html#pandas-read-csv) to read in a CSV (comma-separated values) file but there are multiple options for reading data.\n",
    "* [Exporting data](https://pandas.pydata.org/pandas-docs/stable/reference/io.html) - we exported our data using `to_csv()`, however there are multiple methods of exporting data.\n",
    "* [Describing data](https://pandas.pydata.org/docs/reference/api/pandas.DataFrame.describe.html)\n",
    "    * `df.dtypes` - find the datatypes present in a dataframe.\n",
    "    * `df.describe()` - find various numerical features of a dataframe.\n",
    "    * `df.info()` - find the number of rows and whether or not any of them are empty.\n",
    "* [Viewing and selecting data](https://pandas.pydata.org/docs/user_guide/10min.html#viewing-data)\n",
    "    * `df.head()` - view the first 5 rows of `df`.\n",
    "    * `df.loc` & `df.iloc` - select specific parts of a dataframe.\n",
    "    * `df['A']` - select column `A` of `df`.\n",
    "    * `df[df['A'] > 1000]` - selection column `A` rows with values over 1000 of `df`.\n",
    "    * `df['A']` - plot values from column `A` using matplotlib (defaults to line graph).\n",
    "* [Manipulating data and performing operations](https://pandas.pydata.org/docs/user_guide/10min.html#operations) - pandas has many built-in functions you can use to manipulate data, also many of the Python operators (e.g. `+`, `-`, `>`, `==`) work with pandas.\n",
    "\n",
    "### Further reading\n",
    "Since pandas is such a large library, it would be impossible to cover it all in one go.\n",
    "\n",
    "The following are some resources you might want to look into for more.\n",
    "* [Python for Data Analysis by Wes McKinney](https://wesmckinney.com/book/) - possibly the most complete text of the pandas library (apart from the documentation itself) written by the creator of pandas.\n",
    "* [Data Manipulation with Pandas (section of Python Data Science Handbook by Jake VanderPlas)](https://jakevdp.github.io/PythonDataScienceHandbook/03.00-introduction-to-pandas.html) - a very hands-on approach to many of the main functions in the pandas library.  \n",
    "\n",
    "### Exercises\n",
    "After completing this notebook, you next thing should be to try out some more pandas code of your own.\n",
    "\n",
    "I'd suggest at least going through number 1 (write out all the code yourself), a couple from number 2 (again, write out the code yourself) and spend an hour reading number 3 (this is vast but keep it in mind).\n",
    "\n",
    "1. [10-minute introduction to pandas](https://pandas.pydata.org/pandas-docs/stable/user_guide/10min.html) - go through all the functions here and be sure to write out the code yourself.\n",
    "2. [Pandas getting started tutorial](https://pandas.pydata.org/pandas-docs/stable/getting_started/intro_tutorials/index.html) - pick a couple from here which spark your interest and go through them both writing out the code for your self.\n",
    "3. [Pandas essential basic functionality](https://pandas.pydata.org/pandas-docs/stable/user_guide/basics.html) - spend an hour reading this and bookmark it for whenever you need to come back for an overview of pandas."
   ]
  }
 ],
 "metadata": {
  "colab": {
   "include_colab_link": true,
   "provenance": []
  },
  "kernelspec": {
   "display_name": "Python 3 (ipykernel)",
   "language": "python",
   "name": "python3"
  },
  "language_info": {
   "codemirror_mode": {
    "name": "ipython",
    "version": 3
   },
   "file_extension": ".py",
   "mimetype": "text/x-python",
   "name": "python",
   "nbconvert_exporter": "python",
   "pygments_lexer": "ipython3",
   "version": "3.11.9"
  }
 },
 "nbformat": 4,
 "nbformat_minor": 0
}
