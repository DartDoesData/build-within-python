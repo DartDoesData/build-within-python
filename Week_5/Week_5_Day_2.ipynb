{
  "cells": [
    {
      "cell_type": "markdown",
      "metadata": {
        "id": "view-in-github",
        "colab_type": "text"
      },
      "source": [
        "<a href=\"https://colab.research.google.com/github/DartDoesData/build-within-python/blob/main/Week_5_Day_2.ipynb\" target=\"_parent\"><img src=\"https://colab.research.google.com/assets/colab-badge.svg\" alt=\"Open In Colab\"/></a>"
      ]
    },
    {
      "cell_type": "markdown",
      "source": [
        "# 🤖 **More on Large Language Models (LLMs) and OpenAI API**\n",
        "\n",
        "In this lesson, we’ll learn about Large Language Models (LLMs) and explore how to use the OpenAI API. By the end, you'll be able to interact with an AI chatbot, generate structured data, and build fun applications using Python.\n",
        "\n",
        "### Objectives:\n",
        "- Understand what an LLM is and how it works\n",
        "- Learn about the OpenAI API and how to use it with Python\n",
        "- Practice making API requests and handling responses\n",
        "- Build a simple recipe generator using the OpenAI API\n"
      ],
      "metadata": {
        "id": "Eh2xByDwwpBs"
      },
      "id": "Eh2xByDwwpBs"
    },
    {
      "cell_type": "markdown",
      "source": [
        "## 1️⃣ **What is a Large Language Model (LLM)?**\n",
        "\n",
        "A Large Language Model (LLM) is an AI model trained to understand and generate human language. It learns from vast amounts of text data, making it capable of answering questions, generating text, and even assisting with coding.\n",
        "\n",
        "### Key Use Cases for LLMs:\n",
        "- Answering questions\n",
        "- Summarizing articles\n",
        "- Generating creative content (e.g., stories, dialogue)\n",
        "- Coding assistance (e.g., debugging, code suggestions)\n"
      ],
      "metadata": {
        "id": "KGIg5NBFwpBu"
      },
      "id": "KGIg5NBFwpBu"
    },
    {
      "cell_type": "markdown",
      "source": [
        "## 2️⃣ **Overview of the OpenAI API**\n",
        "\n",
        "The OpenAI API allows us to interact with AI models like GPT-4 using a simple request-response model. We send a prompt (input text), and the API returns a response based on the input.\n",
        "\n",
        "### API Documentation:\n",
        "- [OpenAI API Documentation](https://platform.openai.com/docs/introduction)\n",
        "\n",
        "### Available Models:\n",
        "- **GPT-4**: Best for detailed and complex conversations\n",
        "- **GPT-3.5**: Faster and great for general use\n",
        "- **Code models**: Specialized for coding tasks\n"
      ],
      "metadata": {
        "id": "BWRmXCFdwpBu"
      },
      "id": "BWRmXCFdwpBu"
    },
    {
      "cell_type": "markdown",
      "source": [
        "## 3️⃣ **Setting Up Your OpenAI API Key**\n",
        "To use the OpenAI API, you'll need an API key.\n",
        "\n",
        "### Instructions:\n",
        "1. Create an OpenAI account.\n",
        "2. Go to the [API Key page](https://platform.openai.com/account/api-keys) and generate a new API key.\n",
        "3. Please your API key in Google Colab secrets.\n"
      ],
      "metadata": {
        "id": "Eb36vN-swpBv"
      },
      "id": "Eb36vN-swpBv"
    },
    {
      "cell_type": "code",
      "source": [
        "import os\n",
        "from google.colab import userdata\n",
        "\n",
        "# Retrieve the API key from Colab Secrets\n",
        "OPENAI_API_KEY = userdata.get('OPENAI_API_KEY')\n",
        "\n",
        "if OPENAI_API_KEY:\n",
        "  print('API key retrieved from Colab Secrets.')\n",
        "else:\n",
        "  print('API key not found in Colab Secrets. Please add it under \"Secrets\".')"
      ],
      "metadata": {
        "id": "dkCIhJJ4wpBv"
      },
      "execution_count": null,
      "id": "dkCIhJJ4wpBv",
      "outputs": []
    },
    {
      "cell_type": "markdown",
      "source": [
        "# Activity 1: Understanding APIs\n",
        "An API (Application Programming Interface) allows different software applications to communicate with each other. OpenAI's API lets us interact with language models like ChatGPT by sending data (requests) and receiving results (responses).\n",
        "\n",
        "In this activity, we will:\n",
        "1. Learn what an API endpoint is.\n",
        "2. Explore the role of headers in an API call.\n",
        "\n",
        "### Tasks\n",
        "- Identify the endpoint for OpenAI's API.\n",
        "- Understand the `Authorization` and `Content-Type` headers.\n"
      ],
      "metadata": {
        "id": "kh71RPXhjFQh"
      },
      "id": "kh71RPXhjFQh"
    },
    {
      "cell_type": "code",
      "source": [
        "# Task: Identify the API endpoint and headers\n",
        "openai_endpoint = # YOUR CODE HERE\n",
        "headers = # YOUR CODE HERE\n",
        "\n",
        "print(\"API Endpoint:\", openai_endpoint)\n",
        "print(\"Headers:\", headers)\n"
      ],
      "metadata": {
        "id": "BxXcoK7njGYw"
      },
      "id": "BxXcoK7njGYw",
      "execution_count": null,
      "outputs": []
    },
    {
      "cell_type": "markdown",
      "source": [
        "# Activity 2: Getting User Input\n",
        "We can use the `input()` function in Python to collect user input. This input will later be sent as part of our request to OpenAI's API.\n",
        "\n",
        "### Task\n",
        "1. Write a program to capture user input.\n",
        "2. Print the user input to verify.\n"
      ],
      "metadata": {
        "id": "tw5T_7vUjako"
      },
      "id": "tw5T_7vUjako"
    },
    {
      "cell_type": "code",
      "source": [
        "# Task: Capture and print user input\n",
        "user_input = input(\"What would you like to ask OpenAI? \")\n",
        "print(\"You entered:\", user_input)\n"
      ],
      "metadata": {
        "id": "SffMg7xbjbKG"
      },
      "id": "SffMg7xbjbKG",
      "execution_count": null,
      "outputs": []
    },
    {
      "cell_type": "markdown",
      "source": [
        "# Activity 3: Creating the Payload\n",
        "The payload is the data we send to the API. For OpenAI, it includes:\n",
        "- The model we want to use (e.g., `gpt-4o-mini`).\n",
        "- Messages (our input and optionally system instructions).\n",
        "- Settings like `max_tokens`.\n",
        "\n",
        "### Task\n",
        "1. Build a simple payload.\n",
        "2. Modify the payload to include a system message.\n"
      ],
      "metadata": {
        "id": "yklU46pVje54"
      },
      "id": "yklU46pVje54"
    },
    {
      "cell_type": "code",
      "source": [
        "# Task: Create and modify a payload\n",
        "MAX_TOKENS = 100\n",
        "\n",
        "# Your prompt\n",
        "prompt = \"What is the capital of Illinois\"\n",
        "\n",
        "# Basic payload\n",
        "request_payload = # YOUR CODE HERE\n",
        "\n",
        "print(\"Request Payload:\", request_payload)\n"
      ],
      "metadata": {
        "id": "DLWUXZ9xjgYd"
      },
      "id": "DLWUXZ9xjgYd",
      "execution_count": null,
      "outputs": []
    },
    {
      "cell_type": "markdown",
      "source": [
        "# Activity 4: Sending the Request\n",
        "We use the `requests` library to send our payload to the OpenAI API. A POST request sends data to the server and waits for a response.\n",
        "\n",
        "### Task\n",
        "1. Use `requests.post` to send the payload.\n",
        "2. Print the response.\n"
      ],
      "metadata": {
        "id": "CLUuttWzj2_m"
      },
      "id": "CLUuttWzj2_m"
    },
    {
      "cell_type": "code",
      "source": [
        "# Task: Send the request and print the response\n",
        "import requests\n",
        "\n",
        "response = requests.post(openai_endpoint, headers=headers, json=request_payload)\n",
        "\n",
        "if response.status_code == 200:\n",
        "    # YOUR CODE HERE\n",
        "else:\n",
        "    print(f\"Error: {response.status_code} - {response.text}\")\n"
      ],
      "metadata": {
        "id": "mQnhMHb6j3kJ"
      },
      "id": "mQnhMHb6j3kJ",
      "execution_count": null,
      "outputs": []
    },
    {
      "cell_type": "markdown",
      "source": [
        "# Activity 5: Extracting the Response\n",
        "The API returns a JSON object containing the model's reply. We need to navigate the JSON structure to extract the message content.\n",
        "\n",
        "### Task\n",
        "1. Parse the response JSON.\n",
        "2. Extract and print the LLM's reply.\n"
      ],
      "metadata": {
        "id": "mnuUiF1Qj7Z5"
      },
      "id": "mnuUiF1Qj7Z5"
    },
    {
      "cell_type": "code",
      "source": [
        "# Task: Send the request and print the response\n",
        "import requests\n",
        "\n",
        "response = requests.post(openai_endpoint, headers=headers, json=request_payload)\n",
        "\n",
        "if response.status_code == 200:\n",
        "    print(\"Response:\", response.json())\n",
        "else:\n",
        "    print(f\"Error: {response.status_code} - {response.text}\")\n"
      ],
      "metadata": {
        "id": "IA3I5onfj42e"
      },
      "id": "IA3I5onfj42e",
      "execution_count": null,
      "outputs": []
    },
    {
      "cell_type": "markdown",
      "source": [
        "# Activity 6: Handling Errors\n",
        "Sometimes, an API request may fail due to issues like:\n",
        "- Invalid API key\n",
        "- Server downtime\n",
        "- Exceeding the token limit\n",
        "\n",
        "We can handle errors gracefully by checking the status code.\n",
        "\n",
        "### Task\n",
        "1. Simulate an error by using an invalid API key.\n",
        "2. Print a helpful error message.\n"
      ],
      "metadata": {
        "id": "5wcq_PgMkELY"
      },
      "id": "5wcq_PgMkELY"
    },
    {
      "cell_type": "code",
      "source": [
        "# Task: Handle errors\n",
        "headers['Authorization'] = 'Bearer INVALID_API_KEY'  # Simulate an invalid API key\n",
        "\n",
        "response = requests.post(openai_endpoint, headers=headers, json=request_payload)\n",
        "\n",
        "if response.status_code == 200:\n",
        "    response_json = response.json()\n",
        "    llm_response = response_json['choices'][0]['message']['content'].strip()\n",
        "    print(\"LLM Response:\", llm_response)\n",
        "else:\n",
        "    print(f\"Error: {response.status_code} - {response.text}\")\n"
      ],
      "metadata": {
        "id": "2Ti6RhSykBtb"
      },
      "id": "2Ti6RhSykBtb",
      "execution_count": null,
      "outputs": []
    },
    {
      "cell_type": "markdown",
      "source": [
        "# Activity 7: Integrating All Steps\n",
        "Now, let's combine everything into a single program that:\n",
        "1. Captures user input.\n",
        "2. Creates the payload.\n",
        "3. Sends the request.\n",
        "4. Extracts and prints the response.\n",
        "5. Handles errors gracefully.\n",
        "\n",
        "### Task\n",
        "- Run the complete program and test it.\n"
      ],
      "metadata": {
        "id": "B4SyPSb-kKhY"
      },
      "id": "B4SyPSb-kKhY"
    },
    {
      "cell_type": "code",
      "source": [
        "# Final Program\n",
        "import requests\n",
        "\n",
        "# Define constants\n",
        "MAX_TOKENS = 1024\n",
        "openai_endpoint = 'https://api.openai.com/v1/chat/completions'\n",
        "headers = {\n",
        "    'Authorization': f'Bearer {OPENAI_API_KEY}',\n",
        "    'Content-Type': 'application/json'\n",
        "}\n",
        "\n",
        "# Get user input\n",
        "user_input = input(\"What would you like to ask OpenAI? \")\n",
        "\n",
        "# Prepare the payload\n",
        "request_payload = {\n",
        "    'model': 'gpt-3.5-turbo',\n",
        "    'messages': [\n",
        "        {'role': 'system', 'content': 'You are a helpful assistant.'},\n",
        "        {'role': 'user', 'content': user_input}\n",
        "    ],\n",
        "    'max_tokens': MAX_TOKENS\n",
        "}\n",
        "\n",
        "# Send the request\n",
        "response = requests.post(openai_endpoint, headers=headers, json=request_payload)\n",
        "\n",
        "# Handle the response\n",
        "if response.status_code == 200:\n",
        "    response_json = response.json()\n",
        "    llm_response = response_json['choices'][0]['message']['content'].strip()\n",
        "    print(\"LLM Response:\", llm_response)\n",
        "else:\n",
        "    print(f\"Error: {response.status_code} - {response.text}\")\n"
      ],
      "metadata": {
        "id": "MXD5PxKwkLWM"
      },
      "id": "MXD5PxKwkLWM",
      "execution_count": null,
      "outputs": []
    },
    {
      "cell_type": "markdown",
      "source": [
        "## Activity 8 Recipe Generator\n",
        "Build a simple recipe generator using the OpenAI API.\n",
        "\n",
        "### Exercise:\n",
        "- Prompt OpenAI with a meal name (e.g., 'Pasta Carbonara') and return a JSON with the ingredients.\n",
        "- Parse the ingredients into a DataFrame with columns: `item`, `quantity`, `measurement`, `unit`."
      ],
      "metadata": {
        "id": "v0vhMGD9kX3q"
      },
      "id": "v0vhMGD9kX3q"
    },
    {
      "cell_type": "code",
      "source": [
        "import json\n",
        "\n",
        "# Accept dish input from the user\n",
        "meal = input(\"Enter the name of the dish: \")\n",
        "\n",
        "# Define endpoint\n",
        "openai_endpoint = 'https://api.openai.com/v1/chat/completions'\n",
        "\n",
        "# Prepare the request data\n",
        "data = {\n",
        "    'model': 'gpt-3.5-turbo',\n",
        "    'messages': [\n",
        "        {'role': 'user', 'content': f'Provide a recipe for {meal} in JSON format with ingredients.'}\n",
        "    ],\n",
        "    'max_tokens': MAX_TOKENS\n",
        "}\n",
        "\n",
        "# Send the request\n",
        "response = requests.post(openai_endpoint, headers=headers, json=data)\n",
        "\n",
        "# Check for a successful response\n",
        "if response.status_code == 200:\n",
        "    # Process the response - you should have a list of dictionaries for the ingredients\n",
        "\n",
        "    # YOUR CODE HERE\n",
        "\n",
        "# Create a DataFrame from the ingredients\n",
        "# YOUR CODE HERE\n",
        "\n",
        "# List out the instructions in an ordered list\n",
        "# YOUR CODE HERE"
      ],
      "metadata": {
        "id": "UwfzaC_9kYQK"
      },
      "id": "UwfzaC_9kYQK",
      "execution_count": null,
      "outputs": []
    }
  ],
  "metadata": {
    "kernelspec": {
      "display_name": "Python 3",
      "language": "python",
      "name": "python3"
    },
    "language_info": {
      "name": "python",
      "version": "3.8"
    },
    "colab": {
      "provenance": [],
      "include_colab_link": true
    }
  },
  "nbformat": 4,
  "nbformat_minor": 5
}
