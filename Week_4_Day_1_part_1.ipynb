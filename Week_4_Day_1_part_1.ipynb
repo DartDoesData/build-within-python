{
  "cells": [
    {
      "cell_type": "markdown",
      "metadata": {
        "id": "view-in-github",
        "colab_type": "text"
      },
      "source": [
        "<a href=\"https://colab.research.google.com/github/DartDoesData/python-practice/blob/main/Week_4_Day_1_part_1.ipynb\" target=\"_parent\"><img src=\"https://colab.research.google.com/assets/colab-badge.svg\" alt=\"Open In Colab\"/></a>"
      ]
    },
    {
      "cell_type": "markdown",
      "id": "bdaf0eeb",
      "metadata": {
        "id": "bdaf0eeb"
      },
      "source": [
        "# 🐍 **Week 4, Day 1 (part 1): Python Warm Up**\n"
      ]
    },
    {
      "cell_type": "markdown",
      "id": "01b541db",
      "metadata": {
        "id": "01b541db"
      },
      "source": [
        "## 1. **Variables and Assignment Operator**\n",
        "\n",
        "A **variable** is a container for storing data values. Think of it as a label that points to a piece of information. The **assignment operator** (`=`) is used to assign values to variables."
      ]
    },
    {
      "cell_type": "code",
      "execution_count": null,
      "id": "2e0656e8",
      "metadata": {
        "colab": {
          "base_uri": "https://localhost:8080/"
        },
        "id": "2e0656e8",
        "outputId": "b1801fcf-a554-4a0a-ad8a-43d2932281c5"
      },
      "outputs": [
        {
          "output_type": "stream",
          "name": "stdout",
          "text": [
            "Attack Type: DDoS\n",
            "Affected Systems: 5\n",
            "Is Mitigated: False\n"
          ]
        }
      ],
      "source": [
        "# Example: Creating variables related to a cyber attack\n",
        "attack_type = 'DDoS'  # Type of attack\n",
        "affected_systems = 5  # Number of systems affected\n",
        "is_mitigated = False  # Status of mitigation\n",
        "\n",
        "# Print the variables\n",
        "print('Attack Type:', attack_type)\n",
        "print('Affected Systems:', affected_systems)\n",
        "print('Is Mitigated:', is_mitigated)"
      ]
    },
    {
      "cell_type": "markdown",
      "id": "7f6d00a9",
      "metadata": {
        "id": "7f6d00a9"
      },
      "source": [
        "### 💻 **Activity 1**:\n",
        "1. Create variables for a new cyber incident including `incident_type`, `severity_level`, and `is_resolved`.\n",
        "2. Print a summary sentence using these variables.\n",
        "3. Change the value of `is_resolved` to `True` and print the updated status."
      ]
    },
    {
      "cell_type": "code",
      "source": [
        "# YOUR CODE HERE"
      ],
      "metadata": {
        "id": "xW1_ra24Qgll"
      },
      "id": "xW1_ra24Qgll",
      "execution_count": null,
      "outputs": []
    },
    {
      "cell_type": "markdown",
      "id": "fde6ac92",
      "metadata": {
        "id": "fde6ac92"
      },
      "source": [
        "## 2. **Data Types**\n",
        "\n",
        "In Python, data can be of different types. The most common data types are:\n",
        "\n",
        "- **String** (`str`): Text data, enclosed in quotes.\n",
        "- **Integer** (`int`): Whole numbers.\n",
        "- **Float** (`float`): Numbers with decimal points.\n",
        "- **Boolean** (`bool`): Represents `True` or `False`."
      ]
    },
    {
      "cell_type": "code",
      "execution_count": null,
      "id": "3c5e9509",
      "metadata": {
        "colab": {
          "base_uri": "https://localhost:8080/"
        },
        "id": "3c5e9509",
        "outputId": "a9e60a62-33b6-4778-b14b-295a7b19ddcd"
      },
      "outputs": [
        {
          "output_type": "stream",
          "name": "stdout",
          "text": [
            "<class 'str'>\n",
            "<class 'float'>\n",
            "<class 'int'>\n",
            "<class 'bool'>\n"
          ]
        }
      ],
      "source": [
        "# Example: Different data types in cybersecurity context\n",
        "malware_name = 'RansomwareX'  # String\n",
        "detection_rate = 98.7         # Float\n",
        "total_infected = 1500         # Integer\n",
        "is_critical = True            # Boolean\n",
        "\n",
        "# Print the data types\n",
        "print(type(malware_name))\n",
        "print(type(detection_rate))\n",
        "print(type(total_infected))\n",
        "print(type(is_critical))"
      ]
    },
    {
      "cell_type": "markdown",
      "id": "ab1f4657",
      "metadata": {
        "id": "ab1f4657"
      },
      "source": [
        "### 💻 **Activity 2**:\n",
        "1. Create a variable `threat_level` and assign it a string value.\n",
        "2. Create an integer variable `response_time` (in minutes) and a float variable `impact_score`.\n",
        "3. Create a boolean variable `is_under_control` and set it to `False`.\n",
        "4. Print all the variables and their data types using the `type()` function.\n",
        "5. Update `is_under_control` to `True` and print the new value."
      ]
    },
    {
      "cell_type": "code",
      "source": [
        "# YOUR CODE HERE"
      ],
      "metadata": {
        "id": "wo5hetaaQi5D"
      },
      "id": "wo5hetaaQi5D",
      "execution_count": null,
      "outputs": []
    },
    {
      "cell_type": "markdown",
      "id": "c8f24321",
      "metadata": {
        "id": "c8f24321"
      },
      "source": [
        "## 3. **Comments**\n",
        "\n",
        "**Comments** are used to explain code and are ignored by Python when the code is run. Comments start with the `#` symbol."
      ]
    },
    {
      "cell_type": "code",
      "execution_count": null,
      "id": "3c2928d0",
      "metadata": {
        "colab": {
          "base_uri": "https://localhost:8080/"
        },
        "id": "3c2928d0",
        "outputId": "e43407f6-aa77-4dfe-af95-8cf9f67b1a7f"
      },
      "outputs": [
        {
          "output_type": "stream",
          "name": "stdout",
          "text": [
            "Attack Type: Phishing\n"
          ]
        }
      ],
      "source": [
        "# Example: Using comments in a script\n",
        "# Define the type of attack\n",
        "attack_type = 'Phishing'\n",
        "# Print the attack type\n",
        "print('Attack Type:', attack_type)"
      ]
    },
    {
      "cell_type": "markdown",
      "id": "8d9bd1a7",
      "metadata": {
        "id": "8d9bd1a7"
      },
      "source": [
        "### 💻 **Activity 3**:\n",
        "- Write a script with three variables describing a cyber incident (e.g., `incident_name`, `affected_systems`, `is_resolved`).\n",
        "- Add comments explaining each line of code.\n",
        "- Print a message summarizing the incident."
      ]
    },
    {
      "cell_type": "code",
      "source": [
        "# YOUR CODE HERE"
      ],
      "metadata": {
        "id": "2RFos48WQlPj"
      },
      "id": "2RFos48WQlPj",
      "execution_count": null,
      "outputs": []
    },
    {
      "cell_type": "markdown",
      "id": "04001b82",
      "metadata": {
        "id": "04001b82"
      },
      "source": [
        "## 4. **Importing Libraries**\n",
        "\n",
        "In Python, we often use **libraries** (pre-written code) to add extra functionality. You can import a library using the `import` keyword."
      ]
    },
    {
      "cell_type": "code",
      "execution_count": null,
      "id": "c36c923b",
      "metadata": {
        "colab": {
          "base_uri": "https://localhost:8080/"
        },
        "id": "c36c923b",
        "outputId": "760a5ed9-a69d-4a76-e1bb-a3f6ef0dd383"
      },
      "outputs": [
        {
          "output_type": "stream",
          "name": "stdout",
          "text": [
            "Attack Probability: 3.0\n"
          ]
        }
      ],
      "source": [
        "# Example: Using the math library to calculate attack probabilities\n",
        "import math\n",
        "\n",
        "probability = math.sqrt(9)  # Calculate square root\n",
        "print('Attack Probability:', probability)"
      ]
    },
    {
      "cell_type": "markdown",
      "id": "e8c384bb",
      "metadata": {
        "id": "e8c384bb"
      },
      "source": [
        "### 💻 **Activity 4**:\n",
        "1. Import the `random` library.\n",
        "2. Use `random.choice()` to randomly select a cyber threat from a list.\n",
        "3. Print the selected threat.\n",
        "\n",
        "Hint: Look up the documentation for the Python `random` library."
      ]
    },
    {
      "cell_type": "code",
      "source": [
        "# YOUR CODE HERE"
      ],
      "metadata": {
        "id": "LgesMIKNQotH"
      },
      "id": "LgesMIKNQotH",
      "execution_count": null,
      "outputs": []
    }
  ],
  "metadata": {
    "colab": {
      "provenance": [],
      "include_colab_link": true
    },
    "language_info": {
      "name": "python"
    },
    "kernelspec": {
      "name": "python3",
      "display_name": "Python 3"
    }
  },
  "nbformat": 4,
  "nbformat_minor": 5
}