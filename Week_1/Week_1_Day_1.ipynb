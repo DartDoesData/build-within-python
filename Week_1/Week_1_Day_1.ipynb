{
 "cells": [
  {
   "attachments": {},
   "cell_type": "markdown",
   "metadata": {},
   "source": [
    "# Python Overview - Day 1\n",
    "## 📝 Introduction to Python\n",
    "\n",
    "### Goals for today\n",
    "1. Get comfortable with Python and Anaconda\n",
    "2. Overview of Python and the Anaconda environment\n",
    "\n",
    "### What we'll do\n",
    "1. Introduction to Python variables and data types\r\n",
    "2. Writing basic conditional statements (if/else)\r\n",
    "3. Introduction to Pandas: Understanding how to work with data in Python\r\n",
    "4. Anaconda AI Assistant: How to use it for getting str/>\n",
    "\n",
    "<hr/>"
   ]
  },
  {
   "cell_type": "markdown",
   "metadata": {},
   "source": [
    "## 📝 Python Overview\n",
    "Python is a popular programming language used for data manuipulation, integrations, and machine learning. Popular use cases include:\n",
    "* Read and write to files\n",
    "* Connect to databases\n",
    "* API interactions\n",
    "* Server-side data processing \n",
    "* Machine learning\n",
    "\n",
    "\n",
    "### Why use Python?\n",
    "* Python works on different platforms (Windows, Mac, Linux, Raspberry Pi, etc).\n",
    "* It has a simple syntax similar to the English language and allows developers to write programs with fewer lines than some other programming languages.\n",
    "* Python runs on an interpreter system, meaning that code can be executed as soon as it is written. This means that prototyping can be very quick.\n",
    "\n",
    "### Python Syntax\n",
    "* Python was designed for readability, and has some similarities to the English language with influence from mathematics.\n",
    "* Python uses new lines to complete a command, as opposed to other programming languages which often use semicolons or parentheses.\n",
    "* Python relies on indentation, using whitespace, to define scope; such as the scope of loops, functions and classes. Other programming languages often use curly-brackets for this purpose.\n",
    "\n",
    "<hr/>"
   ]
  },
  {
   "cell_type": "markdown",
   "metadata": {},
   "source": [
    "## 📝 Getting Started\n",
    "---\n",
    "### Indentation\n",
    "Indentation refers to the spaces at the beginning of a code line. Python uses indentation to indicate a block of code.\n",
    "\n",
    "```\n",
    "if 1 < 2:\n",
    "    print(\"One is less than two.\")\n",
    "```"
   ]
  },
  {
   "cell_type": "code",
   "execution_count": null,
   "metadata": {},
   "outputs": [],
   "source": [
    "# this print statement is controlled by the code block\n",
    "if 1 < 2:\n",
    "    print(\"One is less than two.\")\n",
    "\n",
    "# this print statement is NOT controlled by the code block\n",
    "print(\"python is great!\")"
   ]
  },
  {
   "cell_type": "code",
   "execution_count": null,
   "metadata": {},
   "outputs": [],
   "source": [
    "current_bal = 500\n",
    "od_pro = True\n",
    "withdrawal_amt = 700\n",
    "\n",
    "if withdrawal_amt <= current_bal:\n",
    "    print('approved')\n",
    "elif od_pro == True:\n",
    "    print('approved w/ OD protection')\n",
    "else:\n",
    "    print('denied')\n",
    "    \n",
    "print('thank you for banking with us')"
   ]
  },
  {
   "cell_type": "markdown",
   "metadata": {},
   "source": [
    "### Comments\n",
    "Comments are helpful for documenting Python code and also to make it more readable. Comments start with a `#` and Python will ignore commented lines during code execution.\n",
    "\n",
    "```\n",
    "#This is a comment\n",
    "print(\"Hello, World!\")\n",
    "```"
   ]
  },
  {
   "cell_type": "code",
   "execution_count": null,
   "metadata": {},
   "outputs": [],
   "source": [
    "# This is a comment\n",
    "print('Hello, World!')\n",
    "print(\"In Chicago, we often use the word ain't to speak to something not being the case.\")"
   ]
  },
  {
   "cell_type": "markdown",
   "metadata": {},
   "source": [
    "### Variables \n",
    "\n",
    "Variables are used to store data values. Unlike other languages, Python has no command for declaring a variable. Variables are created as soon as a value is assigned to them.\n",
    "\n",
    "```\n",
    "name = 'Dartanion'\n",
    "age = 50\n",
    "print(name)\n",
    "print(age)\n",
    "```"
   ]
  },
  {
   "cell_type": "code",
   "execution_count": null,
   "metadata": {},
   "outputs": [],
   "source": [
    "# Good evening {first_name}\n",
    "# Your rating is {rating}\n",
    "\n",
    "name = 'Dartanion'\n",
    "age = 50\n",
    "print(name)\n",
    "print(age)"
   ]
  },
  {
   "cell_type": "code",
   "execution_count": null,
   "metadata": {},
   "outputs": [],
   "source": [
    "# Greet the user and recommend that type of vitamin for them\n",
    "\n",
    "# Output their name\n",
    "# If they are older than 40, recommend centrum silver. otherwise, recommend centrum regular.\n",
    "\n",
    "if age >= 40:\n",
    "    print(f'Hello {name}. Take centrum silver')\n",
    "else:\n",
    "    print(f'Hello {name}. Take centrum copper')"
   ]
  },
  {
   "cell_type": "code",
   "execution_count": null,
   "metadata": {},
   "outputs": [],
   "source": [
    "# Debugging exercise\n",
    "\n",
    "first_name = 'Dartanion\"\n",
    "print(first_name)\n",
    "\n",
    "dollars = '1'\n",
    "cents == .49\n",
    "\n",
    "dollars + cents = total\n",
    "print(total)"
   ]
  },
  {
   "cell_type": "markdown",
   "metadata": {},
   "source": [
    "### Python Data Types\n",
    "\n",
    "Variables can store data of different types, let's go over some of the core data types. Note that there are many more. These are the fundamentals to help get you started.\n",
    "\n",
    "* Text data type: `str`\n",
    "* Numeric data types:\t`int`, `float`\n",
    "* Boolean data type: `bool`\n",
    "* Sequence data types: `list`, `tuple`, `range`\n",
    "\n",
    "Here is a helpful [cheat sheet](https://nbisweden.github.io/workshop-python/img/cheat_sheet.pdf), which provides more context on data types."
   ]
  },
  {
   "cell_type": "markdown",
   "metadata": {},
   "source": [
    "<hr />\n",
    "\n",
    "# Now let's practice!"
   ]
  },
  {
   "cell_type": "markdown",
   "metadata": {},
   "source": [
    "### Practice 1: Create an initial set of variables\n",
    "\n",
    "- Declare and assign values to the `string` varibles, `name` and `desired_job_title`\n",
    "- Declare and assign values to the `float` varibles, `years_of_experience` and `desired_annual_salary` \n",
    "- Print your new variables to the console to test."
   ]
  },
  {
   "cell_type": "code",
   "execution_count": null,
   "metadata": {},
   "outputs": [],
   "source": [
    "# declare variables here\n",
    "name = ''\n",
    "# your code here\n",
    "\n",
    "# print our output here\n",
    "print(name)\n",
    "# your code here"
   ]
  },
  {
   "cell_type": "markdown",
   "metadata": {},
   "source": [
    "\n",
    "### Practice 2: Create an initial set of variables\n",
    "\n",
    "* Create a variable called `desired_hourly_rate`.\n",
    "* Compute it by dividing `desired_annual_salary` by `40` hours per week, and then divide the result by `52` weeks in a year to computer your desired hourly rate.\n",
    "    * HINT: That should look like `(your variable) / 40 / 52`\n",
    "* Print your new variable to the console to test."
   ]
  },
  {
   "cell_type": "code",
   "execution_count": null,
   "metadata": {},
   "outputs": [],
   "source": [
    "# your code here"
   ]
  },
  {
   "cell_type": "markdown",
   "metadata": {},
   "source": [
    "## 📝 If/Else Conditional Statements\n",
    "\n",
    "Python supports the usual logical conditions from mathematics:\n",
    "\n",
    "* Equals: `a == b`\n",
    "* Not Equals: `a != b`\n",
    "* Less than: `a < b`\n",
    "* Less than or equal to: `a <= b`\n",
    "* Greater than: `a > b`\n",
    "* Greater than or equal to: `a >= b`\n",
    "\n",
    "These conditions can be used in several ways, most commonly in \"if statements\" and loops."
   ]
  },
  {
   "cell_type": "code",
   "execution_count": null,
   "metadata": {},
   "outputs": [],
   "source": [
    "amazon_salary = 220000\n",
    "netflix_salary = 264000\n",
    "\n",
    "if amazon_salary > netflix_salary:\n",
    "    print('The salary is higher at Amazon.')"
   ]
  },
  {
   "cell_type": "code",
   "execution_count": null,
   "metadata": {},
   "outputs": [],
   "source": [
    "amazon_salary = 220000\n",
    "netflix_salary = 264000\n",
    "\n",
    "if amazon_salary > netflix_salary:\n",
    "    print('The salary is higher at Amazon.')\n",
    "elif netflix_salary > amazon_salary:\n",
    "    print('The salary is higher at Netflix.')"
   ]
  },
  {
   "cell_type": "code",
   "execution_count": null,
   "metadata": {},
   "outputs": [],
   "source": [
    "amazon_salary = 220000\n",
    "meta_salary = 220000\n",
    "\n",
    "if amazon_salary > meta_salary:\n",
    "    print('The salary is higher at Amazon.')\n",
    "elif meta_salary > amazon_salary:\n",
    "    print('The salary is higher at Meta.')\n",
    "else:\n",
    "    print('Neither is higher.')"
   ]
  },
  {
   "cell_type": "code",
   "execution_count": null,
   "metadata": {},
   "outputs": [],
   "source": [
    "# What is wrong with this block?\n",
    "netflix_salary = 264000\n",
    "google_salary = 250000\n",
    "\n",
    "if netflix_salary > google_salary\n",
    "    print('The salary is higher at Netflix.')\n",
    "elif google_salary > netflix_salary\n",
    "    print('The salary is higher at Google.')\n",
    "else\n",
    "    print('Neither is higher.')"
   ]
  },
  {
   "cell_type": "markdown",
   "metadata": {},
   "source": [
    "## Helpful Reading\n",
    "\n",
    "\n",
    "* [Variables in Python](https://www.w3schools.com/python/python_variables.asp)\n",
    "* [Python data types](https://www.w3schools.com/python/python_datatypes.asp)\n",
    "* [if/elif/else conditional statements](https://www.w3schools.com/python/python_conditions.asp)\n",
    "* [Python input function](https://www.w3schools.com/python/ref_func_input.asp)"
   ]
  },
  {
   "cell_type": "markdown",
   "metadata": {},
   "source": [
    "### Formatting Strings \n",
    "\n",
    "* Python `f` strings make it easy to concatenate strings and incorporating variables using curly braces. \n",
    "* Learn more here on the [RealPython](https://realpython.com/python-f-strings/) tutorial."
   ]
  },
  {
   "cell_type": "code",
   "execution_count": null,
   "metadata": {},
   "outputs": [],
   "source": [
    "name = 'Dartanion'\n",
    "desired_job_title = 'VP of Data Engineering'\n",
    "desired_annual_salary = 900000\n",
    "years_of_experience = 18\n",
    "desired_hourly_rate = desired_annual_salary / 40 / 52"
   ]
  },
  {
   "cell_type": "code",
   "execution_count": null,
   "metadata": {},
   "outputs": [],
   "source": [
    "## Printing to the console, concatenating strings\n",
    "\n",
    "print('My name is ' + name + '. My desired job title is ' + desired_job_title + \n",
    "      ' with an annual salary of ' + str(desired_annual_salary) + ', and an hourly rate of ' + str(desired_hourly_rate) + '.')"
   ]
  },
  {
   "cell_type": "code",
   "execution_count": null,
   "metadata": {},
   "outputs": [],
   "source": [
    "## Printing to the console, with an `f` string\n",
    "\n",
    "print(f'My name is {name}. My desired job title is {desired_job_title} with an annual salary of {desired_annual_salary} and an hourly rate of {desired_hourly_rate}.')"
   ]
  },
  {
   "cell_type": "markdown",
   "metadata": {},
   "source": [
    "### Casting\n",
    "You can specify the data type of a variable through casting.\n",
    "\n",
    "```\n",
    "dollars = int('1')\n",
    "cents = float('.49')\n",
    "```"
   ]
  },
  {
   "cell_type": "code",
   "execution_count": null,
   "metadata": {},
   "outputs": [],
   "source": [
    "dollars = int('1')\n",
    "cents = float('.49')\n",
    "\n",
    "print(dollars + cents)"
   ]
  },
  {
   "cell_type": "markdown",
   "metadata": {},
   "source": [
    "### Checking Data Types\n",
    "You can get the data type of a variable with the `type()` function.\n",
    "\n",
    "```\n",
    "print(type(dollars))\n",
    "print(type(cents))\n",
    "```"
   ]
  },
  {
   "cell_type": "code",
   "execution_count": null,
   "metadata": {},
   "outputs": [],
   "source": [
    "print(type(dollars))\n",
    "print(type(cents))"
   ]
  },
  {
   "cell_type": "markdown",
   "metadata": {},
   "source": [
    "### Python Data Types\n",
    "\n",
    "Variables can store data of different types, let's go over some of the core data types. Note that there are many more. These are the fundamentals to help get you started.\n",
    "\n",
    "* Text data type: `str`\n",
    "* Numeric data types:\t`int`, `float`\n",
    "* Boolean data type: `bool`\n",
    "* Sequence data types: `list`, `tuple`, `range`\n",
    "\n",
    "Here is a helpful [cheat sheet](https://nbisweden.github.io/workshop-python/img/cheat_sheet.pdf), which provides more context on data types."
   ]
  },
  {
   "cell_type": "markdown",
   "metadata": {},
   "source": [
    "## Practice Exercise\n",
    "\n",
    "Given the variables below, complete the following:\n",
    "1. Generate a concatenated string using traditional string concatenation (no `f` string)\n",
    "2. Generate a concatenated string using the `f` string method.\n",
    "\n",
    "Your output should look like this when done.\n",
    "\n",
    "```\n",
    "Williams, Dartanion Deangelo: 250000\n",
    "Williams, Dartanion Deangelo: 250000\n",
    "```\n",
    "\n",
    "The variables are: \n",
    "\n",
    "`first_name: 'Dartanion'` <br/>\n",
    "`middle_name: 'Deangelo'` <br/>\n",
    "`last_name: 'Williams'` <br/>\n",
    "`balance: 250000`"
   ]
  },
  {
   "cell_type": "code",
   "execution_count": null,
   "metadata": {},
   "outputs": [],
   "source": [
    "# PRACTICE EXERCISE\n",
    "# YOUR CODE HERE"
   ]
  },
  {
   "cell_type": "markdown",
   "metadata": {},
   "source": [
    "\n",
    "## 🛠 Using Anaconda AI Assistant for Help with Pandas\n",
    "\n",
    "For the next set of activities, we'll use a sample dataset that tracks service requests for various issues in the city. The dataset contains fields like `ServiceRequestNum`, `SRType`, `CreatedDate`, `Agency`, `ZipCode`, and geographical data.\n",
    "\n",
    "You can use the Anaconda AI Assistant to help you:\n",
    "1. Understand how to filter this data.\n",
    "2. Group and aggregate data by specific columns.\n",
    "3. Perform operations like sorting or merging datasets.\n",
    "\n",
    "For example, try asking:\n",
    "- *\"How do I filter a Pandas DataFrame by a specific column value?\"*\n",
    "- *\"How do I group data in Pandas by multiple columns?\"*\n",
    "\n",
    "Feel free to explore other queries as you work on the exercises below.\n",
    "<hr/>\n"
   ]
  },
  {
   "cell_type": "markdown",
   "metadata": {},
   "source": [
    "## 📊 Pandas Activities: Working with Service Request Data\n",
    "\n",
    "Let's use the following DataFrame to practice working with real-world data using Pandas. \n",
    "\n",
    "We'll perform the following tasks:\n",
    "1. **Loading the Data**: Create a DataFrame similar to the structure shown in the image.\n",
    "2. **Basic Filtering**: Filter the data to show only service requests from a specific agency or SRType.\n",
    "3. **Grouping Data**: Group the data by `Agency` and count the number of service requests for each.\n",
    "4. **Geographical Data**: Extract and work with latitude and longitude to find service requests within a specific area."
   ]
  },
  {
   "cell_type": "code",
   "execution_count": null,
   "metadata": {},
   "outputs": [],
   "source": [
    "# 1. Loading the Data\n",
    "import pandas as pd\n",
    "\n",
    "df = pd.read_excel('311_sample.xlsx')\n",
    "df.fillna('')\n",
    "df.head()"
   ]
  },
  {
   "cell_type": "code",
   "execution_count": null,
   "metadata": {},
   "outputs": [],
   "source": [
    "# 2. Basic Filtering\n",
    "\n",
    "filtered_df = df[df['Agency'].str.contains('Solid Waste')]\n",
    "filtered_df.head()\n"
   ]
  },
  {
   "cell_type": "markdown",
   "metadata": {},
   "source": [
    "### 3. Grouping Data\n",
    "- Group the DataFrame by `Agency` and count the number of service requests.\n",
    "```python\n",
    "agency_group = df.groupby('Agency')['ServiceRequestNum'].count()\n",
    "print(agency_group)\n",
    "```"
   ]
  },
  {
   "cell_type": "markdown",
   "metadata": {},
   "source": [
    "### 4. Working with Geographical Data\n",
    "- Extract the service requests that are within a latitude range of 39.29 to 39.32.\n",
    "```python\n",
    "geo_filtered_df = df[(df['Latitude'] >= 39.29) & (df['Latitude'] <= 39.32)]\n",
    "print(geo_filtered_df)\n",
    "```<hr/>"
   ]
  },
  {
   "cell_type": "code",
   "execution_count": null,
   "metadata": {},
   "outputs": [],
   "source": []
  }
 ],
 "metadata": {
  "kernelspec": {
   "display_name": "Python 3 (ipykernel)",
   "language": "python",
   "name": "python3"
  },
  "language_info": {
   "codemirror_mode": {
    "name": "ipython",
    "version": 3
   },
   "file_extension": ".py",
   "mimetype": "text/x-python",
   "name": "python",
   "nbconvert_exporter": "python",
   "pygments_lexer": "ipython3",
   "version": "3.12.4"
  }
 },
 "nbformat": 4,
 "nbformat_minor": 4
}
