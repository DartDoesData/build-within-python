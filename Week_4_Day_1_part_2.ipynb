{
  "cells": [
    {
      "cell_type": "markdown",
      "metadata": {
        "id": "view-in-github",
        "colab_type": "text"
      },
      "source": [
        "<a href=\"https://colab.research.google.com/github/DartDoesData/python-practice/blob/main/Week_4_Day_1_part_2.ipynb\" target=\"_parent\"><img src=\"https://colab.research.google.com/assets/colab-badge.svg\" alt=\"Open In Colab\"/></a>"
      ]
    },
    {
      "cell_type": "markdown",
      "id": "205a7dbe",
      "metadata": {
        "id": "205a7dbe"
      },
      "source": [
        "# 🗂️ **Week 4, Day 1 (part 2): Review of Python Data Structures**\n",
        "\n",
        "In this lesson, we'll dive deeper into Python's core data structures. Understanding these structures is crucial for organizing and manipulating data effectively, especially when working with cybersecurity data.\n",
        "\n",
        "### Topics Covered:\n",
        "1. **Lists**: Ordered, mutable collections of items.\n",
        "2. **Tuples**: Ordered, immutable collections of items.\n",
        "3. **Dictionaries**: Key-value pairs for storing related data.\n",
        "4. **Lists of Dictionaries**\n",
        "5. **Dictionaries of Lists**\n",
        "6. **Looping Through Data Structures**"
      ]
    },
    {
      "cell_type": "markdown",
      "id": "bc88f4eb",
      "metadata": {
        "id": "bc88f4eb"
      },
      "source": [
        "## 1. **Lists**\n",
        "\n",
        "A **list** is an ordered collection of items. Lists are **mutable**, which means you can change their content after creation."
      ]
    },
    {
      "cell_type": "code",
      "execution_count": null,
      "id": "b0c6bf0e",
      "metadata": {
        "id": "b0c6bf0e"
      },
      "outputs": [],
      "source": [
        "# Example: Creating a list of cybersecurity tools\n",
        "tools = ['Wireshark', 'Cloudflare', 'Splunk']\n",
        "print('Cybersecurity Tools:', tools)\n",
        "\n",
        "# Adding a new tool\n",
        "tools.append('Snort')\n",
        "print('Updated Tools List:', tools)\n",
        "\n",
        "# Modifying an item in the list\n",
        "tools[0] = 'Aircrack-ng'\n",
        "print('Modified Tools List:', tools)\n",
        "\n",
        "# Removing the last item\n",
        "tools.pop()\n",
        "print('Final Tools List:', tools)"
      ]
    },
    {
      "cell_type": "markdown",
      "id": "35e25249",
      "metadata": {
        "id": "35e25249"
      },
      "source": [
        "### 💻 **Activity 1**:\n",
        "1. Create a list of your any 3 favorite cybersecurity tools.\n",
        "2. Add two new tools to the list using `.append()` and `.insert()`.\n",
        "3. Remove a tool from the list using `.remove()` and `.pop()`.\n",
        "4. Sort the list in alphabetical order and print it.\n",
        "5. Count the number of tools in the list."
      ]
    },
    {
      "cell_type": "code",
      "source": [
        "# YOUR CODE HERE"
      ],
      "metadata": {
        "id": "YqZnNe_cO4sH"
      },
      "id": "YqZnNe_cO4sH",
      "execution_count": null,
      "outputs": []
    },
    {
      "cell_type": "markdown",
      "id": "44cf80a0",
      "metadata": {
        "id": "44cf80a0"
      },
      "source": [
        "## 2. **Tuples**\n",
        "\n",
        "A **tuple** is an ordered collection of items, similar to a list, but it is **immutable**. This means once a tuple is created, it cannot be modified."
      ]
    },
    {
      "cell_type": "code",
      "execution_count": null,
      "id": "b4753ba9",
      "metadata": {
        "id": "b4753ba9"
      },
      "outputs": [],
      "source": [
        "# Example: Tuple of common port numbers\n",
        "common_ports = (80, 443, 22, 21)\n",
        "print('Common Ports:', common_ports)\n",
        "\n",
        "# Accessing an item in the tuple\n",
        "print('First Port:', common_ports[0])"
      ]
    },
    {
      "cell_type": "markdown",
      "id": "f27f297b",
      "metadata": {
        "id": "f27f297b"
      },
      "source": [
        "### 💻 **Activity 2**:\n",
        "1. Create a tuple with three common DNS server IP addresses (e.g., Google DNS, Cloudflare DNS).\n",
        "2. Print the second IP address.\n",
        "3. Attempt to change one of the IP addresses and observe the error.\n",
        "4. Count the number of elements in the tuple.\n",
        "5. Use tuple unpacking to assign each IP address to a separate variable."
      ]
    },
    {
      "cell_type": "code",
      "source": [
        "# YOUR CODE HERE"
      ],
      "metadata": {
        "id": "_2SG0i0dO7SB"
      },
      "id": "_2SG0i0dO7SB",
      "execution_count": null,
      "outputs": []
    },
    {
      "cell_type": "markdown",
      "id": "53f65d9a",
      "metadata": {
        "id": "53f65d9a"
      },
      "source": [
        "## 3. **Dictionaries**\n",
        "\n",
        "A **dictionary** is a collection of key-value pairs. Each key is unique and used to access the corresponding value."
      ]
    },
    {
      "cell_type": "code",
      "execution_count": null,
      "id": "b2154a3a",
      "metadata": {
        "id": "b2154a3a"
      },
      "outputs": [],
      "source": [
        "# Example: Phishing attack details stored in a dictionary\n",
        "phishing_report = {\n",
        "    'url': 'http://phishingsite.com/login',\n",
        "    'target': 'Online Banking',\n",
        "    'verified': True,\n",
        "    'submission_time': '2024-11-10T14:30:00'\n",
        "}\n",
        "print('Phishing Report:', phishing_report)\n",
        "\n",
        "# Accessing a value\n",
        "print('Target:', phishing_report['target'])"
      ]
    },
    {
      "cell_type": "markdown",
      "id": "e63e7864",
      "metadata": {
        "id": "e63e7864"
      },
      "source": [
        "### 💻 **Activity 3**:\n",
        "1. Create a dictionary representing a DDoS attack report (keys: `ip_address`, `attack_type`, `duration_minutes`).\n",
        "2. Update the `duration_minutes` value and print the updated dictionary.\n",
        "3. Add a new key-value pair for `mitigation_strategy`.\n",
        "4. Print all keys and values using `.keys()` and `.values()` methods.\n",
        "5. Use the `.get()` method to safely access a non-existent key."
      ]
    },
    {
      "cell_type": "code",
      "source": [
        "# YOUR CODE HERE"
      ],
      "metadata": {
        "id": "CEeiGAsBO9rN"
      },
      "id": "CEeiGAsBO9rN",
      "execution_count": null,
      "outputs": []
    },
    {
      "cell_type": "markdown",
      "id": "26205022",
      "metadata": {
        "id": "26205022"
      },
      "source": [
        "## 4. **Lists of Dictionaries**\n",
        "\n",
        "A **list of dictionaries** is a collection where each item is a dictionary. This is useful for storing multiple items with the same structure, such as logs of network scans."
      ]
    },
    {
      "cell_type": "code",
      "execution_count": null,
      "id": "148eb0a5",
      "metadata": {
        "id": "148eb0a5"
      },
      "outputs": [],
      "source": [
        "# Example: Network scan results\n",
        "network_scans = [\n",
        "    {'ip': '192.168.1.1', 'status': 'open', 'service': 'HTTP'},\n",
        "    {'ip': '192.168.1.2', 'status': 'closed', 'service': 'SSH'},\n",
        "    {'ip': '192.168.1.3', 'status': 'open', 'service': 'FTP'}\n",
        "]\n",
        "print('Second Scan Result:', network_scans[1]['service'])\n",
        "\n",
        "# Adding a new scan result\n",
        "network_scans.append({'ip': '192.168.1.4', 'status': 'open', 'service': 'DNS'})\n",
        "print('Updated Network Scans:', network_scans)"
      ]
    },
    {
      "cell_type": "markdown",
      "id": "3ea062f8",
      "metadata": {
        "id": "3ea062f8"
      },
      "source": [
        "### 💻 **Activity 4**:\n",
        "1. Create a list of dictionaries with information about 3 different firewall logs (keys: `timestamp`, `action`, `source_ip`, `destination_ip`).\n",
        "2. Print the `source_ip` of the first log entry.\n",
        "3. Add a new log entry and print the updated list.\n",
        "4. Loop through the list and print the `action` for each log entry.\n",
        "5. Filter the list to show only log entries where the action was `blocked`."
      ]
    },
    {
      "cell_type": "code",
      "source": [
        "# YOUR CODE HERE"
      ],
      "metadata": {
        "id": "XbzYaW1_PEJS"
      },
      "id": "XbzYaW1_PEJS",
      "execution_count": null,
      "outputs": []
    },
    {
      "cell_type": "markdown",
      "id": "7b02cc6a",
      "metadata": {
        "id": "7b02cc6a"
      },
      "source": [
        "## 5. **Dictionaries of Lists**\n",
        "\n",
        "A **dictionary of lists** is a structure where each key has a list as its value. This is useful when grouping multiple items under a single category, such as different types of cyber attacks."
      ]
    },
    {
      "cell_type": "code",
      "execution_count": null,
      "id": "bfcdc93d",
      "metadata": {
        "id": "bfcdc93d"
      },
      "outputs": [],
      "source": [
        "# Example: Categorizing cyber threats\n",
        "cyber_threats = {\n",
        "    'malware': ['Ransomware', 'Adware', 'Spyware'],\n",
        "    'network': ['DDoS', 'Man-in-the-Middle', 'DNS Spoofing'],\n",
        "    'social_engineering': ['Phishing', 'Pretexting', 'Baiting']\n",
        "}\n",
        "print('Network Threats:', cyber_threats['network'])\n",
        "\n",
        "# Adding a new threat\n",
        "cyber_threats['malware'].append('Trojan')\n",
        "print('Updated Malware Threats:', cyber_threats['malware'])"
      ]
    },
    {
      "cell_type": "markdown",
      "id": "f8fe86b2",
      "metadata": {
        "id": "f8fe86b2"
      },
      "source": [
        "### 💻 **Activity 5**:\n",
        "1. Create a dictionary of lists for 3 different cyber response teams (`incident_response`, `threat_hunting`, `forensics`).\n",
        "2. Print the list of members in the `threat_hunting` team.\n",
        "3. Add a new member to the `incident_response` team and print the updated list.\n",
        "4. Loop through the dictionary and print the team name and number of members in each team.\n",
        "5. Find the longest list of members and print the team name."
      ]
    },
    {
      "cell_type": "code",
      "source": [
        "# YOUR CODE HERE"
      ],
      "metadata": {
        "id": "i-t53E1qPGu5"
      },
      "id": "i-t53E1qPGu5",
      "execution_count": null,
      "outputs": []
    },
    {
      "cell_type": "markdown",
      "id": "d757529a",
      "metadata": {
        "id": "d757529a"
      },
      "source": [
        "## 6. **Looping Through Data Structures**\n",
        "\n",
        "Python provides ways to loop through lists, tuples, and dictionaries to access and manipulate their elements."
      ]
    },
    {
      "cell_type": "code",
      "execution_count": null,
      "id": "97834454",
      "metadata": {
        "id": "97834454"
      },
      "outputs": [],
      "source": [
        "# Example: Looping through a list of cybersecurity tools\n",
        "tools = ['Wireshark', 'Nmap', 'Metasploit']\n",
        "for tool in tools:\n",
        "    print('Tool:', tool)\n",
        "\n",
        "# Example: Looping through a dictionary of attack details\n",
        "attack_details = {'type': 'DDoS', 'target': 'Web Server', 'duration_minutes': 120}\n",
        "for key, value in attack_details.items():\n",
        "    print(f'{key}: {value}')"
      ]
    },
    {
      "cell_type": "markdown",
      "id": "00247b22",
      "metadata": {
        "id": "00247b22"
      },
      "source": [
        "### 💻 **Activity 6**:\n",
        "1. Loop through a list of **firewall rules** and print each rule.\n",
        "2. Loop through a dictionary of a **network device’s configuration** (keys: `hostname`, `IP address`, `model`) and print each key-value pair.\n",
        "3. Loop through a list of dictionaries (e.g., the firewall logs from Activity 4) and print the `timestamp` of each blocked log entry.\n",
        "4. Write a loop to find and print the longest service duration in the `attack_details` dictionary.\n",
        "5. Create a nested loop to compare entries in two lists and print any matching items."
      ]
    },
    {
      "cell_type": "code",
      "source": [
        "# YOUR CODE HERE"
      ],
      "metadata": {
        "id": "DsHo4FnGPJrf"
      },
      "id": "DsHo4FnGPJrf",
      "execution_count": null,
      "outputs": []
    }
  ],
  "metadata": {
    "colab": {
      "provenance": [],
      "include_colab_link": true
    },
    "language_info": {
      "name": "python"
    },
    "kernelspec": {
      "name": "python3",
      "display_name": "Python 3"
    }
  },
  "nbformat": 4,
  "nbformat_minor": 5
}