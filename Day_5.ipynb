{
  "nbformat": 4,
  "nbformat_minor": 0,
  "metadata": {
    "colab": {
      "provenance": [],
      "authorship_tag": "ABX9TyMJvTYH3eWGoXwMzSU49+vL",
      "include_colab_link": true
    },
    "kernelspec": {
      "name": "python3",
      "display_name": "Python 3"
    },
    "language_info": {
      "name": "python"
    }
  },
  "cells": [
    {
      "cell_type": "markdown",
      "metadata": {
        "id": "view-in-github",
        "colab_type": "text"
      },
      "source": [
        "<a href=\"https://colab.research.google.com/github/DartDoesData/python-practice/blob/main/Day_5.ipynb\" target=\"_parent\"><img src=\"https://colab.research.google.com/assets/colab-badge.svg\" alt=\"Open In Colab\"/></a>"
      ]
    },
    {
      "cell_type": "code",
      "execution_count": null,
      "metadata": {
        "id": "fbrK6cb_C43V"
      },
      "outputs": [],
      "source": [
        "import pandas as pd\n",
        "import geopandas as gpd"
      ]
    },
    {
      "cell_type": "code",
      "source": [
        "# Preview the DataFrame\n",
        "sr_311_gdf = gpd.read_file('https://services1.arcgis.com/UWYHeuuJISiGmgXx/arcgis/rest/services/311_Customer_Service_Requests_2024/FeatureServer/0/query?outFields=*&where=1%3D1&f=geojson')\n",
        "sr_311_gdf.head()"
      ],
      "metadata": {
        "id": "5h4BKYlQC-vO"
      },
      "execution_count": null,
      "outputs": []
    },
    {
      "cell_type": "code",
      "source": [
        "# Define the path for open 311 service requests\n",
        "sr_311_path = 'https://docs.google.com/spreadsheets/d/1ptZy6JonuS5xHPRfDeAoEiz6PcpWu4_ZI1OcPvfg1GA/gviz/tq?tqx=out:csv'\n",
        "\n",
        "# Read in the 311 service requests\n",
        "sr_311_gdf = pd.read_csv(sr_311_path)"
      ],
      "metadata": {
        "id": "aIyAitX-GY5n"
      },
      "execution_count": null,
      "outputs": []
    },
    {
      "cell_type": "code",
      "source": [
        "open_311_sr_gdf = sr_311_gdf[~sr_311_gdf['SRStatus'].str.contains('Duplicate|Closed', na=False)]\n",
        "open_311_sr_gdf.columns"
      ],
      "metadata": {
        "id": "kV12HaQ7DHro"
      },
      "execution_count": null,
      "outputs": []
    },
    {
      "cell_type": "code",
      "source": [
        "import pandas as pd\n",
        "import folium\n",
        "from folium.plugins import MarkerCluster\n",
        "\n",
        "# Baltimore coordinates\n",
        "baltimore_coords = [39.2904, -76.6122]\n",
        "\n",
        "# Create a map centered on Baltimore\n",
        "map_baltimore = folium.Map(location=baltimore_coords, zoom_start=11)\n",
        "\n",
        "# Create a marker cluster\n",
        "marker_cluster = MarkerCluster().add_to(map_baltimore)\n",
        "\n",
        "# Iterate through the DataFrame and add markers for each service request\n",
        "for index, row in open_311_sr_gdf.iterrows():\n",
        "    try:\n",
        "        latitude = row['Latitude']\n",
        "        longitude = row['Longitude']\n",
        "        if not pd.isnull(latitude) and not pd.isnull(longitude):\n",
        "            folium.Marker(\n",
        "                location=[latitude, longitude],\n",
        "                popup=row['SRType']\n",
        "            ).add_to(marker_cluster)\n",
        "    except KeyError:\n",
        "        print(\"Latitude or Longitude column not found in DataFrame\")\n",
        "\n",
        "# Display the map\n",
        "map_baltimore"
      ],
      "metadata": {
        "id": "0gzjUw8sDcBi"
      },
      "execution_count": null,
      "outputs": []
    },
    {
      "cell_type": "code",
      "source": [
        "import plotly.express as px\n",
        "\n",
        "# Group by SRType and count the number of requests\n",
        "sr_type_counts = open_311_sr_gdf.groupby('SRType')['SRType'].count()\n",
        "\n",
        "# Sort the counts in descending order and select the top 10\n",
        "top_10_sr_types = sr_type_counts.sort_values(ascending=False).head(10)\n",
        "\n",
        "# Create a horizontal bar chart using Plotly Express\n",
        "fig = px.bar(\n",
        "    x=top_10_sr_types.values,\n",
        "    y=top_10_sr_types.index,\n",
        "    orientation='h',\n",
        "    labels={'x': 'Number of Service Requests', 'y': 'Service Request Type'},\n",
        "    title='Top 10 Service Request Types in Baltimore'\n",
        ")\n",
        "\n",
        "# Update layout to show data labels\n",
        "fig.update_traces(texttemplate='%{x}', textposition='outside')\n",
        "fig.update_layout(\n",
        "    xaxis_title='Number of Service Requests',\n",
        "    yaxis_title='Service Request Type'\n",
        ")\n",
        "\n",
        "# Reverse the order of bars to put the highest count at the top\n",
        "fig.update_layout(yaxis={'categoryorder':'total ascending'})\n",
        "\n",
        "fig.show()"
      ],
      "metadata": {
        "id": "AIocigshDuX3"
      },
      "execution_count": null,
      "outputs": []
    },
    {
      "cell_type": "code",
      "source": [
        "import geopandas as gpd\n",
        "\n",
        "neighborhoods_gdf = gpd.read_file('https://geodata.baltimorecity.gov/egis/rest/services/CityView/Neighborhoods/FeatureServer/0/query?outFields=*&where=1%3D1&f=geojson')\n",
        "neighborhoods_gdf.head()"
      ],
      "metadata": {
        "id": "2yNniATXERyK"
      },
      "execution_count": null,
      "outputs": []
    },
    {
      "cell_type": "code",
      "source": [
        "# Join neighborhoods_gdf with open_311_sr_gdf to get a view of service requests by neighborhood"
      ],
      "metadata": {
        "id": "HTQ0UfSHFdIi"
      },
      "execution_count": null,
      "outputs": []
    }
  ]
}