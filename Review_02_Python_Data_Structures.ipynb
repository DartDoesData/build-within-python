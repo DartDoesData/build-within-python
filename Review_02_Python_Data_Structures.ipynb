{
  "cells": [
    {
      "cell_type": "markdown",
      "metadata": {
        "id": "view-in-github",
        "colab_type": "text"
      },
      "source": [
        "<a href=\"https://colab.research.google.com/github/DartDoesData/python-practice/blob/main/Review_02_Python_Data_Structures.ipynb\" target=\"_parent\"><img src=\"https://colab.research.google.com/assets/colab-badge.svg\" alt=\"Open In Colab\"/></a>"
      ]
    },
    {
      "cell_type": "markdown",
      "id": "2f95904a",
      "metadata": {
        "id": "2f95904a"
      },
      "source": [
        "\n",
        "# 🗂️ Review of Python Data Structures\n",
        "\n",
        "In this lesson, we'll dive into Python's core data structures. Understanding these structures is crucial for organizing and manipulating data effectively.\n",
        "\n",
        "### Topics Covered:\n",
        "1. Lists: Ordered, mutable collections of items.\n",
        "2. Tuples: Ordered, immutable collections of items.\n",
        "3. Dictionaries: Key-value pairs for storing related data.\n",
        "4. Lists of Dictionaries\n",
        "5. Dictionaries of Lists\n",
        "6. Looping Through Data Structures\n",
        "\n",
        "Let's get started!\n"
      ]
    },
    {
      "cell_type": "markdown",
      "id": "adc1b7b0",
      "metadata": {
        "id": "adc1b7b0"
      },
      "source": [
        "\n",
        "## 1. Lists\n",
        "\n",
        "A **list** is an ordered collection of items. Lists are **mutable**, which means you can change their content after creation.\n",
        "\n",
        "### Example:\n",
        "```python\n",
        "fruits = [\"apple\", \"banana\", \"cherry\"]\n",
        "print(fruits)\n",
        "fruits.append(\"orange\")  # Adding an item\n",
        "print(fruits)\n",
        "```\n",
        "\n",
        "### Activity:\n",
        "1. Create a list of your favorite foods and print it.\n",
        "2. Add a new food item to the list using `.append()`.\n",
        "3. Change the second item in the list to a different food and print the list again.\n",
        "4. Remove the last item from the list using `.pop()` and print the updated list.\n"
      ]
    },
    {
      "cell_type": "markdown",
      "id": "1eeca505",
      "metadata": {
        "id": "1eeca505"
      },
      "source": [
        "\n",
        "## 2. Tuples\n",
        "\n",
        "A **tuple** is an ordered collection of items, similar to a list, but it is **immutable**. This means that once a tuple is created, it cannot be modified.\n",
        "\n",
        "### Example:\n",
        "```python\n",
        "dimensions = (1920, 1080)\n",
        "print(dimensions)\n",
        "# Attempting to change a value will result in an error\n",
        "# dimensions[0] = 1280  # Uncommenting this line will cause an error\n",
        "```\n",
        "\n",
        "### Activity:\n",
        "1. Create a tuple with the dimensions of your laptop screen (width, height).\n",
        "2. Print the first item in the tuple.\n",
        "3. Try to change a value in the tuple and observe the error.\n"
      ]
    },
    {
      "cell_type": "markdown",
      "id": "c7be46d0",
      "metadata": {
        "id": "c7be46d0"
      },
      "source": [
        "\n",
        "## 3. Dictionaries\n",
        "\n",
        "A **dictionary** is a collection of key-value pairs. Each key is unique, and it is used to access the corresponding value.\n",
        "\n",
        "### Example:\n",
        "```python\n",
        "person = {\"name\": \"Alice\", \"age\": 25, \"city\": \"New York\"}\n",
        "print(person[\"name\"])\n",
        "person[\"age\"] = 26  # Updating a value\n",
        "print(person)\n",
        "```\n",
        "\n",
        "### Activity:\n",
        "1. Create a dictionary for a book with keys: `title`, `author`, and `year`.\n",
        "2. Print the title of the book.\n",
        "3. Update the year of the book and print the updated dictionary.\n",
        "4. Add a new key-value pair for `genre` and print the dictionary.\n"
      ]
    },
    {
      "cell_type": "markdown",
      "id": "08a6525e",
      "metadata": {
        "id": "08a6525e"
      },
      "source": [
        "\n",
        "## 4. Lists of Dictionaries\n",
        "\n",
        "A **list of dictionaries** is a collection where each item is a dictionary. This is useful for storing multiple items with the same structure.\n",
        "\n",
        "### Example:\n",
        "```python\n",
        "students = [\n",
        "    {\"name\": \"Alice\", \"age\": 25},\n",
        "    {\"name\": \"Bob\", \"age\": 30},\n",
        "    {\"name\": \"Charlie\", \"age\": 35}\n",
        "]\n",
        "print(students[1][\"name\"])  # Accessing the name of the second student\n",
        "```\n",
        "\n",
        "### Activity:\n",
        "1. Create a list of dictionaries with information about three different movies (title, director, year).\n",
        "2. Print the title of the second movie.\n",
        "3. Add a new movie to the list and print the updated list.\n"
      ]
    },
    {
      "cell_type": "markdown",
      "id": "8ae49f1d",
      "metadata": {
        "id": "8ae49f1d"
      },
      "source": [
        "\n",
        "## 5. Dictionaries of Lists\n",
        "\n",
        "A **dictionary of lists** is a structure where each key has a list as its value. This is useful when you want to group multiple items under a single category.\n",
        "\n",
        "### Example:\n",
        "```python\n",
        "courses = {\n",
        "    \"math\": [\"Algebra\", \"Geometry\", \"Calculus\"],\n",
        "    \"science\": [\"Physics\", \"Biology\", \"Chemistry\"]\n",
        "}\n",
        "print(courses[\"science\"])  # Output: ['Physics', 'Biology', 'Chemistry']\n",
        "```\n",
        "\n",
        "### Activity:\n",
        "1. Create a dictionary of lists for three types of music genres (e.g., rock, pop, classical).\n",
        "2. Print the list of songs for one of the genres.\n",
        "3. Add a new song to one of the lists and print the updated dictionary.\n"
      ]
    },
    {
      "cell_type": "markdown",
      "id": "beae0098",
      "metadata": {
        "id": "beae0098"
      },
      "source": [
        "\n",
        "## 6. Looping Through Data Structures\n",
        "\n",
        "Python provides ways to loop through lists, tuples, and dictionaries to access and manipulate their elements.\n",
        "\n",
        "### Example (Looping Through a List):\n",
        "```python\n",
        "fruits = [\"apple\", \"banana\", \"cherry\"]\n",
        "for fruit in fruits:\n",
        "    print(fruit)\n",
        "```\n",
        "\n",
        "### Example (Looping Through a Dictionary):\n",
        "```python\n",
        "person = {\"name\": \"Alice\", \"age\": 25, \"city\": \"New York\"}\n",
        "for key, value in person.items():\n",
        "    print(f\"{key}: {value}\")\n",
        "```\n",
        "\n",
        "### Activity:\n",
        "1. Loop through a list of your favorite animals and print each one.\n",
        "2. Loop through a dictionary of a friend's details (name, age, city) and print each key-value pair.\n",
        "3. Loop through a list of dictionaries (created in a previous activity) and print the title of each movie.\n"
      ]
    },
    {
      "cell_type": "markdown",
      "id": "94d8b6c3",
      "metadata": {
        "id": "94d8b6c3"
      },
      "source": []
    }
  ],
  "metadata": {
    "colab": {
      "provenance": [],
      "include_colab_link": true
    }
  },
  "nbformat": 4,
  "nbformat_minor": 5
}