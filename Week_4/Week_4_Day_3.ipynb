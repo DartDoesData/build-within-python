{
  "cells": [
    {
      "cell_type": "markdown",
      "metadata": {
        "id": "view-in-github",
        "colab_type": "text"
      },
      "source": [
        "<a href=\"https://colab.research.google.com/github/DartDoesData/python-practice/blob/main/Week_4_Day_3.ipynb\" target=\"_parent\"><img src=\"https://colab.research.google.com/assets/colab-badge.svg\" alt=\"Open In Colab\"/></a>"
      ]
    },
    {
      "cell_type": "markdown",
      "id": "377cb5ac",
      "metadata": {
        "id": "377cb5ac"
      },
      "source": [
        "\n",
        "# 🛡️ **Week 4, Day 3: Python for Cybersecurity**\n",
        "\n",
        "In this lesson, we will explore how Python can be used for cybersecurity use cases.\n",
        "\n",
        "Python’s data analysis libraries (like Pandas) and its ability to interact with APIs make it a helpful tool for cybersecurity tasks such as detecting phishing attempts, and analyzing malicious activity."
      ]
    },
    {
      "cell_type": "markdown",
      "id": "fc571b48",
      "metadata": {
        "id": "fc571b48"
      },
      "source": [
        "## 🔍 What is PhishTank?\n",
        "\n",
        "[PhishTank](https://phishtank.org/) is a clearinghouse for data and information about phishing. It allows anyone to submit, verify, track, and access phishing data. The data includes details about phishing URLs, verification status, and the target brand being impersonated.\n",
        "\n",
        "PhishTank provides a rich dataset of phishing attempts that have been verified by a community of users. It is a great source of real-world data for practicing cybersecurity analysis and understanding common phishing trends.\n",
        "\n",
        "**Column Definitions**\n",
        "\n",
        "[PhishTank Developer Info](https://phishtank.org/developer_info)\n",
        "1. `phish_id`: The unique ID number for each phishing attempt.\n",
        "2. `phish_detail_url`: A URL with details about the phishing attempt.\n",
        "3. `url`: The actual phishing URL.\n",
        "4. `submission_time`: The date and time the phishing attempt was reported.\n",
        "5. `verified`: Indicates if the phishing attempt was verified (always 'yes' in this dataset).\n",
        "6. `verification_time`: The date and time the phishing attempt was verified.\n",
        "7. `online`: Indicates if the phishing attempt is still online.\n",
        "8. `target`: The name of the company or brand being impersonated.\n"
      ]
    },
    {
      "cell_type": "markdown",
      "id": "caea09dd",
      "metadata": {
        "id": "caea09dd"
      },
      "source": [
        "\n",
        "## 🧠 Lesson 1: Thinking Like an Analyst\n",
        "\n",
        "In cybersecurity, analysts often have to explore the data on their own and ask questions about what insights can be gained. Rarely are they given a detailed list of tasks. Instead, they need to look at the data and think critically about potential analyses.\n",
        "\n",
        "Review the data from the API endpoint to determine analysis use cases."
      ]
    },
    {
      "cell_type": "code",
      "execution_count": null,
      "id": "eebfc36d",
      "metadata": {
        "id": "eebfc36d"
      },
      "outputs": [],
      "source": [
        "import requests\n",
        "import pandas as pd\n",
        "from pprint import pprint\n",
        "\n",
        "# Fetch phishing data from PhishTank\n",
        "phishtank_data_url = 'http://data.phishtank.com/data/online-valid.json'\n",
        "response = requests.get(phishtank_data_url)\n",
        "\n",
        "if(response.status_code == 200):\n",
        "  response_json = response.json()\n",
        "  print(f'API call successful: {response.status_code}')\n",
        "else:\n",
        "  print(f'Error with the PhishTank API: {response.status_code}')\n"
      ]
    },
    {
      "cell_type": "code",
      "source": [
        "# # ALTERNATE METHOD for downloading Phishing data\n",
        "# # If the API call above is not successful\n",
        "\n",
        "# import gdown\n",
        "# import json\n",
        "\n",
        "# # Google Drive file ID\n",
        "# file_id = \"1-gpQvp3iOAgZoflrr8BHKMXIe5Ys6yH6\"\n",
        "\n",
        "# # Download the file using gdown\n",
        "# url = f\"https://drive.google.com/uc?id={file_id}\"\n",
        "# response_json_file = \"phishing_data.json\"\n",
        "# gdown.download(url, response_json_file, quiet=False)\n",
        "\n",
        "# # Load the JSON contents into response_json\n",
        "# with open(response_json_file, 'r') as file:\n",
        "#     response_json = json.load(file)"
      ],
      "metadata": {
        "id": "6H884ASE-RBx"
      },
      "id": "6H884ASE-RBx",
      "execution_count": null,
      "outputs": []
    },
    {
      "cell_type": "code",
      "source": [
        "# Print the response data type\n",
        "print(type(response_json))\n",
        "\n",
        "# Preview the # of responses\n",
        "print(len(response_json))\n",
        "\n",
        "# Preview the response (two records)\n",
        "response_json[:2]"
      ],
      "metadata": {
        "id": "wbVXrbzd95Eg"
      },
      "id": "wbVXrbzd95Eg",
      "execution_count": null,
      "outputs": []
    },
    {
      "cell_type": "code",
      "source": [
        "# Convert this JSON into a DataFrame\n",
        "phishing_df = pd.DataFrame(response_json)\n",
        "\n",
        "# Display the DataFrame\n",
        "display(phishing_df.head())\n",
        "\n",
        "# Get a summary of the dataset\n",
        "phishing_df.info()\n",
        "print(len(phishing_df))"
      ],
      "metadata": {
        "id": "6154yPKvwY7w"
      },
      "id": "6154yPKvwY7w",
      "execution_count": null,
      "outputs": []
    },
    {
      "cell_type": "markdown",
      "id": "61eaf8de",
      "metadata": {
        "id": "61eaf8de"
      },
      "source": [
        "\n",
        "## 📝 Practice exercise 1: Top Targeted Brands\n",
        "\n",
        "One of the key questions we can answer is: **Which brands are most frequently targeted by phishing attacks?**\n",
        "\n",
        "Using your `phishing_df` DataFrame, find the top 20 targets for phishing attacks. Filter out \"other\". In your data set.\n"
      ]
    },
    {
      "cell_type": "code",
      "execution_count": null,
      "id": "f900cb01",
      "metadata": {
        "id": "f900cb01"
      },
      "outputs": [],
      "source": [
        "# Filter out \"Other\" from the 'target' column\n",
        "# YOUR CODE HERE\n",
        "\n",
        "# Get the top 20 most targeted brands\n",
        "# YOUR CODE HERE\n",
        "\n",
        "# Display the results\n",
        "# YOUR CODE HERE"
      ]
    },
    {
      "cell_type": "markdown",
      "id": "85fb74d7",
      "metadata": {
        "id": "85fb74d7"
      },
      "source": [
        "\n",
        "## 📝 Practice exercise 2: Trend of Phishing Activity Over Time\n",
        "\n",
        "Another important analysis involves examining the trend of phishing attempts over time. This can help us identify spikes in phishing activity.\n",
        "\n",
        "Work with \"Kisha\" to create a horizontal bar chart that illustrates phishing trends by week over the past 90 days."
      ]
    },
    {
      "cell_type": "code",
      "execution_count": null,
      "id": "f69fb808",
      "metadata": {
        "id": "f69fb808"
      },
      "outputs": [],
      "source": [
        "# YOUR CODE HERE\n",
        "# Work with \"Kisha\" on this"
      ]
    },
    {
      "cell_type": "markdown",
      "id": "14c2ffcc",
      "metadata": {
        "id": "14c2ffcc"
      },
      "source": [
        "\n",
        "## 📝 Practice exercise 3: Average Time to Verify Phishing Attempts\n",
        "\n",
        "Analyzing the time taken to verify phishing attempts can provide insights into how quickly these threats are identified and addressed.\n",
        "\n",
        "Work with Kisha to calculate the average time (in hours) between the submission of a phishing attempt and its verification."
      ]
    },
    {
      "cell_type": "code",
      "execution_count": null,
      "id": "7accdeb8",
      "metadata": {
        "id": "7accdeb8"
      },
      "outputs": [],
      "source": [
        "# YOUR CODE HERE\n",
        "# Work with \"Kisha\" on this"
      ]
    },
    {
      "cell_type": "markdown",
      "source": [
        "## 📄 Generating Web Content with Kisha\n",
        "\n",
        "We'll use this prompt to generate a data table and horizontal bar chart as an example.\n",
        "\n",
        "First, create a filtered version of the DataFrame.\n",
        "\n",
        "```\n",
        "# Filter out records where 'target' is 'Other' (only for testing)\n",
        "phish_report_df = phishing_df[phishing_df['target'] != 'Other']\n",
        "\n",
        "# Limit the DataFrame to the first 2000 rows (only for testing)\n",
        "phish_report_df = phish_report_df[:2000]\n",
        "\n",
        "# Display the filtered DataFrame\n",
        "phish_report_df.head()\n",
        "```\n",
        "\n",
        "Then Prompt the AI to create a web page using this data.\n",
        "```\n",
        "Generate a full, interactive single web page from the phish_report_df DataFrame using Bootstrap for the UI.\n",
        "\n",
        "The web page should meet the following requirements:\n",
        "1. Data Source: Use the contents of phish_report_df as the data source.\n",
        "2. Paginated Table: Use DataTables from DataTables.net to display phish_report_df in a paginated, searchable, and sortable table.\n",
        "3. Embed data in the web page: Ensure data is embedded in the file and not expected to come from an endpoint.\n",
        "4. Interactive Bar Chart: Use Plotly for a horizontal bar chart that shows the count of records grouped by phish_report_df['target'].\n",
        "5. Elegant UI: Use Bootstrap for styling to create a polished and responsive design.\n",
        "6. Download Option: Save the generated HTML file in Colab and include code to allow downloading it directly to my computer.\n",
        "```"
      ],
      "metadata": {
        "id": "s286z-modfn6"
      },
      "id": "s286z-modfn6"
    },
    {
      "cell_type": "code",
      "source": [
        "# Recreate the phishing_df from the JSON response\n",
        "phishing_df = pd.DataFrame(response_json)\n",
        "\n",
        "# Filter the DataFrame\n",
        "phish_report_df = phishing_df[phishing_df['target'] != 'Other']\n",
        "\n",
        "# Limit the DataFrame to the first 2000 rows (only for testing)\n",
        "phish_report_df = phish_report_df[:2000]\n",
        "\n",
        "# Display the filtered DataFrame\n",
        "phish_report_df.head()"
      ],
      "metadata": {
        "id": "F60xvLfOeuli"
      },
      "id": "F60xvLfOeuli",
      "execution_count": null,
      "outputs": []
    },
    {
      "cell_type": "markdown",
      "source": [
        "Use the cell below for your prompt (use the `generate` option and paste the prompt below)\n",
        "\n",
        "---\n",
        "\n",
        "_Generate a full, interactive single web page from the phish_report_df DataFrame using Bootstrap for the UI._\n",
        "\n",
        "_The web page should meet the following requirements:_\n",
        "1. _Data Source: Use the contents of phish_report_df as the data source._\n",
        "2. _Paginated Table: Use DataTables from DataTables.net to display phish_report_df in a paginated, searchable, and sortable table._\n",
        "3. _Embed data in the web page: Ensure data is embedded in the file and not expected to come from an endpoint._\n",
        "4. _Interactive Bar Chart: Use Plotly for a horizontal bar chart that shows the count of records grouped by phish_report_df['target']._\n",
        "5. _Elegant UI: Use Bootstrap for styling to create a polished and responsive design._\n",
        "6. _Download Option: Save the generated HTML file in Colab and include code to allow downloading it directly to my computer._"
      ],
      "metadata": {
        "id": "gslmz5HLezn0"
      },
      "id": "gslmz5HLezn0"
    },
    {
      "cell_type": "code",
      "source": [],
      "metadata": {
        "id": "pmqEfEAkw_tJ"
      },
      "id": "pmqEfEAkw_tJ",
      "execution_count": null,
      "outputs": []
    }
  ],
  "metadata": {
    "colab": {
      "provenance": [],
      "include_colab_link": true
    },
    "language_info": {
      "name": "python"
    },
    "kernelspec": {
      "name": "python3",
      "display_name": "Python 3"
    }
  },
  "nbformat": 4,
  "nbformat_minor": 5
}