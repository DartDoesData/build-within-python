{
  "cells": [
    {
      "cell_type": "markdown",
      "metadata": {
        "id": "view-in-github",
        "colab_type": "text"
      },
      "source": [
        "<a href=\"https://colab.research.google.com/github/DartDoesData/python-practice/blob/main/Week_3_Day_5.ipynb\" target=\"_parent\"><img src=\"https://colab.research.google.com/assets/colab-badge.svg\" alt=\"Open In Colab\"/></a>"
      ]
    },
    {
      "cell_type": "markdown",
      "id": "cd089405",
      "metadata": {
        "id": "cd089405"
      },
      "source": [
        "\n",
        "# 🍽️ Practice with Loops and Data Structures\n",
        "\n",
        "In this lesson, we’ll practice gathering lunch orders from a group of people using three different approaches in Python.\n",
        "You will prompt the user for their lunch order and store the responses in an empty list.\n",
        "\n",
        "### What We Will Cover:\n",
        "1. **Using Lists**: Looping through names and collecting orders from user input.\n",
        "2. **Using Lists with Indexes**: Using indexes to prompt the user for input.\n",
        "3. **Using Dictionaries**: Using a dictionary to store names and their corresponding orders.\n",
        "\n",
        "We’ll also provide detailed explanations for each step, including how loops, lists, and dictionaries work. Let’s get started!\n"
      ]
    },
    {
      "cell_type": "markdown",
      "id": "d8e4e18d",
      "metadata": {
        "id": "d8e4e18d"
      },
      "source": [
        "\n",
        "## Lesson 1. Using Lists\n",
        "\n",
        "In this approach, we will use an empty list to store lunch orders. You will be prompted to enter an order for each person in the list.\n",
        "\n",
        "### Explanation:\n",
        "1. **`people`**: A list containing the names of the people we need to ask for lunch orders.\n",
        "2. **`orders`**: An empty list that we will fill with user input.\n",
        "3. **Loop**: We’ll use a `for` loop to go through each person in the `people` list and ask for their order.\n",
        "4. **`.append()`**: This method adds the user's input (their order) to the `orders` list.\n",
        "\n",
        "### Example Code:\n",
        "```python\n",
        "# List of people\n",
        "people = [\"Ron\", \"Derek\", \"Idris\", \"Liz\", \"DevonTae\", \"Brian\"]\n",
        "# Empty list to store orders\n",
        "orders = []\n",
        "\n",
        "# Loop through the list of people\n",
        "for person in people:\n",
        "    # Prompt the user for their order\n",
        "    order = input(f\"What would {person} like to order? \")\n",
        "    # Append the order to the orders list\n",
        "    orders.append(order)\n",
        "\n",
        "# Print each person's order\n",
        "for i in range(len(people)):\n",
        "    print(f\"{people[i]} ordered {orders[i]}\")\n",
        "```\n",
        "\n",
        "### Breakdown:\n",
        "1. **`people`**: A list of names.\n",
        "2. **`orders = []`**: An empty list where we will store the orders.\n",
        "3. **`for person in people`**:\n",
        "   - **`for`**: The loop keyword, used to iterate over the list.\n",
        "   - **`person`**: The current name in the loop.\n",
        "   - **`in people`**: This specifies the list we are looping through.\n",
        "4. **`input()`**: Prompts the user to enter a lunch order.\n",
        "5. **`.append(order)`**: Adds the entered order to the `orders` list.\n",
        "6. **`for i in range(len(people))`**:\n",
        "   - **`len(people)`**: Returns the number of names in the `people` list.\n",
        "   - **`range(len(people))`**: Creates a sequence of indexes from `0` to the length of the list minus one.\n",
        "   - **`people[i]`**: Accesses the name at the current index.\n",
        "   - **`orders[i]`**: Accesses the order at the current index.\n",
        "\n",
        "### Activity:\n",
        "1. Create your own list of names.\n",
        "2. Use an empty list for orders and prompt the user for each order.\n",
        "3. Print a message for each person’s order using a loop.\n"
      ]
    },
    {
      "cell_type": "code",
      "source": [
        "# Your code here"
      ],
      "metadata": {
        "id": "5iM6ELzBBKyT"
      },
      "id": "5iM6ELzBBKyT",
      "execution_count": null,
      "outputs": []
    },
    {
      "cell_type": "markdown",
      "id": "8331097a",
      "metadata": {
        "id": "8331097a"
      },
      "source": [
        "\n",
        "## Lesson 2. Using Lists with Indexes\n",
        "\n",
        "In this approach, we will use indexes explicitly to loop through the list and prompt the user for input.\n",
        "\n",
        "### Example Code:\n",
        "```python\n",
        "# List of people\n",
        "people = [\"Ron\", \"Derek\", \"Idris\", \"Liz\", \"DevonTae\", \"Brian\"]\n",
        "# Empty list to store orders\n",
        "orders = []\n",
        "\n",
        "# Loop using indexes\n",
        "for index in range(len(people)):\n",
        "    person = people[index]\n",
        "    # Prompt the user for their order\n",
        "    order = input(f\"What would {person} like to order? \")\n",
        "    # Append the order to the list\n",
        "    orders.append(order)\n",
        "\n",
        "# Print each person's order\n",
        "for index in range(len(people)):\n",
        "    print(f\"{people[index]} ordered {orders[index]}\")\n",
        "```\n",
        "\n",
        "### Breakdown:\n",
        "1. **`for index in range(len(people))`**:\n",
        "   - **`len(people)`**: Returns the length of the list (`6` in this case).\n",
        "   - **`range(len(people))`**: Creates a sequence from `0` to `5` (indexes of the list).\n",
        "   - **`index`**: The current position in the loop.\n",
        "2. **`person = people[index]`**: Retrieves the name at the current index.\n",
        "3. **`input()`**: Prompts the user for their lunch order.\n",
        "4. **`.append(order)`**: Adds the order to the list.\n",
        "5. **`for index in range(len(people))`**: Loops through the indexes again to print the results.\n",
        "\n",
        "### Activity:\n",
        "1. Create your own list of names.\n",
        "2. Use an empty list for orders and prompt the user for each order.\n",
        "3. Print a message for each person’s order using a loop."
      ]
    },
    {
      "cell_type": "code",
      "source": [
        "# Your code here"
      ],
      "metadata": {
        "id": "qK2BjYliBON5"
      },
      "id": "qK2BjYliBON5",
      "execution_count": null,
      "outputs": []
    },
    {
      "cell_type": "markdown",
      "id": "f8256883",
      "metadata": {
        "id": "f8256883"
      },
      "source": [
        "\n",
        "## Lesson 3. Using Dictionaries\n",
        "\n",
        "A **dictionary** allows us to store data as key-value pairs. Here, we will use the names as keys and their orders as values.\n",
        "\n",
        "### Example Code:\n",
        "```python\n",
        "# Empty dictionary to store orders\n",
        "lunch_orders = {}\n",
        "\n",
        "# List of people\n",
        "people = [\"Ron\", \"Derek\", \"Idris\", \"Liz\", \"DevonTae\", \"Brian\"]\n",
        "\n",
        "# Loop through the list and ask for orders\n",
        "for person in people:\n",
        "    order = input(f\"What would {person} like to order? \")\n",
        "    lunch_orders[person] = order\n",
        "\n",
        "# Print each person's order\n",
        "for person, order in lunch_orders.items():\n",
        "    print(f\"{person} ordered {order}\")\n",
        "```\n",
        "\n",
        "### Breakdown:\n",
        "1. **`lunch_orders = {}`**: Creates an empty dictionary.\n",
        "2. **`for person in people`**: Loops through each name in the list.\n",
        "3. **`input()`**: Prompts the user for the order.\n",
        "4. **`lunch_orders[person] = order`**: Stores the order in the dictionary using the person's name as the key.\n",
        "5. **`for person, order in lunch_orders.items()`**:\n",
        "   - **`.items()`**: Returns each key-value pair in the dictionary.\n",
        "   - **`person`**: The current key (name).\n",
        "   - **`order`**: The current value (lunch order).\n",
        "\n",
        "### Activity:\n",
        "1. Create your own dictionary of lunch orders by prompting the user.\n",
        "2. Print the dictionary to see all the orders.\n",
        "3. Add a new order and update an existing one, then print the updated dictionary.\n"
      ]
    },
    {
      "cell_type": "code",
      "source": [
        "# Your code here"
      ],
      "metadata": {
        "id": "ZRqdfLaYBQ8q"
      },
      "id": "ZRqdfLaYBQ8q",
      "execution_count": null,
      "outputs": []
    }
  ],
  "metadata": {
    "colab": {
      "provenance": [],
      "include_colab_link": true
    }
  },
  "nbformat": 4,
  "nbformat_minor": 5
}