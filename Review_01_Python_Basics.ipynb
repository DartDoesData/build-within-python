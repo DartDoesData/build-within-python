{
  "cells": [
    {
      "cell_type": "markdown",
      "metadata": {
        "id": "view-in-github",
        "colab_type": "text"
      },
      "source": [
        "<a href=\"https://colab.research.google.com/github/DartDoesData/python-practice/blob/main/Review_01_Python_Basics.ipynb\" target=\"_parent\"><img src=\"https://colab.research.google.com/assets/colab-badge.svg\" alt=\"Open In Colab\"/></a>"
      ]
    },
    {
      "cell_type": "markdown",
      "id": "d08d96c5",
      "metadata": {
        "id": "d08d96c5"
      },
      "source": [
        "\n",
        "# 🐍 Python Basics: Introduction to Python Programming\n",
        "\n",
        "Welcome to Python Basics! In this lesson, we’ll cover the foundational concepts of Python programming.\n",
        "By the end of this lesson, you’ll be able to:\n",
        "\n",
        "- Understand how Python works.\n",
        "- Use variables and different data types.\n",
        "- Write and execute basic Python code with comments.\n",
        "- Use conditional statements for decision-making.\n",
        "- Understand the importance of indentation and code blocks.\n",
        "\n",
        "Let’s get started!\n"
      ]
    },
    {
      "cell_type": "markdown",
      "id": "539d7e45",
      "metadata": {
        "id": "539d7e45"
      },
      "source": [
        "\n",
        "## 1. Variables and Assignment Operator\n",
        "\n",
        "A **variable** is a container for storing data values. You can think of it as a label that points to a piece of information.\n",
        "The **assignment operator** (`=`) is used to assign values to variables.\n",
        "\n",
        "### Example:\n",
        "```python\n",
        "name = \"Dart\"  # Assigning a string to the variable 'name'\n",
        "age = 25        # Assigning an integer to the variable 'age'\n",
        "```\n",
        "\n",
        "### Activity:\n",
        "- Create variables for a different person, including their `name`, `age`, `height`, and `is_student` status.\n",
        "- Print out a sentence that describes the person using the variables you created.\n"
      ]
    },
    {
      "cell_type": "markdown",
      "id": "7f3b2163",
      "metadata": {
        "id": "7f3b2163"
      },
      "source": [
        "\n",
        "## 2. Data Types\n",
        "\n",
        "In Python, data can be of different types. The most common data types are:\n",
        "\n",
        "- **String** (`str`): Text data, enclosed in quotes.\n",
        "- **Integer** (`int`): Whole numbers.\n",
        "- **Float** (`float`): Numbers with decimal points.\n",
        "- **Boolean** (`bool`): Represents `True` or `False`.\n",
        "\n",
        "### Example:\n",
        "```python\n",
        "text = \"Python is fun\"  # String\n",
        "number = 42             # Integer\n",
        "pi = 3.14               # Float\n",
        "is_active = True        # Boolean\n",
        "```\n",
        "\n",
        "### Activity:\n",
        "1. Create a variable `greeting` and assign it the value `\"Hello, World!\"`.\n",
        "2. Create an integer variable `age` and a float variable `height`.\n",
        "3. Create a boolean variable `is_student` and set it to `True`.\n",
        "4. Print all the variables and their data types using the `type()` function.\n"
      ]
    },
    {
      "cell_type": "markdown",
      "id": "a11c10af",
      "metadata": {
        "id": "a11c10af"
      },
      "source": [
        "\n",
        "## 3. Comments\n",
        "\n",
        "**Comments** are used to explain code and are ignored by Python when the code is run. Comments start with the `#` symbol.\n",
        "\n",
        "### Example:\n",
        "```python\n",
        "# This is a comment\n",
        "name = \"Dart\"  # Assigning the name 'Dart' to the variable 'name'\n",
        "```\n",
        "\n",
        "### Activity:\n",
        "- Write a Python script with at least three lines of code. Add comments explaining what each line does.\n"
      ]
    },
    {
      "cell_type": "markdown",
      "id": "7a7623d0",
      "metadata": {
        "id": "7a7623d0"
      },
      "source": [
        "\n",
        "## 4. Importing Libraries\n",
        "\n",
        "In Python, we often use **libraries** (pre-written code) to add extra functionality. You can import a library using the `import` keyword.\n",
        "\n",
        "### Example:\n",
        "```python\n",
        "import math\n",
        "\n",
        "# Using the math library to calculate the square root\n",
        "result = math.sqrt(16)\n",
        "print(result)\n",
        "```\n",
        "\n",
        "### Activity:\n",
        "1. Import the `random` library.\n",
        "2. Use `random.randint(1, 10)` to generate a random number between 1 and 10.\n",
        "3. Print the generated number.\n"
      ]
    },
    {
      "cell_type": "markdown",
      "id": "51f497c5",
      "metadata": {
        "id": "51f497c5"
      },
      "source": [
        "\n",
        "## 5. Conditional Statements\n",
        "\n",
        "**Conditional statements** are used to make decisions in Python. They include `if`, `elif`, and `else`:\n",
        "\n",
        "### Example:\n",
        "```python\n",
        "age = 18\n",
        "\n",
        "if age >= 18:\n",
        "    print(\"You are an adult.\")\n",
        "elif age >= 13:\n",
        "    print(\"You are a teenager.\")\n",
        "else:\n",
        "    print(\"You are a child.\")\n",
        "```\n",
        "\n",
        "### Activity:\n",
        "1. Create a variable `temperature` and assign it a value.\n",
        "2. Write an `if-elif-else` statement to print:\n",
        "   - `\"It's hot!\"` if `temperature` is above 30.\n",
        "   - `\"It's warm.\"` if `temperature` is between 20 and 30.\n",
        "   - `\"It's cold!\"` if `temperature` is below 20.\n"
      ]
    },
    {
      "cell_type": "markdown",
      "id": "61ebff25",
      "metadata": {
        "id": "61ebff25"
      },
      "source": [
        "\n",
        "## 6. Indentation and Code Blocks\n",
        "\n",
        "**Indentation** is crucial in Python. It’s used to define the scope of code blocks, like in loops and conditional statements.\n",
        "\n",
        "### Example:\n",
        "```python\n",
        "# Correct indentation\n",
        "if True:\n",
        "    print(\"This is inside the if block\")\n",
        "\n",
        "# Incorrect indentation (will cause an error)\n",
        "if True:\n",
        "print(\"This is not indented correctly\")\n",
        "```\n",
        "\n",
        "### Activity:\n",
        "- Write a conditional statement with correct indentation.\n",
        "- Try running a statement with incorrect indentation to see the error.\n"
      ]
    },
    {
      "cell_type": "markdown",
      "id": "694f60fd",
      "metadata": {
        "id": "694f60fd"
      },
      "source": []
    }
  ],
  "metadata": {
    "colab": {
      "provenance": [],
      "include_colab_link": true
    }
  },
  "nbformat": 4,
  "nbformat_minor": 5
}